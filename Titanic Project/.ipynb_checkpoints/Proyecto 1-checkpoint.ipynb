{
 "cells": [
  {
   "cell_type": "markdown",
   "id": "filled-constitutional",
   "metadata": {},
   "source": [
    "<center><img src=\"https://upload.wikimedia.org/wikipedia/commons/thumb/c/ca/Escudo-UNAM-escalable.svg/683px-Escudo-UNAM-escalable.svg.png\" alt=\"\" width=\"200\" algin = \"center\"/></center>\n",
    "<center><img src=\"https://lesaunam.com/wp-content/uploads/2019/01/ENES-logo-02.png\" alt=\"\" width=\"200\"/></center>\n",
    "<center><font size=\"+2\">Tecnologías para la Información en Ciencias</font></center>\n",
    "<center><font size=\"+3\">Introducción a la Ciencia de Datos</font></center>\n",
    "<center><font size=\"+4\">Proyecto 1: Titanic</font></center>\n",
    "<center><font size=\"+2\">Alumno: Juan Pablo Maldonado Castro</font></center>\n",
    "<center><font size=\"+2\">Número de cuenta: 420138620</font></center>\n",
    "<center><font size=\"+2\">Fecha de entrega: 7 de abril de 2021</font></center>\n",
    "\n",
    "    \n"
   ]
  },
  {
   "cell_type": "markdown",
   "id": "isolated-former",
   "metadata": {},
   "source": [
    "# Introducción\n",
    "\n",
    "El objetivo de este proyecto es realizar todo el proceso de *Data Wrangling* con el uso de herramientas de *Python* como *pandas* y *matplotlib*. También se busca poder usar apropiadamente estas librerías para poder a extraer información a nivel básico de un conjunto de datos (ya sea encontrar patrones, hacer comparaciones, buscar relaciones entre valores de columnas, etc.). Se trabajará sobre el conjunto de datos del **Titanic** y a partir de este se harán todos los ajustes necesarios (ya sea añadir o quitar columnas, llenar datos nulos con ciertos valores, etc.) para resolver una serie de preguntas y tareas."
   ]
  },
  {
   "cell_type": "markdown",
   "id": "terminal-elder",
   "metadata": {},
   "source": [
    "# Problema\n",
    "\n",
    "El problema de este proyecto consiste en resolver las siguientes preguntas y tareas:\n",
    "1. Encontrar el patrón de supervivencia de la catástrofe (el mejor que ustedes puedan obtener). (Valor: 3 puntos)\n",
    "    * Por ejemplo: para sobrevivir, se tenía que ser niño de entre 3 meses y 5 años o mujer de entre 23 y 32 años; pudiéndose salvar también los hombres mayores de 50 años que embarcaron en Cherbourg.\n",
    "    * Programar en Python la regla encontrada, así como determinar la exactitud de la misma (el porcentaje de aciertos que la regla tiene con respecto a la supervivencia indicada en el conjunto de datos).\n",
    "\n",
    "2. ¿Cuál es el pueblo de embarque más mortífero? (Valor: 1 punto)\n",
    "\n",
    "3. ¿Cuál es la tarifa promedio pagada por los sobrevivientes y cuál la de los que no sobrevivieron? (Valor: 1 punto)\n",
    "\n",
    "4. Realizar un gráfico que muestre lo mejor posible si la clase en la que viajaba el pasajero aseguraba su supervivencia. (Valor: 1 punto)\n",
    "\n",
    "5. ¿Cuáles son los porcentajes de supervivencia y fallecimiento de niños, mujeres y hombres? (Valor: 1 punto)\n",
    "\n",
    "6. ¿La edad influyó para no sobrevivir? (Valor: 1 punto)\n",
    "\n",
    "7. Dados los datos personales de cada uno de ustedes (estudiantes de Introduccción a la Ciencia de Datos) ¿hubiera sido más probable que se salvaran o que fallecieran? Además, hay que estratificar la edad en lustros (bloques de 5 años). (Valor: 1 punto)\n",
    "\n",
    "8. ¿Cuál es el promedio de edad de los fallecidos que embarcaron en Queenstown? (Valor: 1 punto)"
   ]
  },
  {
   "cell_type": "markdown",
   "id": "opponent-board",
   "metadata": {},
   "source": [
    "# Desarrollo\n",
    "\n",
    "Resolvamos este problema punto por punto. Antes de comenzar hay que importar todas las librerías necesarias para el desarrollo del problema y carguemos el conjunto de datos del **Titanic**."
   ]
  },
  {
   "cell_type": "code",
   "execution_count": 1,
   "id": "distributed-military",
   "metadata": {},
   "outputs": [],
   "source": [
    "import numpy as np\n",
    "import pandas as pd\n",
    "import matplotlib.pyplot as plt\n",
    "import math\n",
    "import seaborn as sns"
   ]
  },
  {
   "cell_type": "markdown",
   "id": "built-macintosh",
   "metadata": {},
   "source": [
    "### Cargando los datos"
   ]
  },
  {
   "cell_type": "code",
   "execution_count": 2,
   "id": "sustainable-leisure",
   "metadata": {},
   "outputs": [
    {
     "data": {
      "text/html": [
       "<div>\n",
       "<style scoped>\n",
       "    .dataframe tbody tr th:only-of-type {\n",
       "        vertical-align: middle;\n",
       "    }\n",
       "\n",
       "    .dataframe tbody tr th {\n",
       "        vertical-align: top;\n",
       "    }\n",
       "\n",
       "    .dataframe thead th {\n",
       "        text-align: right;\n",
       "    }\n",
       "</style>\n",
       "<table border=\"1\" class=\"dataframe\">\n",
       "  <thead>\n",
       "    <tr style=\"text-align: right;\">\n",
       "      <th></th>\n",
       "      <th>survived</th>\n",
       "      <th>pclass</th>\n",
       "      <th>sex</th>\n",
       "      <th>age</th>\n",
       "      <th>sibsp</th>\n",
       "      <th>parch</th>\n",
       "      <th>fare</th>\n",
       "      <th>embarked</th>\n",
       "      <th>class</th>\n",
       "      <th>who</th>\n",
       "      <th>adult_male</th>\n",
       "      <th>deck</th>\n",
       "      <th>embark_town</th>\n",
       "      <th>alive</th>\n",
       "      <th>alone</th>\n",
       "    </tr>\n",
       "    <tr>\n",
       "      <th>idx</th>\n",
       "      <th></th>\n",
       "      <th></th>\n",
       "      <th></th>\n",
       "      <th></th>\n",
       "      <th></th>\n",
       "      <th></th>\n",
       "      <th></th>\n",
       "      <th></th>\n",
       "      <th></th>\n",
       "      <th></th>\n",
       "      <th></th>\n",
       "      <th></th>\n",
       "      <th></th>\n",
       "      <th></th>\n",
       "      <th></th>\n",
       "    </tr>\n",
       "  </thead>\n",
       "  <tbody>\n",
       "    <tr>\n",
       "      <th>0</th>\n",
       "      <td>0</td>\n",
       "      <td>3</td>\n",
       "      <td>male</td>\n",
       "      <td>22.0</td>\n",
       "      <td>1</td>\n",
       "      <td>0</td>\n",
       "      <td>7.2500</td>\n",
       "      <td>S</td>\n",
       "      <td>Third</td>\n",
       "      <td>man</td>\n",
       "      <td>True</td>\n",
       "      <td>NaN</td>\n",
       "      <td>Southampton</td>\n",
       "      <td>no</td>\n",
       "      <td>False</td>\n",
       "    </tr>\n",
       "    <tr>\n",
       "      <th>1</th>\n",
       "      <td>1</td>\n",
       "      <td>1</td>\n",
       "      <td>female</td>\n",
       "      <td>38.0</td>\n",
       "      <td>1</td>\n",
       "      <td>0</td>\n",
       "      <td>71.2833</td>\n",
       "      <td>C</td>\n",
       "      <td>First</td>\n",
       "      <td>woman</td>\n",
       "      <td>False</td>\n",
       "      <td>C</td>\n",
       "      <td>Cherbourg</td>\n",
       "      <td>yes</td>\n",
       "      <td>False</td>\n",
       "    </tr>\n",
       "    <tr>\n",
       "      <th>2</th>\n",
       "      <td>1</td>\n",
       "      <td>3</td>\n",
       "      <td>female</td>\n",
       "      <td>26.0</td>\n",
       "      <td>0</td>\n",
       "      <td>0</td>\n",
       "      <td>7.9250</td>\n",
       "      <td>S</td>\n",
       "      <td>Third</td>\n",
       "      <td>woman</td>\n",
       "      <td>False</td>\n",
       "      <td>NaN</td>\n",
       "      <td>Southampton</td>\n",
       "      <td>yes</td>\n",
       "      <td>True</td>\n",
       "    </tr>\n",
       "    <tr>\n",
       "      <th>3</th>\n",
       "      <td>1</td>\n",
       "      <td>1</td>\n",
       "      <td>female</td>\n",
       "      <td>35.0</td>\n",
       "      <td>1</td>\n",
       "      <td>0</td>\n",
       "      <td>53.1000</td>\n",
       "      <td>S</td>\n",
       "      <td>First</td>\n",
       "      <td>woman</td>\n",
       "      <td>False</td>\n",
       "      <td>C</td>\n",
       "      <td>Southampton</td>\n",
       "      <td>yes</td>\n",
       "      <td>False</td>\n",
       "    </tr>\n",
       "    <tr>\n",
       "      <th>4</th>\n",
       "      <td>0</td>\n",
       "      <td>3</td>\n",
       "      <td>male</td>\n",
       "      <td>35.0</td>\n",
       "      <td>0</td>\n",
       "      <td>0</td>\n",
       "      <td>8.0500</td>\n",
       "      <td>S</td>\n",
       "      <td>Third</td>\n",
       "      <td>man</td>\n",
       "      <td>True</td>\n",
       "      <td>NaN</td>\n",
       "      <td>Southampton</td>\n",
       "      <td>no</td>\n",
       "      <td>True</td>\n",
       "    </tr>\n",
       "    <tr>\n",
       "      <th>5</th>\n",
       "      <td>0</td>\n",
       "      <td>3</td>\n",
       "      <td>male</td>\n",
       "      <td>NaN</td>\n",
       "      <td>0</td>\n",
       "      <td>0</td>\n",
       "      <td>8.4583</td>\n",
       "      <td>Q</td>\n",
       "      <td>Third</td>\n",
       "      <td>man</td>\n",
       "      <td>True</td>\n",
       "      <td>NaN</td>\n",
       "      <td>Queenstown</td>\n",
       "      <td>no</td>\n",
       "      <td>True</td>\n",
       "    </tr>\n",
       "    <tr>\n",
       "      <th>6</th>\n",
       "      <td>0</td>\n",
       "      <td>1</td>\n",
       "      <td>male</td>\n",
       "      <td>54.0</td>\n",
       "      <td>0</td>\n",
       "      <td>0</td>\n",
       "      <td>51.8625</td>\n",
       "      <td>S</td>\n",
       "      <td>First</td>\n",
       "      <td>man</td>\n",
       "      <td>True</td>\n",
       "      <td>E</td>\n",
       "      <td>Southampton</td>\n",
       "      <td>no</td>\n",
       "      <td>True</td>\n",
       "    </tr>\n",
       "    <tr>\n",
       "      <th>7</th>\n",
       "      <td>0</td>\n",
       "      <td>3</td>\n",
       "      <td>male</td>\n",
       "      <td>2.0</td>\n",
       "      <td>3</td>\n",
       "      <td>1</td>\n",
       "      <td>21.0750</td>\n",
       "      <td>S</td>\n",
       "      <td>Third</td>\n",
       "      <td>child</td>\n",
       "      <td>False</td>\n",
       "      <td>NaN</td>\n",
       "      <td>Southampton</td>\n",
       "      <td>no</td>\n",
       "      <td>False</td>\n",
       "    </tr>\n",
       "    <tr>\n",
       "      <th>8</th>\n",
       "      <td>1</td>\n",
       "      <td>3</td>\n",
       "      <td>female</td>\n",
       "      <td>27.0</td>\n",
       "      <td>0</td>\n",
       "      <td>2</td>\n",
       "      <td>11.1333</td>\n",
       "      <td>S</td>\n",
       "      <td>Third</td>\n",
       "      <td>woman</td>\n",
       "      <td>False</td>\n",
       "      <td>NaN</td>\n",
       "      <td>Southampton</td>\n",
       "      <td>yes</td>\n",
       "      <td>False</td>\n",
       "    </tr>\n",
       "    <tr>\n",
       "      <th>9</th>\n",
       "      <td>1</td>\n",
       "      <td>2</td>\n",
       "      <td>female</td>\n",
       "      <td>14.0</td>\n",
       "      <td>1</td>\n",
       "      <td>0</td>\n",
       "      <td>30.0708</td>\n",
       "      <td>C</td>\n",
       "      <td>Second</td>\n",
       "      <td>child</td>\n",
       "      <td>False</td>\n",
       "      <td>NaN</td>\n",
       "      <td>Cherbourg</td>\n",
       "      <td>yes</td>\n",
       "      <td>False</td>\n",
       "    </tr>\n",
       "  </tbody>\n",
       "</table>\n",
       "</div>"
      ],
      "text/plain": [
       "     survived  pclass     sex   age  sibsp  parch     fare embarked   class  \\\n",
       "idx                                                                           \n",
       "0           0       3    male  22.0      1      0   7.2500        S   Third   \n",
       "1           1       1  female  38.0      1      0  71.2833        C   First   \n",
       "2           1       3  female  26.0      0      0   7.9250        S   Third   \n",
       "3           1       1  female  35.0      1      0  53.1000        S   First   \n",
       "4           0       3    male  35.0      0      0   8.0500        S   Third   \n",
       "5           0       3    male   NaN      0      0   8.4583        Q   Third   \n",
       "6           0       1    male  54.0      0      0  51.8625        S   First   \n",
       "7           0       3    male   2.0      3      1  21.0750        S   Third   \n",
       "8           1       3  female  27.0      0      2  11.1333        S   Third   \n",
       "9           1       2  female  14.0      1      0  30.0708        C  Second   \n",
       "\n",
       "       who  adult_male deck  embark_town alive  alone  \n",
       "idx                                                    \n",
       "0      man        True  NaN  Southampton    no  False  \n",
       "1    woman       False    C    Cherbourg   yes  False  \n",
       "2    woman       False  NaN  Southampton   yes   True  \n",
       "3    woman       False    C  Southampton   yes  False  \n",
       "4      man        True  NaN  Southampton    no   True  \n",
       "5      man        True  NaN   Queenstown    no   True  \n",
       "6      man        True    E  Southampton    no   True  \n",
       "7    child       False  NaN  Southampton    no  False  \n",
       "8    woman       False  NaN  Southampton   yes  False  \n",
       "9    child       False  NaN    Cherbourg   yes  False  "
      ]
     },
     "execution_count": 2,
     "metadata": {},
     "output_type": "execute_result"
    }
   ],
   "source": [
    "D = pd.read_csv('./titanic.csv', index_col = 0)\n",
    "D.head(10)"
   ]
  },
  {
   "cell_type": "markdown",
   "id": "duplicate-offering",
   "metadata": {},
   "source": [
    "### Lidiando con datos faltantes y añadiendo columnas"
   ]
  },
  {
   "cell_type": "markdown",
   "id": "incoming-freeware",
   "metadata": {},
   "source": [
    "Antes de comenzar a hacer observaciones en nuestro dataset, veamos qué hacer con los datos faltantes. Primero contémoslos:"
   ]
  },
  {
   "cell_type": "code",
   "execution_count": 3,
   "id": "received-peninsula",
   "metadata": {},
   "outputs": [
    {
     "name": "stdout",
     "output_type": "stream",
     "text": [
      "Columnas y total de datos nulos por cada una:\n",
      "survived : 0\n",
      "pclass : 0\n",
      "sex : 0\n",
      "age : 177\n",
      "sibsp : 0\n",
      "parch : 0\n",
      "fare : 0\n",
      "embarked : 2\n",
      "class : 0\n",
      "who : 0\n",
      "adult_male : 0\n",
      "deck : 688\n",
      "embark_town : 2\n",
      "alive : 0\n",
      "alone : 0\n"
     ]
    }
   ],
   "source": [
    "print(\"Columnas y total de datos nulos por cada una:\")\n",
    "for c in D.columns:\n",
    "    print(c,':', D[c].isnull().sum())"
   ]
  },
  {
   "cell_type": "markdown",
   "id": "homeless-remove",
   "metadata": {},
   "source": [
    "La primera observación es que en la columna **deck** falta una gran cantidad de datos. Verifiquemos el porcentaje total de datos faltantes respecto al total."
   ]
  },
  {
   "cell_type": "code",
   "execution_count": 4,
   "id": "opposite-berkeley",
   "metadata": {},
   "outputs": [
    {
     "name": "stdout",
     "output_type": "stream",
     "text": [
      "Total de filas: 891\n",
      "Total de datos faltantes en deck: 688\n",
      "Porcentaje de los datos faltantes en deck: 77.21661054994388 %\n"
     ]
    }
   ],
   "source": [
    "print(\"Total de filas:\",len(D.index))\n",
    "print(\"Total de datos faltantes en deck:\",D['deck'].isnull().sum())\n",
    "print(\"Porcentaje de los datos faltantes en deck:\", 100 * (D['deck'].isnull().sum()) / (len(D.index)) ,\"%\")"
   ]
  },
  {
   "cell_type": "markdown",
   "id": "previous-intake",
   "metadata": {},
   "source": [
    "Podemos observar que falta la gran mayoría de los datos de esta columna, para ser precisos el 77.2% de ellos. Debido a esto, vamos a ignorar esta columna de datos para resolver el problema. Eliminándola de una vez:"
   ]
  },
  {
   "cell_type": "code",
   "execution_count": 5,
   "id": "baking-repeat",
   "metadata": {},
   "outputs": [
    {
     "data": {
      "text/html": [
       "<div>\n",
       "<style scoped>\n",
       "    .dataframe tbody tr th:only-of-type {\n",
       "        vertical-align: middle;\n",
       "    }\n",
       "\n",
       "    .dataframe tbody tr th {\n",
       "        vertical-align: top;\n",
       "    }\n",
       "\n",
       "    .dataframe thead th {\n",
       "        text-align: right;\n",
       "    }\n",
       "</style>\n",
       "<table border=\"1\" class=\"dataframe\">\n",
       "  <thead>\n",
       "    <tr style=\"text-align: right;\">\n",
       "      <th></th>\n",
       "      <th>survived</th>\n",
       "      <th>pclass</th>\n",
       "      <th>sex</th>\n",
       "      <th>age</th>\n",
       "      <th>sibsp</th>\n",
       "      <th>parch</th>\n",
       "      <th>fare</th>\n",
       "      <th>embarked</th>\n",
       "      <th>class</th>\n",
       "      <th>who</th>\n",
       "      <th>adult_male</th>\n",
       "      <th>embark_town</th>\n",
       "      <th>alive</th>\n",
       "      <th>alone</th>\n",
       "    </tr>\n",
       "    <tr>\n",
       "      <th>idx</th>\n",
       "      <th></th>\n",
       "      <th></th>\n",
       "      <th></th>\n",
       "      <th></th>\n",
       "      <th></th>\n",
       "      <th></th>\n",
       "      <th></th>\n",
       "      <th></th>\n",
       "      <th></th>\n",
       "      <th></th>\n",
       "      <th></th>\n",
       "      <th></th>\n",
       "      <th></th>\n",
       "      <th></th>\n",
       "    </tr>\n",
       "  </thead>\n",
       "  <tbody>\n",
       "    <tr>\n",
       "      <th>0</th>\n",
       "      <td>0</td>\n",
       "      <td>3</td>\n",
       "      <td>male</td>\n",
       "      <td>22.0</td>\n",
       "      <td>1</td>\n",
       "      <td>0</td>\n",
       "      <td>7.2500</td>\n",
       "      <td>S</td>\n",
       "      <td>Third</td>\n",
       "      <td>man</td>\n",
       "      <td>True</td>\n",
       "      <td>Southampton</td>\n",
       "      <td>no</td>\n",
       "      <td>False</td>\n",
       "    </tr>\n",
       "    <tr>\n",
       "      <th>1</th>\n",
       "      <td>1</td>\n",
       "      <td>1</td>\n",
       "      <td>female</td>\n",
       "      <td>38.0</td>\n",
       "      <td>1</td>\n",
       "      <td>0</td>\n",
       "      <td>71.2833</td>\n",
       "      <td>C</td>\n",
       "      <td>First</td>\n",
       "      <td>woman</td>\n",
       "      <td>False</td>\n",
       "      <td>Cherbourg</td>\n",
       "      <td>yes</td>\n",
       "      <td>False</td>\n",
       "    </tr>\n",
       "    <tr>\n",
       "      <th>2</th>\n",
       "      <td>1</td>\n",
       "      <td>3</td>\n",
       "      <td>female</td>\n",
       "      <td>26.0</td>\n",
       "      <td>0</td>\n",
       "      <td>0</td>\n",
       "      <td>7.9250</td>\n",
       "      <td>S</td>\n",
       "      <td>Third</td>\n",
       "      <td>woman</td>\n",
       "      <td>False</td>\n",
       "      <td>Southampton</td>\n",
       "      <td>yes</td>\n",
       "      <td>True</td>\n",
       "    </tr>\n",
       "    <tr>\n",
       "      <th>3</th>\n",
       "      <td>1</td>\n",
       "      <td>1</td>\n",
       "      <td>female</td>\n",
       "      <td>35.0</td>\n",
       "      <td>1</td>\n",
       "      <td>0</td>\n",
       "      <td>53.1000</td>\n",
       "      <td>S</td>\n",
       "      <td>First</td>\n",
       "      <td>woman</td>\n",
       "      <td>False</td>\n",
       "      <td>Southampton</td>\n",
       "      <td>yes</td>\n",
       "      <td>False</td>\n",
       "    </tr>\n",
       "    <tr>\n",
       "      <th>4</th>\n",
       "      <td>0</td>\n",
       "      <td>3</td>\n",
       "      <td>male</td>\n",
       "      <td>35.0</td>\n",
       "      <td>0</td>\n",
       "      <td>0</td>\n",
       "      <td>8.0500</td>\n",
       "      <td>S</td>\n",
       "      <td>Third</td>\n",
       "      <td>man</td>\n",
       "      <td>True</td>\n",
       "      <td>Southampton</td>\n",
       "      <td>no</td>\n",
       "      <td>True</td>\n",
       "    </tr>\n",
       "    <tr>\n",
       "      <th>...</th>\n",
       "      <td>...</td>\n",
       "      <td>...</td>\n",
       "      <td>...</td>\n",
       "      <td>...</td>\n",
       "      <td>...</td>\n",
       "      <td>...</td>\n",
       "      <td>...</td>\n",
       "      <td>...</td>\n",
       "      <td>...</td>\n",
       "      <td>...</td>\n",
       "      <td>...</td>\n",
       "      <td>...</td>\n",
       "      <td>...</td>\n",
       "      <td>...</td>\n",
       "    </tr>\n",
       "    <tr>\n",
       "      <th>886</th>\n",
       "      <td>0</td>\n",
       "      <td>2</td>\n",
       "      <td>male</td>\n",
       "      <td>27.0</td>\n",
       "      <td>0</td>\n",
       "      <td>0</td>\n",
       "      <td>13.0000</td>\n",
       "      <td>S</td>\n",
       "      <td>Second</td>\n",
       "      <td>man</td>\n",
       "      <td>True</td>\n",
       "      <td>Southampton</td>\n",
       "      <td>no</td>\n",
       "      <td>True</td>\n",
       "    </tr>\n",
       "    <tr>\n",
       "      <th>887</th>\n",
       "      <td>1</td>\n",
       "      <td>1</td>\n",
       "      <td>female</td>\n",
       "      <td>19.0</td>\n",
       "      <td>0</td>\n",
       "      <td>0</td>\n",
       "      <td>30.0000</td>\n",
       "      <td>S</td>\n",
       "      <td>First</td>\n",
       "      <td>woman</td>\n",
       "      <td>False</td>\n",
       "      <td>Southampton</td>\n",
       "      <td>yes</td>\n",
       "      <td>True</td>\n",
       "    </tr>\n",
       "    <tr>\n",
       "      <th>888</th>\n",
       "      <td>0</td>\n",
       "      <td>3</td>\n",
       "      <td>female</td>\n",
       "      <td>NaN</td>\n",
       "      <td>1</td>\n",
       "      <td>2</td>\n",
       "      <td>23.4500</td>\n",
       "      <td>S</td>\n",
       "      <td>Third</td>\n",
       "      <td>woman</td>\n",
       "      <td>False</td>\n",
       "      <td>Southampton</td>\n",
       "      <td>no</td>\n",
       "      <td>False</td>\n",
       "    </tr>\n",
       "    <tr>\n",
       "      <th>889</th>\n",
       "      <td>1</td>\n",
       "      <td>1</td>\n",
       "      <td>male</td>\n",
       "      <td>26.0</td>\n",
       "      <td>0</td>\n",
       "      <td>0</td>\n",
       "      <td>30.0000</td>\n",
       "      <td>C</td>\n",
       "      <td>First</td>\n",
       "      <td>man</td>\n",
       "      <td>True</td>\n",
       "      <td>Cherbourg</td>\n",
       "      <td>yes</td>\n",
       "      <td>True</td>\n",
       "    </tr>\n",
       "    <tr>\n",
       "      <th>890</th>\n",
       "      <td>0</td>\n",
       "      <td>3</td>\n",
       "      <td>male</td>\n",
       "      <td>32.0</td>\n",
       "      <td>0</td>\n",
       "      <td>0</td>\n",
       "      <td>7.7500</td>\n",
       "      <td>Q</td>\n",
       "      <td>Third</td>\n",
       "      <td>man</td>\n",
       "      <td>True</td>\n",
       "      <td>Queenstown</td>\n",
       "      <td>no</td>\n",
       "      <td>True</td>\n",
       "    </tr>\n",
       "  </tbody>\n",
       "</table>\n",
       "<p>891 rows × 14 columns</p>\n",
       "</div>"
      ],
      "text/plain": [
       "     survived  pclass     sex   age  sibsp  parch     fare embarked   class  \\\n",
       "idx                                                                           \n",
       "0           0       3    male  22.0      1      0   7.2500        S   Third   \n",
       "1           1       1  female  38.0      1      0  71.2833        C   First   \n",
       "2           1       3  female  26.0      0      0   7.9250        S   Third   \n",
       "3           1       1  female  35.0      1      0  53.1000        S   First   \n",
       "4           0       3    male  35.0      0      0   8.0500        S   Third   \n",
       "..        ...     ...     ...   ...    ...    ...      ...      ...     ...   \n",
       "886         0       2    male  27.0      0      0  13.0000        S  Second   \n",
       "887         1       1  female  19.0      0      0  30.0000        S   First   \n",
       "888         0       3  female   NaN      1      2  23.4500        S   Third   \n",
       "889         1       1    male  26.0      0      0  30.0000        C   First   \n",
       "890         0       3    male  32.0      0      0   7.7500        Q   Third   \n",
       "\n",
       "       who  adult_male  embark_town alive  alone  \n",
       "idx                                               \n",
       "0      man        True  Southampton    no  False  \n",
       "1    woman       False    Cherbourg   yes  False  \n",
       "2    woman       False  Southampton   yes   True  \n",
       "3    woman       False  Southampton   yes  False  \n",
       "4      man        True  Southampton    no   True  \n",
       "..     ...         ...          ...   ...    ...  \n",
       "886    man        True  Southampton    no   True  \n",
       "887  woman       False  Southampton   yes   True  \n",
       "888  woman       False  Southampton    no  False  \n",
       "889    man        True    Cherbourg   yes   True  \n",
       "890    man        True   Queenstown    no   True  \n",
       "\n",
       "[891 rows x 14 columns]"
      ]
     },
     "execution_count": 5,
     "metadata": {},
     "output_type": "execute_result"
    }
   ],
   "source": [
    "del D['deck']\n",
    "D"
   ]
  },
  {
   "cell_type": "markdown",
   "id": "civilian-nurse",
   "metadata": {},
   "source": [
    "La segunda observación es que también faltan varios datos de los pasajeros en la columna **age**. Obteniendo un porcentaje de qué tantos faltan:"
   ]
  },
  {
   "cell_type": "code",
   "execution_count": 6,
   "id": "technological-agent",
   "metadata": {},
   "outputs": [
    {
     "name": "stdout",
     "output_type": "stream",
     "text": [
      "Total de filas: 891\n",
      "Total de datos faltantes en age: 177\n",
      "Porcentaje de los datos faltantes en age: 19.865319865319865 %\n"
     ]
    }
   ],
   "source": [
    "print(\"Total de filas:\",len(D.index))\n",
    "print(\"Total de datos faltantes en age:\",D['age'].isnull().sum())\n",
    "print(\"Porcentaje de los datos faltantes en age:\", 100 * (D['age'].isnull().sum()) / (len(D.index)) ,\"%\")"
   ]
  },
  {
   "cell_type": "markdown",
   "id": "according-young",
   "metadata": {},
   "source": [
    "A diferencia de **deck**, en **age** no faltan tantos datos (solo el 19.87%). Para lidiar con ellos podemos basarnos en la distribución de edades que hay entre los pasajeros que conocemos. Grafiquemos un histograma de las edades para darnos una idea general de la distribución de éstas."
   ]
  },
  {
   "cell_type": "code",
   "execution_count": 7,
   "id": "stretch-explorer",
   "metadata": {},
   "outputs": [
    {
     "data": {
      "text/plain": [
       "[]"
      ]
     },
     "execution_count": 7,
     "metadata": {},
     "output_type": "execute_result"
    },
    {
     "data": {
      "image/png": "[encoded data removed]",
      "text/plain": [
       "<Figure size 432x288 with 1 Axes>"
      ]
     },
     "metadata": {
      "needs_background": "light"
     },
     "output_type": "display_data"
    }
   ],
   "source": [
    "D['age'].plot(kind = 'hist')\n",
    "plt.title(\"Edades de los pasajeros\")\n",
    "plt.xlabel(\"Edad\")\n",
    "plt.ylabel('Frecuencia')\n",
    "plt.plot()"
   ]
  },
  {
   "cell_type": "markdown",
   "id": "owned-sound",
   "metadata": {},
   "source": [
    "Vemos que la distribución de las edades no parece ser de forma uniforme. Lo que se puede observar es que la mayoría se concentran entre los 20 y 40 años y la distribución se asemeja un poco a la campana de una distribuciónnormal, pero cargada a la izquierda y con un salto de frecuencia muy grande aproximadamente entre los 10 y 25 años. Al tener este tipo de distribución veo conveniente asumir una mediana para llenar los datos faltantes. La media podría ser otra opción pero prefiero usar la mediana en este caso, aunque los resultados no van a variar mucho. La mediana de las edades de los pasajeros del **Titanic** es:"
   ]
  },
  {
   "cell_type": "code",
   "execution_count": 8,
   "id": "successful-newport",
   "metadata": {},
   "outputs": [
    {
     "name": "stdout",
     "output_type": "stream",
     "text": [
      "Mediana age: 28.0\n"
     ]
    }
   ],
   "source": [
    "print(\"Mediana age:\",D['age'].median())"
   ]
  },
  {
   "cell_type": "markdown",
   "id": "radical-sessions",
   "metadata": {},
   "source": [
    "Colocando esta mediana a todas las edades faltantes:"
   ]
  },
  {
   "cell_type": "code",
   "execution_count": 9,
   "id": "portable-smith",
   "metadata": {},
   "outputs": [],
   "source": [
    "D['age'].fillna(D['age'].median(), inplace = True)\n",
    "#D['age']\n",
    "#D['age'].isnull().sum()"
   ]
  },
  {
   "cell_type": "markdown",
   "id": "second-fifteen",
   "metadata": {},
   "source": [
    "Por último, vemos que faltan dos valores en las columnas de **embarked** y **embark_town**. Sabemos que **embarked** es la clave en letra de una de los tres pueblos de embarque del Titanic, coincidiendo así con la columna **embark_town**. Estos son: **S = Southampton**, **C = Cherbourg** y **Q = Queenstown**. A los dos datos restantes nada más le asignaremos el pueblo de embarque que haya tenido más gente con su respectiva llave. Contando la gente de cada puerto de embarque:"
   ]
  },
  {
   "cell_type": "code",
   "execution_count": 10,
   "id": "objective-eagle",
   "metadata": {},
   "outputs": [
    {
     "data": {
      "text/plain": [
       "Southampton    644\n",
       "Cherbourg      168\n",
       "Queenstown      77\n",
       "Name: embark_town, dtype: int64"
      ]
     },
     "execution_count": 10,
     "metadata": {},
     "output_type": "execute_result"
    }
   ],
   "source": [
    "D['embark_town'].value_counts()"
   ]
  },
  {
   "cell_type": "markdown",
   "id": "wrapped-reduction",
   "metadata": {},
   "source": [
    "Como Southampton (S), es el embarque de donde vinieron más pasajeros, será el que asignaremos a las dos personas que faltan."
   ]
  },
  {
   "cell_type": "code",
   "execution_count": 11,
   "id": "located-hearts",
   "metadata": {},
   "outputs": [],
   "source": [
    "D['embark_town'].fillna('Southampton', inplace = True)\n",
    "D['embarked'].fillna('S', inplace = True)"
   ]
  },
  {
   "cell_type": "markdown",
   "id": "million-medicare",
   "metadata": {},
   "source": [
    "Ahora ya no tenemos ningún dato faltante en nuestro conjunto:"
   ]
  },
  {
   "cell_type": "code",
   "execution_count": 12,
   "id": "excellent-depression",
   "metadata": {},
   "outputs": [
    {
     "name": "stdout",
     "output_type": "stream",
     "text": [
      "Columnas y total de datos nulos por cada una\n",
      "survived : 0\n",
      "pclass : 0\n",
      "sex : 0\n",
      "age : 0\n",
      "sibsp : 0\n",
      "parch : 0\n",
      "fare : 0\n",
      "embarked : 0\n",
      "class : 0\n",
      "who : 0\n",
      "adult_male : 0\n",
      "embark_town : 0\n",
      "alive : 0\n",
      "alone : 0\n"
     ]
    }
   ],
   "source": [
    "print(\"Columnas y total de datos nulos por cada una\")\n",
    "for c in D.columns:\n",
    "    print(c,':', D[c].isnull().sum())"
   ]
  },
  {
   "cell_type": "markdown",
   "id": "contemporary-generator",
   "metadata": {},
   "source": [
    "Una columna de los datos que se va a estar utilizando para los distintos puntos puntos del proyecto es la de edad, **age**. Vamos a añadir una nueva columna que estratifique la edad en lustros de la siguiente forma:\n",
    "\n",
    "* lustro 0: edades de 0 a 4 años\n",
    "* lustro 1: edades de 5 a 9 años\n",
    "* ...\n",
    "* lustro 16: edades de 80 a 84 años."
   ]
  },
  {
   "cell_type": "markdown",
   "id": "internal-estate",
   "metadata": {},
   "source": [
    "Basta dividir entre 5 el valor de la edad y el valor entero del número que hayamos obtenido será equivalente a su lustro."
   ]
  },
  {
   "cell_type": "code",
   "execution_count": 13,
   "id": "fiscal-sheep",
   "metadata": {},
   "outputs": [
    {
     "data": {
      "text/html": [
       "<div>\n",
       "<style scoped>\n",
       "    .dataframe tbody tr th:only-of-type {\n",
       "        vertical-align: middle;\n",
       "    }\n",
       "\n",
       "    .dataframe tbody tr th {\n",
       "        vertical-align: top;\n",
       "    }\n",
       "\n",
       "    .dataframe thead th {\n",
       "        text-align: right;\n",
       "    }\n",
       "</style>\n",
       "<table border=\"1\" class=\"dataframe\">\n",
       "  <thead>\n",
       "    <tr style=\"text-align: right;\">\n",
       "      <th></th>\n",
       "      <th>age</th>\n",
       "      <th>lustro</th>\n",
       "    </tr>\n",
       "    <tr>\n",
       "      <th>idx</th>\n",
       "      <th></th>\n",
       "      <th></th>\n",
       "    </tr>\n",
       "  </thead>\n",
       "  <tbody>\n",
       "    <tr>\n",
       "      <th>0</th>\n",
       "      <td>22.0</td>\n",
       "      <td>4.0</td>\n",
       "    </tr>\n",
       "    <tr>\n",
       "      <th>1</th>\n",
       "      <td>38.0</td>\n",
       "      <td>7.0</td>\n",
       "    </tr>\n",
       "    <tr>\n",
       "      <th>2</th>\n",
       "      <td>26.0</td>\n",
       "      <td>5.0</td>\n",
       "    </tr>\n",
       "    <tr>\n",
       "      <th>3</th>\n",
       "      <td>35.0</td>\n",
       "      <td>7.0</td>\n",
       "    </tr>\n",
       "    <tr>\n",
       "      <th>4</th>\n",
       "      <td>35.0</td>\n",
       "      <td>7.0</td>\n",
       "    </tr>\n",
       "    <tr>\n",
       "      <th>...</th>\n",
       "      <td>...</td>\n",
       "      <td>...</td>\n",
       "    </tr>\n",
       "    <tr>\n",
       "      <th>886</th>\n",
       "      <td>27.0</td>\n",
       "      <td>5.0</td>\n",
       "    </tr>\n",
       "    <tr>\n",
       "      <th>887</th>\n",
       "      <td>19.0</td>\n",
       "      <td>3.0</td>\n",
       "    </tr>\n",
       "    <tr>\n",
       "      <th>888</th>\n",
       "      <td>28.0</td>\n",
       "      <td>5.0</td>\n",
       "    </tr>\n",
       "    <tr>\n",
       "      <th>889</th>\n",
       "      <td>26.0</td>\n",
       "      <td>5.0</td>\n",
       "    </tr>\n",
       "    <tr>\n",
       "      <th>890</th>\n",
       "      <td>32.0</td>\n",
       "      <td>6.0</td>\n",
       "    </tr>\n",
       "  </tbody>\n",
       "</table>\n",
       "<p>891 rows × 2 columns</p>\n",
       "</div>"
      ],
      "text/plain": [
       "      age  lustro\n",
       "idx              \n",
       "0    22.0     4.0\n",
       "1    38.0     7.0\n",
       "2    26.0     5.0\n",
       "3    35.0     7.0\n",
       "4    35.0     7.0\n",
       "..    ...     ...\n",
       "886  27.0     5.0\n",
       "887  19.0     3.0\n",
       "888  28.0     5.0\n",
       "889  26.0     5.0\n",
       "890  32.0     6.0\n",
       "\n",
       "[891 rows x 2 columns]"
      ]
     },
     "execution_count": 13,
     "metadata": {},
     "output_type": "execute_result"
    }
   ],
   "source": [
    "D['lustro'] = np.floor(D['age']/5)\n",
    "D[['age','lustro']]"
   ]
  },
  {
   "cell_type": "markdown",
   "id": "opening-multiple",
   "metadata": {},
   "source": [
    "Ya que nuestros datos no están incompletos y preparamos las columnas necesarias para su uso, empecemos a resolver las 8 preguntas y tareas del planteamiento del problema."
   ]
  },
  {
   "cell_type": "markdown",
   "id": "compatible-peace",
   "metadata": {},
   "source": [
    "### 1. Patrón de superivivencia"
   ]
  },
  {
   "cell_type": "markdown",
   "id": "facial-washer",
   "metadata": {},
   "source": [
    "Para encontrar el patrón de supervivencia hay que considerar distintas columnas del conjunto de datos y ver cómo se relacionan los distintos valores acorde a si sobrevivieron o no.\n",
    "\n",
    "Primero consideremos el aspecto de ser hombre, mujer o niño. Para ello nos podemos apoyar en la columna **who** y observar cuál es la proporción de sobrevivientes y fallecidos en cada grupo. Antes de comenzar hay que identificar cómo se definen los niños en esta columna. Para ello revisamos cuál es la edad límite de los niños:"
   ]
  },
  {
   "cell_type": "code",
   "execution_count": 14,
   "id": "common-mouse",
   "metadata": {},
   "outputs": [
    {
     "data": {
      "text/plain": [
       "15.0"
      ]
     },
     "execution_count": 14,
     "metadata": {},
     "output_type": "execute_result"
    }
   ],
   "source": [
    "D['age'][D['who'] == 'child'].max()"
   ]
  },
  {
   "cell_type": "markdown",
   "id": "minimal-acrobat",
   "metadata": {},
   "source": [
    "Vemos que los niños varían de entre 0 y 15 años, los adultos tienen 16 años o más. Ahora sí pasemos a contar las muertes de niños, hombres adultos y mujeres adultas"
   ]
  },
  {
   "cell_type": "code",
   "execution_count": 15,
   "id": "peaceful-present",
   "metadata": {},
   "outputs": [
    {
     "data": {
      "text/plain": [
       "who    alive\n",
       "child  yes       49\n",
       "       no        34\n",
       "man    no       449\n",
       "       yes       88\n",
       "woman  yes      205\n",
       "       no        66\n",
       "Name: alive, dtype: int64"
      ]
     },
     "execution_count": 15,
     "metadata": {},
     "output_type": "execute_result"
    }
   ],
   "source": [
    "D.groupby('who')['alive'].value_counts(normalize = False)"
   ]
  },
  {
   "cell_type": "markdown",
   "id": "listed-wrapping",
   "metadata": {},
   "source": [
    "Normalizando las cuentas, obtenemos el porcentaje de fallecimiento y supervivencia de cada grupo:"
   ]
  },
  {
   "cell_type": "code",
   "execution_count": 16,
   "id": "israeli-cooperative",
   "metadata": {},
   "outputs": [
    {
     "data": {
      "text/plain": [
       "who    alive\n",
       "child  yes      0.590361\n",
       "       no       0.409639\n",
       "man    no       0.836127\n",
       "       yes      0.163873\n",
       "woman  yes      0.756458\n",
       "       no       0.243542\n",
       "Name: alive, dtype: float64"
      ]
     },
     "execution_count": 16,
     "metadata": {},
     "output_type": "execute_result"
    }
   ],
   "source": [
    "D.groupby('who')['alive'].value_counts(normalize = True)"
   ]
  },
  {
   "cell_type": "markdown",
   "id": "otherwise-client",
   "metadata": {},
   "source": [
    "También podemos visualizar las proporciones de sobrevivientes y fallecidos en cada grupo con gráficas de pastel y gráficas de barras"
   ]
  },
  {
   "cell_type": "code",
   "execution_count": 17,
   "id": "interior-terrain",
   "metadata": {},
   "outputs": [
    {
     "data": {
      "text/plain": [
       "Text(0.5, 0.75, 'Supervivencia de pasajeros por tipo (hombre/niño/mujer)')"
      ]
     },
     "execution_count": 17,
     "metadata": {},
     "output_type": "execute_result"
    },
    {
     "data": {
      "image/png": "[encoded data removed]",
      "text/plain": [
       "<Figure size 1080x720 with 3 Axes>"
      ]
     },
     "metadata": {},
     "output_type": "display_data"
    }
   ],
   "source": [
    "axes = D.groupby(['alive','who']).size().unstack().plot(kind='pie',\n",
    "                                                           subplots=True, \n",
    "                                                           figsize = (15,10), \n",
    "                                                           autopct=\"%1.1f%%\", \n",
    "                                                           legend = None, \n",
    "                                                           labels = ['',''],\n",
    "                                                           title = ['Niño','Hombre','Mujer'])\n",
    "fig=axes[0].figure\n",
    "fig.legend([\"No\", \"Sí\"],loc = 6, title = '¿Sobrevivió?')\n",
    "axes[0].set_ylabel('')\n",
    "axes[1].set_ylabel('')\n",
    "axes[2].set_ylabel('')\n",
    "fig.suptitle('Supervivencia de pasajeros por tipo (hombre/niño/mujer)',x =0.5, y =0.75,ha = \"center\",va=\"center\",fontsize = 20)"
   ]
  },
  {
   "cell_type": "code",
   "execution_count": 18,
   "id": "particular-missouri",
   "metadata": {},
   "outputs": [
    {
     "data": {
      "text/plain": [
       "Text(0.5, 1.0, 'Supervivencia de pasajeros por tipo')"
      ]
     },
     "execution_count": 18,
     "metadata": {},
     "output_type": "execute_result"
    },
    {
     "data": {
      "image/png": "[encoded data removed]",
      "text/plain": [
       "<Figure size 504x432 with 1 Axes>"
      ]
     },
     "metadata": {
      "needs_background": "light"
     },
     "output_type": "display_data"
    }
   ],
   "source": [
    "D.groupby(['who','alive']).size().unstack().plot(kind = 'bar',figsize=(7,6))\n",
    "plt.xlabel('Tipo de pasajero',fontsize = 20)\n",
    "plt.ylabel('Frecuencia',fontsize = 15)\n",
    "plt.tick_params(axis=\"x\", labelsize=15, rotation = 0)\n",
    "plt.tick_params(axis=\"y\", labelsize=12)\n",
    "plt.legend(['No','Sí'], loc=2, fontsize=12, title = \"¿Sobrevivió?\")\n",
    "plt.title(\"Supervivencia de pasajeros por tipo\", fontsize = 20)"
   ]
  },
  {
   "cell_type": "markdown",
   "id": "comparative-academy",
   "metadata": {},
   "source": [
    "Podemos observar que el grupo con mejor probabilidad de supervivencia es el de las mujeres, con un porcentaje de superviviencia del 75.64%. Luego están los niños con un 59.04% de supervivencia y finalmente muy por debajo de estos dos primeros están los hombres con un 16.4%.\n",
    "\n",
    "Como las proporciones de supervivientes no son tan grandes para ninguno de los grupos, podemos seguir observando qué otras características contribuyeron a la supervivencia en cada uno de ellos.\n",
    "\n",
    "\n",
    "#### 1.1 Patrón de supervivencia de las mujeres\n",
    "Empecemos con el grupo de las mujeres. Observemos a partir de ellas qué otras características tenían que aumentaban su probabilidad de sobrevivir. Las columnas que parecen importantes de analizar son la del puerto de embarque, la de clase y la de edad (estratificada en lustros para facilitar los agrupamientos por edades). Así que grafiquemos con *seaborn* una gráfica de tipo *swarm* que nos permita visualizar cómo varían las muertes por cada pueblo de embarque, clase y edad en lustro.\n",
    "\n",
    "**Nota**: la edad del lustro 3 se reduce en este caso a las edades entre 16 - 19 años porque las mujeres de este conjunto tienen como valor mínimo de edad 16 años. El valor de 15 años está reservado para la categoría de niños."
   ]
  },
  {
   "cell_type": "code",
   "execution_count": 19,
   "id": "parallel-government",
   "metadata": {},
   "outputs": [],
   "source": [
    "D_woman = D[D['who'] == 'woman']"
   ]
  },
  {
   "cell_type": "code",
   "execution_count": 20,
   "id": "pointed-briefs",
   "metadata": {},
   "outputs": [
    {
     "name": "stderr",
     "output_type": "stream",
     "text": [
      "/opt/anaconda3/lib/python3.8/site-packages/seaborn/categorical.py:1296: UserWarning: 6.2% of the points cannot be placed; you may want to decrease the size of the markers or use stripplot.\n",
      "  warnings.warn(msg, UserWarning)\n"
     ]
    },
    {
     "data": {
      "text/plain": [
       "<seaborn.axisgrid.FacetGrid at 0x7fc8c2f0b0d0>"
      ]
     },
     "execution_count": 20,
     "metadata": {},
     "output_type": "execute_result"
    },
    {
     "data": {
      "image/png": "[encoded data removed]",
      "text/plain": [
       "<Figure size 1133.25x360 with 3 Axes>"
      ]
     },
     "metadata": {
      "needs_background": "light"
     },
     "output_type": "display_data"
    }
   ],
   "source": [
    "sns.catplot(x='class', y='lustro',hue='alive',kind='swarm',\n",
    "data=D_woman,s=4, col='embark_town')"
   ]
  },
  {
   "cell_type": "markdown",
   "id": "noticed-extreme",
   "metadata": {},
   "source": [
    "A partir de estas gráficas hacemos las siguienes observaciones:\n",
    "* Casi todas las  de mujeres de primera y segunda clase sobrevivieron.\n",
    "* Las mujeres que embarcaron en Cherbourg de tercera clase con edades en los lustros 4 y 5 (20-29 años) en su mayoría sobrevivieron. \n",
    "* Las mujeres que embarcaron en Southampton de tercera clase con edades en los lustros 3, 6 y 7 (16-19 y 30 - 39 años) en su mayoría sobrevivieron.\n",
    "* Las mujeres que embarcaron en Queenstown con edades en los lustros 3 - 5 (16 - 29) años en su mayoría sobrevivieron.\n",
    "\n",
    "Entonces resumimos nuestro patrón de supervivencia para mujeres como sigue:\n",
    "\n",
    "Si es mujer y de segunda o primera clase, sin importar su pueblo de embarcación, va a sobrevivir. En caso de que sea de tercera clase tenemos tres casos por pueblo de embarcación. Si embarcó en Cherbourg va a sobrevivir si su edad no está entre entre 15-19 o 45-60 años (lustros 3 o 9).  Si embarcó en Southampton siendo tercera clase sobrevive solo si tiene edad entre 16-19 o 30 - 39 años (lustros 3, 6, y 7). Finalmente, si embarcó en Queenstown sobrevivirá si tiene entre 16 y 29 años de edad (lustros 3,4 y 5).\n",
    "\n",
    "Esto se expresa en la siguiente lista con características de las sobrevivientes para cada pueblo de embarcación y clase:\n",
    "\n",
    "* Mujer sobrevive si:\n",
    "    - es de primera o segunda clase\n",
    "    - es de tercera clase y:\n",
    "        + si embarca en Cherbourg y\n",
    "             + tiene entre 20 y 29 años (lustros 4 y 5)\n",
    "        + si embarca en Southampton y\n",
    "            - tiene entre 16-19, 30 - 39 años de edad (lustros 3, 6 y 7).\n",
    "        + si embarca en Queenstown \n",
    "            - tiene entre 16 - 29 años de edad (lustros 3 - 5).\n",
    "        "
   ]
  },
  {
   "cell_type": "markdown",
   "id": "adopted-jacket",
   "metadata": {},
   "source": [
    "#### 1.2 Patrón de supervivencia de niños\n",
    "Sigue revisar el grupo de los niños. Revisamos sus características de supervivencia de manera similar a como hicimos con las mujeres. Revisemos cómo dependiendo del pueblo de embarque, su sexo, edad y clase altera su supervivencia. En este caso usaremos la unidad de edad normal, ya que los niños tienen pocos valores de edad a comparación de los adultos."
   ]
  },
  {
   "cell_type": "code",
   "execution_count": 21,
   "id": "wireless-engine",
   "metadata": {},
   "outputs": [],
   "source": [
    "D_child = D[D['who'] == 'child']"
   ]
  },
  {
   "cell_type": "code",
   "execution_count": 22,
   "id": "cheap-andorra",
   "metadata": {},
   "outputs": [
    {
     "data": {
      "text/plain": [
       "<seaborn.axisgrid.FacetGrid at 0x7fc8c3770dc0>"
      ]
     },
     "execution_count": 22,
     "metadata": {},
     "output_type": "execute_result"
    },
    {
     "data": {
      "image/png": "[encoded data removed]",
      "text/plain": [
       "<Figure size 1133.25x720 with 6 Axes>"
      ]
     },
     "metadata": {
      "needs_background": "light"
     },
     "output_type": "display_data"
    }
   ],
   "source": [
    "sns.catplot(x='class', y='age',hue='alive',kind='swarm',\n",
    "data=D_child,s=4, col='embark_town',row = 'sex')"
   ]
  },
  {
   "cell_type": "markdown",
   "id": "noticed-scroll",
   "metadata": {},
   "source": [
    "Hacemos las siguientes observaciones a partir de las siguientes gráficas:\n",
    "* La gran mayoría de los niños y niñas de segunda y primera clase sobreviven.\n",
    "* La mayoría de los niños que embarcaron en Cherbourg sobrevivieron.\n",
    "* Casi todos los niños que embarcaron en Queenstown murieron\n",
    "* En la tercera clase sobrevivieron en Southampton la mayoría de los niños entre 3 y 6 años.\n",
    "* El sexo del niño parece no haber tenido gran impacto en la supervivencia de estos.\n",
    "\n",
    "Resumiendo nuestro patrón de supervivencia para niños tenemos que:\n",
    "\n",
    "Se salvan los niños de primera y segunda clase. En cuanto a los de tercera clase, se salvan aquellos que embarcaron en Chebourg; si embarcaron en Southampton, sobreviven los que tengan entre 3 y 6 años.\n",
    "\n",
    "Nuestro patrón de supervivencia se resume en esta lista de características que deben tener los supervivientes:\n",
    "* Si es niño o niña y:\n",
    "    + Si es de primera o segunda clase\n",
    "    + Si es de tercera clase y:\n",
    "        - Embarcó en Southampton y:\n",
    "            + tiene entre 3 y 6 años\n",
    "        - Embarcó en Cherbourg\n",
    "            "
   ]
  },
  {
   "cell_type": "markdown",
   "id": "external-platform",
   "metadata": {},
   "source": [
    "#### 1.3 Patrón de supervivencia de los hombres \n",
    "Repetimos lo mismo que hemos estado haciendo con las mujeres y los niños. Vemos cómo se reparten los fallecidos y los sobrevivientes acorde a su edad en lustro, pueblo de embarcamiento y clase:"
   ]
  },
  {
   "cell_type": "code",
   "execution_count": 23,
   "id": "fancy-boards",
   "metadata": {},
   "outputs": [],
   "source": [
    "D_man = D[D['who'] == 'man']"
   ]
  },
  {
   "cell_type": "code",
   "execution_count": 24,
   "id": "oriented-canyon",
   "metadata": {},
   "outputs": [
    {
     "name": "stderr",
     "output_type": "stream",
     "text": [
      "/opt/anaconda3/lib/python3.8/site-packages/seaborn/categorical.py:1296: UserWarning: 46.9% of the points cannot be placed; you may want to decrease the size of the markers or use stripplot.\n",
      "  warnings.warn(msg, UserWarning)\n",
      "/opt/anaconda3/lib/python3.8/site-packages/seaborn/categorical.py:1296: UserWarning: 17.1% of the points cannot be placed; you may want to decrease the size of the markers or use stripplot.\n",
      "  warnings.warn(msg, UserWarning)\n",
      "/opt/anaconda3/lib/python3.8/site-packages/seaborn/categorical.py:1296: UserWarning: 7.7% of the points cannot be placed; you may want to decrease the size of the markers or use stripplot.\n",
      "  warnings.warn(msg, UserWarning)\n"
     ]
    },
    {
     "data": {
      "text/plain": [
       "<seaborn.axisgrid.FacetGrid at 0x7fc8c48a1a60>"
      ]
     },
     "execution_count": 24,
     "metadata": {},
     "output_type": "execute_result"
    },
    {
     "data": {
      "image/png": "[encoded data removed]",
      "text/plain": [
       "<Figure size 1133.25x360 with 3 Axes>"
      ]
     },
     "metadata": {
      "needs_background": "light"
     },
     "output_type": "display_data"
    }
   ],
   "source": [
    "sns.catplot(x='class', y='lustro',hue='alive',kind='swarm',\n",
    "data=D_man,s=4, col='embark_town',row = 'sex')"
   ]
  },
  {
   "cell_type": "markdown",
   "id": "intense-oklahoma",
   "metadata": {},
   "source": [
    "Con base en estas gráficas hacemos las siguientes observaciones:\n",
    "* La gran mayoría de hombres de Queenstown murieron.\n",
    "* La gran mayoría de los hombres mayores de 55 años murieron.\n",
    "* Casi todos los hombres de tercera y segunda clase murieron.\n",
    "* En Southampton la mayoría de los hombres de primera clase entre 35 y 39 años (lustro 7) sobrevivió. También sobrevivió un hombre de entre 80 y 84 años (lustro 16), pero esto es un caso que considero muy particular por lo que no lo consideraré en el patrón.\n",
    "* En Cherbourg, la mayoría de los hombres de primera clase entre 35 y 39 años (lustro 7) sobrevivió. También sobrevivió un hombre entre 60 y 64 años (lustro 12), por las mismas razones del punto pasado no lo consideraré en este patrón.\n",
    "\n",
    "Resumiendo nuestro patrón de supervivencia para hombres:\n",
    "\n",
    "Se salvan los hombres de primera clase que embarcaron en Southampton o Cherbourg con edades entre 35 y 39 años.\n",
    "\n",
    "Usando estas observaciones definamos nuestro patrón de sobrevivencia con las siguientes características para los hombres sobrevivientes:\n",
    "\n",
    "* Si es hombre y:\n",
    "    + Si es de primera clase y:\n",
    "        + Si embarcó en Southampton o Cherbourg:\n",
    "             - una edad entre 35 y 39 años\n",
    "       "
   ]
  },
  {
   "cell_type": "markdown",
   "id": "sticky-geometry",
   "metadata": {},
   "source": [
    "#### 1.4 Patrón de supervivencia de todos los pasajeros:"
   ]
  },
  {
   "cell_type": "markdown",
   "id": "aggressive-george",
   "metadata": {},
   "source": [
    "Ya tenemos los patrones de supervivencia para niños, mujeres y hombres. Juntando todo tenemos la siguiente lista de las características que deben tener los supervivientes:\n",
    "\n",
    "\n",
    "* Mujer sobrevive si:\n",
    "    - es de primera o segunda clase\n",
    "    - es de tercera clase y si embarcó en:\n",
    "        + Cherbourg y tiene entre:\n",
    "             + 20 y 29 años (lustros 4 y 5)\n",
    "        + Southampton y tiene entre:\n",
    "            - 16 y 19 o 30 y 39 años de edad (lustros 3, 6 y 7).\n",
    "        + Queenstown y tiene entre: \n",
    "            - 16 y 29 años de edad (lustros 3 - 5).\n",
    "\n",
    "\n",
    "* Si es niño o niña y:\n",
    "    + Si es de primera o segunda clase\n",
    "    + Si es de tercera clase y si embarcó en:\n",
    "        - Embarcó en Southampton y tiene entre:\n",
    "            + 3 y 6 años\n",
    "        - Cherbourg\n",
    "    \n",
    "    \n",
    "* Si es hombre y:\n",
    "    + Si es de primera clase y si embarcó en:\n",
    "        + Southampton o Cherbourg y tiene entre:\n",
    "             - 35 y 39 años\n",
    "\n"
   ]
  },
  {
   "cell_type": "markdown",
   "id": "thirty-theme",
   "metadata": {},
   "source": [
    "Ahora podemos programar una función que reciba una fila correspondiente a un pasajero que contenga datos por lo menos de las columnas **age**, **pclass**, **embarked** y **sex**. Con base en el patrón de supervivencia que obtuvimos, va a predecir si el pasajero sobrevive o fallece. El valor que regresa es 1 para indicar que sobrevivió y 0 si falleció."
   ]
  },
  {
   "cell_type": "code",
   "execution_count": 25,
   "id": "unexpected-mistake",
   "metadata": {},
   "outputs": [],
   "source": [
    "#Columnas obligatorias: age, pclass, embarked, sex \n",
    "\n",
    "def survival(row):\n",
    "    value = 0\n",
    "    \n",
    "    #Si la fila no tiene el valor who o de lustro, lo añadimos a la fila\n",
    "    \n",
    "    row = row.to_dict()\n",
    "    row['lustro'] = math.floor(row['age']/5)\n",
    "    \n",
    "    if row['age'] <= 15:\n",
    "        row['who'] = 'child'\n",
    "        \n",
    "    else:\n",
    "        if row['sex'] == 'male':\n",
    "            row['who'] = 'man'\n",
    "        else:\n",
    "            row['who'] = 'woman'\n",
    "\n",
    "    # Mujer\n",
    "    \n",
    "    if row['who'] == 'woman':\n",
    "        if (row['pclass'] == 1 or row['pclass'] == 2):\n",
    "            value = 1 \n",
    "            \n",
    "        elif (row['pclass'] == 3):\n",
    "            \n",
    "            if row['embarked'] == 'C':\n",
    "                if ( row['lustro'] in [4,5]):\n",
    "                    value = 1\n",
    "                    \n",
    "            elif row['embarked'] == 'S':\n",
    "                if (row['lustro'] in [3,6,7]):\n",
    "                    value = 1\n",
    "                    \n",
    "            elif row['embarked'] == 'Q':\n",
    "                if (row['lustro'] in [3,4,5]):\n",
    "                    value = 1\n",
    "              \n",
    "    #Niño\n",
    "    \n",
    "    elif row['who'] == 'child':\n",
    "        \n",
    "        if row['pclass'] in [1,2]:\n",
    "                value = 1\n",
    "            \n",
    "        elif (row['pclass'] == 3):\n",
    "            \n",
    "            if row['embarked'] == 'S':\n",
    "                if 3<=row['age']<=6:\n",
    "                    value = 1 \n",
    "                     \n",
    "            elif row['embarked'] == 'C':\n",
    "                value = 1\n",
    "\n",
    "    #Hombre\n",
    "    \n",
    "    elif row['who'] == 'man':\n",
    "        if row['embarked'] == 'S' or row['embarked'] == 'C':   \n",
    "            if row['pclass'] == 1:      \n",
    "                if row['lustro'] == 7:       \n",
    "                    value = 1\n",
    "                    \n",
    "    return value\n"
   ]
  },
  {
   "cell_type": "markdown",
   "id": "lonely-exclusion",
   "metadata": {},
   "source": [
    "Si aplicamos nuestra función del patrón de supervivencia en todo el dataframe y la comparamos con los valores reales de la columna **survived** obtendremos la precisión de nuestro patrón de suprevivencia:"
   ]
  },
  {
   "cell_type": "code",
   "execution_count": 26,
   "id": "female-valentine",
   "metadata": {},
   "outputs": [
    {
     "name": "stdout",
     "output_type": "stream",
     "text": [
      "0.8395061728395061\n"
     ]
    }
   ],
   "source": [
    "correct_values = 0\n",
    "for row in range(len(D.index)):\n",
    "    \n",
    "    if (D.iloc[row]['survived'] == survival(D.iloc[row])):\n",
    "        correct_values += 1\n",
    "\n",
    "print(correct_values/len(D.index))"
   ]
  },
  {
   "cell_type": "markdown",
   "id": "exact-hamburg",
   "metadata": {},
   "source": [
    "Podemos observar que el patrón de supervivencia al ser comparado con los datos reales del Titanic tiene una precisión del 83.95%"
   ]
  },
  {
   "cell_type": "markdown",
   "id": "white-collector",
   "metadata": {},
   "source": [
    "### 2.¿Cuál es el pueblo de embarque más mortífero?"
   ]
  },
  {
   "cell_type": "markdown",
   "id": "radio-vinyl",
   "metadata": {},
   "source": [
    "Para esto calculemos por cada pueblo de embarque el porcentaje de muertos que hubo. Primero consideremos únicamente las columnas **embarked**, **embark_town** y **alive**"
   ]
  },
  {
   "cell_type": "code",
   "execution_count": 27,
   "id": "virgin-crossing",
   "metadata": {},
   "outputs": [
    {
     "data": {
      "text/html": [
       "<div>\n",
       "<style scoped>\n",
       "    .dataframe tbody tr th:only-of-type {\n",
       "        vertical-align: middle;\n",
       "    }\n",
       "\n",
       "    .dataframe tbody tr th {\n",
       "        vertical-align: top;\n",
       "    }\n",
       "\n",
       "    .dataframe thead th {\n",
       "        text-align: right;\n",
       "    }\n",
       "</style>\n",
       "<table border=\"1\" class=\"dataframe\">\n",
       "  <thead>\n",
       "    <tr style=\"text-align: right;\">\n",
       "      <th></th>\n",
       "      <th>embarked</th>\n",
       "      <th>embark_town</th>\n",
       "      <th>alive</th>\n",
       "    </tr>\n",
       "    <tr>\n",
       "      <th>idx</th>\n",
       "      <th></th>\n",
       "      <th></th>\n",
       "      <th></th>\n",
       "    </tr>\n",
       "  </thead>\n",
       "  <tbody>\n",
       "    <tr>\n",
       "      <th>0</th>\n",
       "      <td>S</td>\n",
       "      <td>Southampton</td>\n",
       "      <td>no</td>\n",
       "    </tr>\n",
       "    <tr>\n",
       "      <th>1</th>\n",
       "      <td>C</td>\n",
       "      <td>Cherbourg</td>\n",
       "      <td>yes</td>\n",
       "    </tr>\n",
       "    <tr>\n",
       "      <th>2</th>\n",
       "      <td>S</td>\n",
       "      <td>Southampton</td>\n",
       "      <td>yes</td>\n",
       "    </tr>\n",
       "    <tr>\n",
       "      <th>3</th>\n",
       "      <td>S</td>\n",
       "      <td>Southampton</td>\n",
       "      <td>yes</td>\n",
       "    </tr>\n",
       "    <tr>\n",
       "      <th>4</th>\n",
       "      <td>S</td>\n",
       "      <td>Southampton</td>\n",
       "      <td>no</td>\n",
       "    </tr>\n",
       "    <tr>\n",
       "      <th>...</th>\n",
       "      <td>...</td>\n",
       "      <td>...</td>\n",
       "      <td>...</td>\n",
       "    </tr>\n",
       "    <tr>\n",
       "      <th>886</th>\n",
       "      <td>S</td>\n",
       "      <td>Southampton</td>\n",
       "      <td>no</td>\n",
       "    </tr>\n",
       "    <tr>\n",
       "      <th>887</th>\n",
       "      <td>S</td>\n",
       "      <td>Southampton</td>\n",
       "      <td>yes</td>\n",
       "    </tr>\n",
       "    <tr>\n",
       "      <th>888</th>\n",
       "      <td>S</td>\n",
       "      <td>Southampton</td>\n",
       "      <td>no</td>\n",
       "    </tr>\n",
       "    <tr>\n",
       "      <th>889</th>\n",
       "      <td>C</td>\n",
       "      <td>Cherbourg</td>\n",
       "      <td>yes</td>\n",
       "    </tr>\n",
       "    <tr>\n",
       "      <th>890</th>\n",
       "      <td>Q</td>\n",
       "      <td>Queenstown</td>\n",
       "      <td>no</td>\n",
       "    </tr>\n",
       "  </tbody>\n",
       "</table>\n",
       "<p>891 rows × 3 columns</p>\n",
       "</div>"
      ],
      "text/plain": [
       "    embarked  embark_town alive\n",
       "idx                            \n",
       "0          S  Southampton    no\n",
       "1          C    Cherbourg   yes\n",
       "2          S  Southampton   yes\n",
       "3          S  Southampton   yes\n",
       "4          S  Southampton    no\n",
       "..       ...          ...   ...\n",
       "886        S  Southampton    no\n",
       "887        S  Southampton   yes\n",
       "888        S  Southampton    no\n",
       "889        C    Cherbourg   yes\n",
       "890        Q   Queenstown    no\n",
       "\n",
       "[891 rows x 3 columns]"
      ]
     },
     "execution_count": 27,
     "metadata": {},
     "output_type": "execute_result"
    }
   ],
   "source": [
    "aux = D[['embarked','embark_town','alive']].copy()\n",
    "aux"
   ]
  },
  {
   "cell_type": "markdown",
   "id": "capital-intellectual",
   "metadata": {},
   "source": [
    "A partir de este último dataframe podemos contar el número de personas que sobrevivieron y murieron por cada uno de los pueblos de embarque. Esto lo podemos observar con **value_counts()**."
   ]
  },
  {
   "cell_type": "code",
   "execution_count": 28,
   "id": "leading-gardening",
   "metadata": {},
   "outputs": [
    {
     "data": {
      "text/plain": [
       "embarked  embark_town  alive\n",
       "S         Southampton  no       427\n",
       "                       yes      219\n",
       "C         Cherbourg    yes       93\n",
       "                       no        75\n",
       "Q         Queenstown   no        47\n",
       "                       yes       30\n",
       "dtype: int64"
      ]
     },
     "execution_count": 28,
     "metadata": {},
     "output_type": "execute_result"
    }
   ],
   "source": [
    "aux.value_counts()"
   ]
  },
  {
   "cell_type": "markdown",
   "id": "dangerous-theta",
   "metadata": {},
   "source": [
    "Ya están contados los sobrevivientes y muertos por pueblo de embarque. Para calcular su porcentaje de mortalidad basta dividir el número de gente que murió entre la suma total de personas en cada pueblo de embarque. También se puede realizar un objeto **groupby**, al que le apliquemos **value_counts()** y normalizemos el resultado para obtener los porcentajes de mortalidad y supervivencia de cada pueblo de embarque:"
   ]
  },
  {
   "cell_type": "code",
   "execution_count": 29,
   "id": "promising-employer",
   "metadata": {},
   "outputs": [
    {
     "data": {
      "text/plain": [
       "embarked  embark_town  alive\n",
       "C         Cherbourg    yes      0.553571\n",
       "                       no       0.446429\n",
       "Q         Queenstown   no       0.610390\n",
       "                       yes      0.389610\n",
       "S         Southampton  no       0.660991\n",
       "                       yes      0.339009\n",
       "Name: alive, dtype: float64"
      ]
     },
     "execution_count": 29,
     "metadata": {},
     "output_type": "execute_result"
    }
   ],
   "source": [
    "aux.groupby(['embarked','embark_town'])['alive'].value_counts(normalize=True)"
   ]
  },
  {
   "cell_type": "markdown",
   "id": "weekly-foster",
   "metadata": {},
   "source": [
    "Graficando la supervivencia/mortalidad de cada pueblo de embarque en gráficas de barras e histogramas tenemos:"
   ]
  },
  {
   "cell_type": "code",
   "execution_count": 30,
   "id": "respiratory-elizabeth",
   "metadata": {},
   "outputs": [
    {
     "data": {
      "text/plain": [
       "Text(0.5, 0.75, 'Supervivencia de pasajeros por pueblo de embarque')"
      ]
     },
     "execution_count": 30,
     "metadata": {},
     "output_type": "execute_result"
    },
    {
     "data": {
      "image/png": "[encoded data removed]",
      "text/plain": [
       "<Figure size 1080x720 with 3 Axes>"
      ]
     },
     "metadata": {},
     "output_type": "display_data"
    }
   ],
   "source": [
    "axes = D.groupby(['alive','embark_town']).size().unstack().plot(kind='pie',\n",
    "                                                           subplots=True, \n",
    "                                                           figsize = (15,10), \n",
    "                                                           autopct=\"%1.1f%%\", \n",
    "                                                           legend = None, \n",
    "                                                           labels = ['',''],\n",
    "                                                           title = ['Cherbourg','Queenstown','Southampton'])\n",
    "fig=axes[0].figure\n",
    "fig.legend([\"No\", \"Sí\"],loc = 6, title = '¿Sobrevivió?')\n",
    "axes[0].set_ylabel('')\n",
    "axes[1].set_ylabel('')\n",
    "axes[2].set_ylabel('')\n",
    "fig.suptitle('Supervivencia de pasajeros por pueblo de embarque',x =0.5, y =0.75,ha = \"center\",va=\"center\",fontsize = 20)"
   ]
  },
  {
   "cell_type": "code",
   "execution_count": 31,
   "id": "statewide-bearing",
   "metadata": {},
   "outputs": [
    {
     "data": {
      "text/plain": [
       "Text(0.5, 1.0, 'Supervivencia de pasajeros por pueblo de embarque')"
      ]
     },
     "execution_count": 31,
     "metadata": {},
     "output_type": "execute_result"
    },
    {
     "data": {
      "image/png": "[encoded data removed]",
      "text/plain": [
       "<Figure size 504x432 with 1 Axes>"
      ]
     },
     "metadata": {
      "needs_background": "light"
     },
     "output_type": "display_data"
    }
   ],
   "source": [
    "D.groupby(['embark_town','alive']).size().unstack().plot(kind = 'bar',figsize=(7,6))\n",
    "plt.xlabel('Pueblo de embarque',fontsize = 20)\n",
    "plt.ylabel('Frecuencia',fontsize = 15)\n",
    "plt.tick_params(axis=\"x\", labelsize=15, rotation = 0)\n",
    "plt.tick_params(axis=\"y\", labelsize=12)\n",
    "plt.legend(['No','Sí'], loc=2, fontsize=12, title = \"¿Sobrevivió?\")\n",
    "plt.title(\"Supervivencia de pasajeros por pueblo de embarque\", fontsize = 20)"
   ]
  },
  {
   "cell_type": "markdown",
   "id": "consistent-certification",
   "metadata": {},
   "source": [
    "Como podemos observar, tenemos que:\n",
    "* Cherbourg tiene un 44.6% de mortalidad.\n",
    "* Queenstown tiene un 61.0% de mortalidad.\n",
    "* Southampton tiene un 66.1% de mortalidad.\n",
    "\n",
    "Como Southampton, es el que tiene mayor porcentaje de mortalidad, entonces podemos concluir que éste es el pueblo de embarque más mortífero.\n",
    "\n",
    "**Respuesta:** Southampton"
   ]
  },
  {
   "cell_type": "markdown",
   "id": "continuous-flour",
   "metadata": {},
   "source": [
    "### 3. Tarifa promedio de los que sobrevivieron y los que no sobrevivieron"
   ]
  },
  {
   "cell_type": "markdown",
   "id": "announced-acrobat",
   "metadata": {},
   "source": [
    "Para esto calculamos los promedios de tarifa por pueblo de la gente que sobrevivió y no sobrevivió. Consideramos únicamente la columna de **survived** y **fare**."
   ]
  },
  {
   "cell_type": "code",
   "execution_count": 32,
   "id": "vietnamese-leave",
   "metadata": {},
   "outputs": [
    {
     "data": {
      "text/html": [
       "<div>\n",
       "<style scoped>\n",
       "    .dataframe tbody tr th:only-of-type {\n",
       "        vertical-align: middle;\n",
       "    }\n",
       "\n",
       "    .dataframe tbody tr th {\n",
       "        vertical-align: top;\n",
       "    }\n",
       "\n",
       "    .dataframe thead th {\n",
       "        text-align: right;\n",
       "    }\n",
       "</style>\n",
       "<table border=\"1\" class=\"dataframe\">\n",
       "  <thead>\n",
       "    <tr style=\"text-align: right;\">\n",
       "      <th></th>\n",
       "      <th>alive</th>\n",
       "      <th>fare</th>\n",
       "    </tr>\n",
       "    <tr>\n",
       "      <th>idx</th>\n",
       "      <th></th>\n",
       "      <th></th>\n",
       "    </tr>\n",
       "  </thead>\n",
       "  <tbody>\n",
       "    <tr>\n",
       "      <th>0</th>\n",
       "      <td>no</td>\n",
       "      <td>7.2500</td>\n",
       "    </tr>\n",
       "    <tr>\n",
       "      <th>1</th>\n",
       "      <td>yes</td>\n",
       "      <td>71.2833</td>\n",
       "    </tr>\n",
       "    <tr>\n",
       "      <th>2</th>\n",
       "      <td>yes</td>\n",
       "      <td>7.9250</td>\n",
       "    </tr>\n",
       "    <tr>\n",
       "      <th>3</th>\n",
       "      <td>yes</td>\n",
       "      <td>53.1000</td>\n",
       "    </tr>\n",
       "    <tr>\n",
       "      <th>4</th>\n",
       "      <td>no</td>\n",
       "      <td>8.0500</td>\n",
       "    </tr>\n",
       "    <tr>\n",
       "      <th>...</th>\n",
       "      <td>...</td>\n",
       "      <td>...</td>\n",
       "    </tr>\n",
       "    <tr>\n",
       "      <th>886</th>\n",
       "      <td>no</td>\n",
       "      <td>13.0000</td>\n",
       "    </tr>\n",
       "    <tr>\n",
       "      <th>887</th>\n",
       "      <td>yes</td>\n",
       "      <td>30.0000</td>\n",
       "    </tr>\n",
       "    <tr>\n",
       "      <th>888</th>\n",
       "      <td>no</td>\n",
       "      <td>23.4500</td>\n",
       "    </tr>\n",
       "    <tr>\n",
       "      <th>889</th>\n",
       "      <td>yes</td>\n",
       "      <td>30.0000</td>\n",
       "    </tr>\n",
       "    <tr>\n",
       "      <th>890</th>\n",
       "      <td>no</td>\n",
       "      <td>7.7500</td>\n",
       "    </tr>\n",
       "  </tbody>\n",
       "</table>\n",
       "<p>891 rows × 2 columns</p>\n",
       "</div>"
      ],
      "text/plain": [
       "    alive     fare\n",
       "idx               \n",
       "0      no   7.2500\n",
       "1     yes  71.2833\n",
       "2     yes   7.9250\n",
       "3     yes  53.1000\n",
       "4      no   8.0500\n",
       "..    ...      ...\n",
       "886    no  13.0000\n",
       "887   yes  30.0000\n",
       "888    no  23.4500\n",
       "889   yes  30.0000\n",
       "890    no   7.7500\n",
       "\n",
       "[891 rows x 2 columns]"
      ]
     },
     "execution_count": 32,
     "metadata": {},
     "output_type": "execute_result"
    }
   ],
   "source": [
    "aux = D[['alive','fare']].copy()\n",
    "aux"
   ]
  },
  {
   "cell_type": "markdown",
   "id": "desperate-spain",
   "metadata": {},
   "source": [
    "A este dataframe le aplicamos un **groupby** respecto a la gente que sobrevivió y no sobrevivió. A este objeto le aplicamos el promedio y obtenemos las tarifas promedio de cada grupo."
   ]
  },
  {
   "cell_type": "code",
   "execution_count": 33,
   "id": "accurate-reason",
   "metadata": {},
   "outputs": [
    {
     "data": {
      "text/html": [
       "<div>\n",
       "<style scoped>\n",
       "    .dataframe tbody tr th:only-of-type {\n",
       "        vertical-align: middle;\n",
       "    }\n",
       "\n",
       "    .dataframe tbody tr th {\n",
       "        vertical-align: top;\n",
       "    }\n",
       "\n",
       "    .dataframe thead th {\n",
       "        text-align: right;\n",
       "    }\n",
       "</style>\n",
       "<table border=\"1\" class=\"dataframe\">\n",
       "  <thead>\n",
       "    <tr style=\"text-align: right;\">\n",
       "      <th></th>\n",
       "      <th>fare</th>\n",
       "    </tr>\n",
       "    <tr>\n",
       "      <th>alive</th>\n",
       "      <th></th>\n",
       "    </tr>\n",
       "  </thead>\n",
       "  <tbody>\n",
       "    <tr>\n",
       "      <th>no</th>\n",
       "      <td>22.117887</td>\n",
       "    </tr>\n",
       "    <tr>\n",
       "      <th>yes</th>\n",
       "      <td>48.395408</td>\n",
       "    </tr>\n",
       "  </tbody>\n",
       "</table>\n",
       "</div>"
      ],
      "text/plain": [
       "            fare\n",
       "alive           \n",
       "no     22.117887\n",
       "yes    48.395408"
      ]
     },
     "execution_count": 33,
     "metadata": {},
     "output_type": "execute_result"
    }
   ],
   "source": [
    "aux.groupby(['alive']).mean()"
   ]
  },
  {
   "cell_type": "markdown",
   "id": "foreign-small",
   "metadata": {},
   "source": [
    "**Respuesta:** \n",
    "* Tarifa promedio de los que sobrevivieron: 48.395408\n",
    "* Tarifa promedio de los que no sobrevivieron: 22.117887"
   ]
  },
  {
   "cell_type": "markdown",
   "id": "digital-minneapolis",
   "metadata": {},
   "source": [
    "### 4. Gráfico de relación entre la clase del pasajero y su supervivencia"
   ]
  },
  {
   "cell_type": "markdown",
   "id": "authorized-greenhouse",
   "metadata": {},
   "source": [
    "Una forma de visualizar claramente cómo se relaciona la clase con la sobrevivencia de los pasajeros acorde a su clase es con una gráfica de barras. Ésta puede comparar la frecuencia por clase de los pasajeros que sobrevivieron y no sobrevivieron. Esto se ve de la siguiente manera:"
   ]
  },
  {
   "cell_type": "code",
   "execution_count": 34,
   "id": "packed-graduation",
   "metadata": {},
   "outputs": [
    {
     "data": {
      "text/plain": [
       "Text(0.5, 1.0, 'Supervivencia de pasajeros por clase')"
      ]
     },
     "execution_count": 34,
     "metadata": {},
     "output_type": "execute_result"
    },
    {
     "data": {
      "image/png": "[encoded data removed]",
      "text/plain": [
       "<Figure size 504x432 with 1 Axes>"
      ]
     },
     "metadata": {
      "needs_background": "light"
     },
     "output_type": "display_data"
    }
   ],
   "source": [
    "D.groupby(['class','alive']).size().unstack().plot(kind = 'bar',figsize=(7,6))\n",
    "plt.xlabel('Clase',fontsize = 20)\n",
    "plt.ylabel('Frecuencia',fontsize = 15)\n",
    "plt.tick_params(axis=\"x\", labelsize=15, rotation = 0)\n",
    "plt.tick_params(axis=\"y\", labelsize=12)\n",
    "plt.legend(['No','Sí'], loc=2, fontsize=12, title = \"¿Sobrevivió?\")\n",
    "plt.title(\"Supervivencia de pasajeros por clase\", fontsize = 20)"
   ]
  },
  {
   "cell_type": "markdown",
   "id": "postal-chambers",
   "metadata": {},
   "source": [
    "Otra forma de visualizarlo es por la proporción de sobrevivientes que hubo por clase. Ahora en lugar de obtener gráficas con las cuentas totales de cada clase, obtenemos los porcentajes de supervivientes y fallecidos. Esto se puede visualizar con gráficas de pastel como se muestra:"
   ]
  },
  {
   "cell_type": "code",
   "execution_count": 35,
   "id": "julian-imperial",
   "metadata": {},
   "outputs": [
    {
     "data": {
      "text/plain": [
       "Text(0.5, 0.75, 'Supervivencia de pasajeros por clase')"
      ]
     },
     "execution_count": 35,
     "metadata": {},
     "output_type": "execute_result"
    },
    {
     "data": {
      "image/png": "[encoded data removed]",
      "text/plain": [
       "<Figure size 1080x720 with 3 Axes>"
      ]
     },
     "metadata": {},
     "output_type": "display_data"
    }
   ],
   "source": [
    "axes = D.groupby(['alive','pclass']).size().unstack().plot(kind='pie',\n",
    "                                                           subplots=True, \n",
    "                                                           figsize = (15,10), \n",
    "                                                           autopct=\"%1.1f%%\", \n",
    "                                                           legend = None, \n",
    "                                                           labels = ['',''],\n",
    "                                                           title = ['Clase 1','Clase 2','Clase 3'])\n",
    "fig=axes[0].figure\n",
    "fig.legend([\"No\", \"Sí\"],loc = 6, title = '¿Sobrevivió?')\n",
    "axes[0].set_ylabel('')\n",
    "axes[1].set_ylabel('')\n",
    "axes[2].set_ylabel('')\n",
    "fig.suptitle('Supervivencia de pasajeros por clase',x =0.5, y =0.75,ha = \"center\",va=\"center\",fontsize = 20)"
   ]
  },
  {
   "cell_type": "markdown",
   "id": "coordinate-bacteria",
   "metadata": {},
   "source": [
    "Observando estas dos gráficas podemos observar que sí hay una relación entre la clase en la que viajaba el pasajero y su superviviencia. En la clase 3, 3/4 de los pasajeros murieron; en la clase 2 un poco más de la mitad de los pasajeros murieron; mientras que en la clase 1 la mayoría sobrevivió, teniendo la mayor proporción de supervivientes, con un 37% de mortalidad.\n",
    "\n",
    "En conclusión la clase sí influía bastante en la supervivencia, pero no era el único factor que la aseguraba totalmente. Esto se debe a que para la primera y segunda clase sigue habiendo una proporción grande de muertos en la primera y segunda clase, también hubo casi 1/4 de supervivientes en la tercera. Así que debe haber más características a parte de la clase que influyan en la superviencia del pasajero."
   ]
  },
  {
   "cell_type": "markdown",
   "id": "recreational-fetish",
   "metadata": {},
   "source": [
    "### 5. Porcentajes de supervivencia y fallecimiento de niños, mujeres y hombres"
   ]
  },
  {
   "cell_type": "markdown",
   "id": "extreme-knife",
   "metadata": {},
   "source": [
    "Para esto contamos el número de superviventes niños, mujeres y hombres. Para ello ocuparemos las columnas de **who** y **alive**. \n",
    "\n",
    "**Nota:** Recordemos que en este conjunto de datos, todo pasajero con a lo más 15 años de edad es un niño."
   ]
  },
  {
   "cell_type": "code",
   "execution_count": 36,
   "id": "alleged-manor",
   "metadata": {},
   "outputs": [
    {
     "data": {
      "text/html": [
       "<div>\n",
       "<style scoped>\n",
       "    .dataframe tbody tr th:only-of-type {\n",
       "        vertical-align: middle;\n",
       "    }\n",
       "\n",
       "    .dataframe tbody tr th {\n",
       "        vertical-align: top;\n",
       "    }\n",
       "\n",
       "    .dataframe thead th {\n",
       "        text-align: right;\n",
       "    }\n",
       "</style>\n",
       "<table border=\"1\" class=\"dataframe\">\n",
       "  <thead>\n",
       "    <tr style=\"text-align: right;\">\n",
       "      <th></th>\n",
       "      <th>who</th>\n",
       "      <th>alive</th>\n",
       "    </tr>\n",
       "    <tr>\n",
       "      <th>idx</th>\n",
       "      <th></th>\n",
       "      <th></th>\n",
       "    </tr>\n",
       "  </thead>\n",
       "  <tbody>\n",
       "    <tr>\n",
       "      <th>0</th>\n",
       "      <td>man</td>\n",
       "      <td>no</td>\n",
       "    </tr>\n",
       "    <tr>\n",
       "      <th>1</th>\n",
       "      <td>woman</td>\n",
       "      <td>yes</td>\n",
       "    </tr>\n",
       "    <tr>\n",
       "      <th>2</th>\n",
       "      <td>woman</td>\n",
       "      <td>yes</td>\n",
       "    </tr>\n",
       "    <tr>\n",
       "      <th>3</th>\n",
       "      <td>woman</td>\n",
       "      <td>yes</td>\n",
       "    </tr>\n",
       "    <tr>\n",
       "      <th>4</th>\n",
       "      <td>man</td>\n",
       "      <td>no</td>\n",
       "    </tr>\n",
       "    <tr>\n",
       "      <th>...</th>\n",
       "      <td>...</td>\n",
       "      <td>...</td>\n",
       "    </tr>\n",
       "    <tr>\n",
       "      <th>886</th>\n",
       "      <td>man</td>\n",
       "      <td>no</td>\n",
       "    </tr>\n",
       "    <tr>\n",
       "      <th>887</th>\n",
       "      <td>woman</td>\n",
       "      <td>yes</td>\n",
       "    </tr>\n",
       "    <tr>\n",
       "      <th>888</th>\n",
       "      <td>woman</td>\n",
       "      <td>no</td>\n",
       "    </tr>\n",
       "    <tr>\n",
       "      <th>889</th>\n",
       "      <td>man</td>\n",
       "      <td>yes</td>\n",
       "    </tr>\n",
       "    <tr>\n",
       "      <th>890</th>\n",
       "      <td>man</td>\n",
       "      <td>no</td>\n",
       "    </tr>\n",
       "  </tbody>\n",
       "</table>\n",
       "<p>891 rows × 2 columns</p>\n",
       "</div>"
      ],
      "text/plain": [
       "       who alive\n",
       "idx             \n",
       "0      man    no\n",
       "1    woman   yes\n",
       "2    woman   yes\n",
       "3    woman   yes\n",
       "4      man    no\n",
       "..     ...   ...\n",
       "886    man    no\n",
       "887  woman   yes\n",
       "888  woman    no\n",
       "889    man   yes\n",
       "890    man    no\n",
       "\n",
       "[891 rows x 2 columns]"
      ]
     },
     "execution_count": 36,
     "metadata": {},
     "output_type": "execute_result"
    }
   ],
   "source": [
    "aux = D[['who','alive']].copy()\n",
    "aux"
   ]
  },
  {
   "cell_type": "code",
   "execution_count": 37,
   "id": "emotional-virtue",
   "metadata": {},
   "outputs": [
    {
     "data": {
      "text/plain": [
       "who    alive\n",
       "child  yes       49\n",
       "       no        34\n",
       "man    no       449\n",
       "       yes       88\n",
       "woman  yes      205\n",
       "       no        66\n",
       "Name: alive, dtype: int64"
      ]
     },
     "execution_count": 37,
     "metadata": {},
     "output_type": "execute_result"
    }
   ],
   "source": [
    "aux.groupby(['who'])['alive'].value_counts()"
   ]
  },
  {
   "cell_type": "markdown",
   "id": "affected-earth",
   "metadata": {},
   "source": [
    "Con esto, ya están contados el total de supervivientes y muertos de cada uno de los grupos. Para calcular los porcentajes de supervivencia podemos dividir el valor total de supervivientes en cada grupo entre el total de personas que hay en éste; para el porcentaje de fallecimiento dividimos el valor total de fallecidos en cada grupo entre el total de personas del mismo.\n",
    "\n",
    "Otra manera de calcular los porcentajes de forma directa con *pandas* es agrupando por hombres, mujeres y niños para luego obtener la cuenta normalizada de los valores. Esto lo hacemos creando un objeto **groupby** acorde a los valores de **who** y **alive**, aplicándole **value_counts()** con los valores normalizados."
   ]
  },
  {
   "cell_type": "code",
   "execution_count": 38,
   "id": "forward-description",
   "metadata": {},
   "outputs": [
    {
     "data": {
      "text/plain": [
       "who    alive\n",
       "child  yes      0.590361\n",
       "       no       0.409639\n",
       "man    no       0.836127\n",
       "       yes      0.163873\n",
       "woman  yes      0.756458\n",
       "       no       0.243542\n",
       "Name: alive, dtype: float64"
      ]
     },
     "execution_count": 38,
     "metadata": {},
     "output_type": "execute_result"
    }
   ],
   "source": [
    "aux.groupby(['who'])['alive'].value_counts(normalize = True)"
   ]
  },
  {
   "cell_type": "markdown",
   "id": "warming-money",
   "metadata": {},
   "source": [
    "Ya tenemos los porcentajes de supervivencia y de fallecimiento de hombres, mujeres y niños.\n",
    "\n",
    "**Respuesta:**\n",
    "* Niños: \n",
    "    + Porcentaje de supervivencia: 59.0361 %\n",
    "    + Porcentaje de fallecimiento: 40.9639 %\n",
    "* Hombres:\n",
    "    + Porcentaje de superviviencia: 16.3873 %\n",
    "    + Porcentaje de fallecimiento: 83.4127 %\n",
    "* Mujeres:\n",
    "    + Porcentaje de supervivencia: 75.6458 %\n",
    "    + Porcentaje de fallecimiento: 24.3542 %\n",
    "    \n",
    "**Nota**: En el punto 1 del desarrollo de este proyecto ya habíamos calculado estos valores. También hicimos unas gráficas de pastel y de barras con ellos."
   ]
  },
  {
   "cell_type": "markdown",
   "id": "bottom-trance",
   "metadata": {},
   "source": [
    "### 6. ¿La edad influyó para no sobrevivir?"
   ]
  },
  {
   "cell_type": "markdown",
   "id": "encouraging-husband",
   "metadata": {},
   "source": [
    "Podemos contar acorde al valor de la edad en ciertos rangos (con los lustros que habíamos definido) cuántos supervivientes y fallecidos hay. A partir de ahí obtener una proporción de supervivientes para cada rango.\n",
    "\n",
    "**Nota:** Nótese que el intervalo derecho de cada rango excluye al último elemento, lo cual sigue coincidiendo con los lustros que definimos al inicio."
   ]
  },
  {
   "cell_type": "code",
   "execution_count": 39,
   "id": "modern-quilt",
   "metadata": {},
   "outputs": [],
   "source": [
    "my_bins = [0,5,10,15,20,25,30,35,40,45,50,55,60,65,70,75,80,85]"
   ]
  },
  {
   "cell_type": "code",
   "execution_count": 40,
   "id": "abstract-plasma",
   "metadata": {},
   "outputs": [
    {
     "data": {
      "text/html": [
       "<div>\n",
       "<style scoped>\n",
       "    .dataframe tbody tr th:only-of-type {\n",
       "        vertical-align: middle;\n",
       "    }\n",
       "\n",
       "    .dataframe tbody tr th {\n",
       "        vertical-align: top;\n",
       "    }\n",
       "\n",
       "    .dataframe thead th {\n",
       "        text-align: right;\n",
       "    }\n",
       "</style>\n",
       "<table border=\"1\" class=\"dataframe\">\n",
       "  <thead>\n",
       "    <tr style=\"text-align: right;\">\n",
       "      <th></th>\n",
       "      <th>alive</th>\n",
       "      <th>no</th>\n",
       "      <th>yes</th>\n",
       "    </tr>\n",
       "    <tr>\n",
       "      <th>lustro</th>\n",
       "      <th>age</th>\n",
       "      <th></th>\n",
       "      <th></th>\n",
       "    </tr>\n",
       "  </thead>\n",
       "  <tbody>\n",
       "    <tr>\n",
       "      <th>0.0</th>\n",
       "      <th>[0, 5)</th>\n",
       "      <td>13.0</td>\n",
       "      <td>27.0</td>\n",
       "    </tr>\n",
       "    <tr>\n",
       "      <th>1.0</th>\n",
       "      <th>[5, 10)</th>\n",
       "      <td>11.0</td>\n",
       "      <td>11.0</td>\n",
       "    </tr>\n",
       "    <tr>\n",
       "      <th>2.0</th>\n",
       "      <th>[10, 15)</th>\n",
       "      <td>9.0</td>\n",
       "      <td>7.0</td>\n",
       "    </tr>\n",
       "    <tr>\n",
       "      <th>3.0</th>\n",
       "      <th>[15, 20)</th>\n",
       "      <td>52.0</td>\n",
       "      <td>34.0</td>\n",
       "    </tr>\n",
       "    <tr>\n",
       "      <th>4.0</th>\n",
       "      <th>[20, 25)</th>\n",
       "      <td>75.0</td>\n",
       "      <td>39.0</td>\n",
       "    </tr>\n",
       "    <tr>\n",
       "      <th>5.0</th>\n",
       "      <th>[25, 30)</th>\n",
       "      <td>193.0</td>\n",
       "      <td>90.0</td>\n",
       "    </tr>\n",
       "    <tr>\n",
       "      <th>6.0</th>\n",
       "      <th>[30, 35)</th>\n",
       "      <td>55.0</td>\n",
       "      <td>40.0</td>\n",
       "    </tr>\n",
       "    <tr>\n",
       "      <th>7.0</th>\n",
       "      <th>[35, 40)</th>\n",
       "      <td>39.0</td>\n",
       "      <td>33.0</td>\n",
       "    </tr>\n",
       "    <tr>\n",
       "      <th>8.0</th>\n",
       "      <th>[40, 45)</th>\n",
       "      <td>30.0</td>\n",
       "      <td>18.0</td>\n",
       "    </tr>\n",
       "    <tr>\n",
       "      <th>9.0</th>\n",
       "      <th>[45, 50)</th>\n",
       "      <td>25.0</td>\n",
       "      <td>16.0</td>\n",
       "    </tr>\n",
       "    <tr>\n",
       "      <th>10.0</th>\n",
       "      <th>[50, 55)</th>\n",
       "      <td>18.0</td>\n",
       "      <td>14.0</td>\n",
       "    </tr>\n",
       "    <tr>\n",
       "      <th>11.0</th>\n",
       "      <th>[55, 60)</th>\n",
       "      <td>10.0</td>\n",
       "      <td>6.0</td>\n",
       "    </tr>\n",
       "    <tr>\n",
       "      <th>12.0</th>\n",
       "      <th>[60, 65)</th>\n",
       "      <td>9.0</td>\n",
       "      <td>6.0</td>\n",
       "    </tr>\n",
       "    <tr>\n",
       "      <th>13.0</th>\n",
       "      <th>[65, 70)</th>\n",
       "      <td>4.0</td>\n",
       "      <td>0.0</td>\n",
       "    </tr>\n",
       "    <tr>\n",
       "      <th>14.0</th>\n",
       "      <th>[70, 75)</th>\n",
       "      <td>6.0</td>\n",
       "      <td>0.0</td>\n",
       "    </tr>\n",
       "    <tr>\n",
       "      <th>16.0</th>\n",
       "      <th>[80, 85)</th>\n",
       "      <td>0.0</td>\n",
       "      <td>1.0</td>\n",
       "    </tr>\n",
       "  </tbody>\n",
       "</table>\n",
       "</div>"
      ],
      "text/plain": [
       "alive               no   yes\n",
       "lustro age                  \n",
       "0.0    [0, 5)     13.0  27.0\n",
       "1.0    [5, 10)    11.0  11.0\n",
       "2.0    [10, 15)    9.0   7.0\n",
       "3.0    [15, 20)   52.0  34.0\n",
       "4.0    [20, 25)   75.0  39.0\n",
       "5.0    [25, 30)  193.0  90.0\n",
       "6.0    [30, 35)   55.0  40.0\n",
       "7.0    [35, 40)   39.0  33.0\n",
       "8.0    [40, 45)   30.0  18.0\n",
       "9.0    [45, 50)   25.0  16.0\n",
       "10.0   [50, 55)   18.0  14.0\n",
       "11.0   [55, 60)   10.0   6.0\n",
       "12.0   [60, 65)    9.0   6.0\n",
       "13.0   [65, 70)    4.0   0.0\n",
       "14.0   [70, 75)    6.0   0.0\n",
       "16.0   [80, 85)    0.0   1.0"
      ]
     },
     "execution_count": 40,
     "metadata": {},
     "output_type": "execute_result"
    }
   ],
   "source": [
    "aux = D.groupby(['lustro',pd.cut(D['age'], my_bins, right = False)])['alive'].value_counts().unstack().fillna(0)\n",
    "aux"
   ]
  },
  {
   "cell_type": "markdown",
   "id": "alien-aquarium",
   "metadata": {},
   "source": [
    "Ahora añadimos dos columnas de nuestros resultados normalizados para encontrar los porcentajes de supervivientes y fallecidos por lustro. Esto lo hacemos dividiendo el número total de fallecidos entre el total de pasajeros de la edad correspondiente, lo mismo para los supervivientes."
   ]
  },
  {
   "cell_type": "code",
   "execution_count": 41,
   "id": "anticipated-green",
   "metadata": {},
   "outputs": [
    {
     "data": {
      "text/html": [
       "<div>\n",
       "<style scoped>\n",
       "    .dataframe tbody tr th:only-of-type {\n",
       "        vertical-align: middle;\n",
       "    }\n",
       "\n",
       "    .dataframe tbody tr th {\n",
       "        vertical-align: top;\n",
       "    }\n",
       "\n",
       "    .dataframe thead th {\n",
       "        text-align: right;\n",
       "    }\n",
       "</style>\n",
       "<table border=\"1\" class=\"dataframe\">\n",
       "  <thead>\n",
       "    <tr style=\"text-align: right;\">\n",
       "      <th></th>\n",
       "      <th>alive</th>\n",
       "      <th>no</th>\n",
       "      <th>yes</th>\n",
       "      <th>no %</th>\n",
       "      <th>yes %</th>\n",
       "    </tr>\n",
       "    <tr>\n",
       "      <th>lustro</th>\n",
       "      <th>age</th>\n",
       "      <th></th>\n",
       "      <th></th>\n",
       "      <th></th>\n",
       "      <th></th>\n",
       "    </tr>\n",
       "  </thead>\n",
       "  <tbody>\n",
       "    <tr>\n",
       "      <th>0.0</th>\n",
       "      <th>[0, 5)</th>\n",
       "      <td>13.0</td>\n",
       "      <td>27.0</td>\n",
       "      <td>32.500000</td>\n",
       "      <td>67.500000</td>\n",
       "    </tr>\n",
       "    <tr>\n",
       "      <th>1.0</th>\n",
       "      <th>[5, 10)</th>\n",
       "      <td>11.0</td>\n",
       "      <td>11.0</td>\n",
       "      <td>50.000000</td>\n",
       "      <td>50.000000</td>\n",
       "    </tr>\n",
       "    <tr>\n",
       "      <th>2.0</th>\n",
       "      <th>[10, 15)</th>\n",
       "      <td>9.0</td>\n",
       "      <td>7.0</td>\n",
       "      <td>56.250000</td>\n",
       "      <td>43.750000</td>\n",
       "    </tr>\n",
       "    <tr>\n",
       "      <th>3.0</th>\n",
       "      <th>[15, 20)</th>\n",
       "      <td>52.0</td>\n",
       "      <td>34.0</td>\n",
       "      <td>60.465116</td>\n",
       "      <td>39.534884</td>\n",
       "    </tr>\n",
       "    <tr>\n",
       "      <th>4.0</th>\n",
       "      <th>[20, 25)</th>\n",
       "      <td>75.0</td>\n",
       "      <td>39.0</td>\n",
       "      <td>65.789474</td>\n",
       "      <td>34.210526</td>\n",
       "    </tr>\n",
       "    <tr>\n",
       "      <th>5.0</th>\n",
       "      <th>[25, 30)</th>\n",
       "      <td>193.0</td>\n",
       "      <td>90.0</td>\n",
       "      <td>68.197880</td>\n",
       "      <td>31.802120</td>\n",
       "    </tr>\n",
       "    <tr>\n",
       "      <th>6.0</th>\n",
       "      <th>[30, 35)</th>\n",
       "      <td>55.0</td>\n",
       "      <td>40.0</td>\n",
       "      <td>57.894737</td>\n",
       "      <td>42.105263</td>\n",
       "    </tr>\n",
       "    <tr>\n",
       "      <th>7.0</th>\n",
       "      <th>[35, 40)</th>\n",
       "      <td>39.0</td>\n",
       "      <td>33.0</td>\n",
       "      <td>54.166667</td>\n",
       "      <td>45.833333</td>\n",
       "    </tr>\n",
       "    <tr>\n",
       "      <th>8.0</th>\n",
       "      <th>[40, 45)</th>\n",
       "      <td>30.0</td>\n",
       "      <td>18.0</td>\n",
       "      <td>62.500000</td>\n",
       "      <td>37.500000</td>\n",
       "    </tr>\n",
       "    <tr>\n",
       "      <th>9.0</th>\n",
       "      <th>[45, 50)</th>\n",
       "      <td>25.0</td>\n",
       "      <td>16.0</td>\n",
       "      <td>60.975610</td>\n",
       "      <td>39.024390</td>\n",
       "    </tr>\n",
       "    <tr>\n",
       "      <th>10.0</th>\n",
       "      <th>[50, 55)</th>\n",
       "      <td>18.0</td>\n",
       "      <td>14.0</td>\n",
       "      <td>56.250000</td>\n",
       "      <td>43.750000</td>\n",
       "    </tr>\n",
       "    <tr>\n",
       "      <th>11.0</th>\n",
       "      <th>[55, 60)</th>\n",
       "      <td>10.0</td>\n",
       "      <td>6.0</td>\n",
       "      <td>62.500000</td>\n",
       "      <td>37.500000</td>\n",
       "    </tr>\n",
       "    <tr>\n",
       "      <th>12.0</th>\n",
       "      <th>[60, 65)</th>\n",
       "      <td>9.0</td>\n",
       "      <td>6.0</td>\n",
       "      <td>60.000000</td>\n",
       "      <td>40.000000</td>\n",
       "    </tr>\n",
       "    <tr>\n",
       "      <th>13.0</th>\n",
       "      <th>[65, 70)</th>\n",
       "      <td>4.0</td>\n",
       "      <td>0.0</td>\n",
       "      <td>100.000000</td>\n",
       "      <td>0.000000</td>\n",
       "    </tr>\n",
       "    <tr>\n",
       "      <th>14.0</th>\n",
       "      <th>[70, 75)</th>\n",
       "      <td>6.0</td>\n",
       "      <td>0.0</td>\n",
       "      <td>100.000000</td>\n",
       "      <td>0.000000</td>\n",
       "    </tr>\n",
       "    <tr>\n",
       "      <th>16.0</th>\n",
       "      <th>[80, 85)</th>\n",
       "      <td>0.0</td>\n",
       "      <td>1.0</td>\n",
       "      <td>0.000000</td>\n",
       "      <td>100.000000</td>\n",
       "    </tr>\n",
       "  </tbody>\n",
       "</table>\n",
       "</div>"
      ],
      "text/plain": [
       "alive               no   yes        no %       yes %\n",
       "lustro age                                          \n",
       "0.0    [0, 5)     13.0  27.0   32.500000   67.500000\n",
       "1.0    [5, 10)    11.0  11.0   50.000000   50.000000\n",
       "2.0    [10, 15)    9.0   7.0   56.250000   43.750000\n",
       "3.0    [15, 20)   52.0  34.0   60.465116   39.534884\n",
       "4.0    [20, 25)   75.0  39.0   65.789474   34.210526\n",
       "5.0    [25, 30)  193.0  90.0   68.197880   31.802120\n",
       "6.0    [30, 35)   55.0  40.0   57.894737   42.105263\n",
       "7.0    [35, 40)   39.0  33.0   54.166667   45.833333\n",
       "8.0    [40, 45)   30.0  18.0   62.500000   37.500000\n",
       "9.0    [45, 50)   25.0  16.0   60.975610   39.024390\n",
       "10.0   [50, 55)   18.0  14.0   56.250000   43.750000\n",
       "11.0   [55, 60)   10.0   6.0   62.500000   37.500000\n",
       "12.0   [60, 65)    9.0   6.0   60.000000   40.000000\n",
       "13.0   [65, 70)    4.0   0.0  100.000000    0.000000\n",
       "14.0   [70, 75)    6.0   0.0  100.000000    0.000000\n",
       "16.0   [80, 85)    0.0   1.0    0.000000  100.000000"
      ]
     },
     "execution_count": 41,
     "metadata": {},
     "output_type": "execute_result"
    }
   ],
   "source": [
    "aux['no %'] = 100*aux['no']/(aux['no'] + aux['yes'])\n",
    "aux['yes %'] = 100*aux['yes']/(aux['no'] + aux['yes'])\n",
    "aux"
   ]
  },
  {
   "cell_type": "markdown",
   "id": "patient-transfer",
   "metadata": {},
   "source": [
    "Estos mismos datos también los podemos ilustrar en un histograma que contenga el total de pasajeros en cada rango de edad establecido. Cada una de las barras está dividida con la frecuencia de fallecidos y supervivientes de su respectivo lustro."
   ]
  },
  {
   "cell_type": "code",
   "execution_count": 42,
   "id": "funny-iraqi",
   "metadata": {},
   "outputs": [
    {
     "data": {
      "text/plain": [
       "<matplotlib.legend.Legend at 0x7fc8c55d3e20>"
      ]
     },
     "execution_count": 42,
     "metadata": {},
     "output_type": "execute_result"
    },
    {
     "data": {
      "image/png": "[encoded data removed]",
      "text/plain": [
       "<Figure size 432x288 with 1 Axes>"
      ]
     },
     "metadata": {
      "needs_background": "light"
     },
     "output_type": "display_data"
    }
   ],
   "source": [
    "D.pivot(columns = 'alive').age.plot(kind = 'hist',stacked = True, bins = my_bins)\n",
    "plt.title(\"Supervivencia de pasajeros por edad\",fontsize = 15)\n",
    "plt.ylabel(\"Frecuencia\")\n",
    "plt.xlabel(\"Edad\")\n",
    "plt.legend([\"No\", \"Sí\"],title = \"¿Sobrevivió?\")"
   ]
  },
  {
   "cell_type": "markdown",
   "id": "mature-straight",
   "metadata": {},
   "source": [
    "**Respuesta:** Con los resultados obtenidos podemos observar que la edad tuvo sí tuvo cierta influencia para no sobrevivir. Esto lo podemos observar en cómo los niños entre 0 y 4 años tenían un porcentaje de fallecimiento significativamente menor que el resto, siendo de 32.5 %. A partir de esto podríamos concluir que entre los pasajeros a borde del Titanic había una prioridad por salvar a los niños más pequeños antes que a jóvenes y adultos.\n",
    "\n",
    "En cuanto a las edades entre 5 y 64 años la diferencia en el porcentaje de mortalidad no es mucha, podemos ver que varía aproximadamente entre el 50% y 70%. Por otra parte donde incrementa la mortalidad significativamente es en los adultos de 65 años o más, el 100% de los pasajeros entre 65 y 74 años murireron. Solo había un pasajero entre 80 y 84 años en todo el Titanic que además logró sobrevivir. Si consideramos el conjunto total de los adultos mayores a 65 años, nos queda que su porcentaje de mortalidad es de: (4+6)/(4+6+1)=90.9 %%\n",
    "\n",
    "Resumiendo tenemos que si la edad está entre:\n",
    "* 0 y 4 años, entonces la probabilidad de morir era baja respecto a las otras edades, teniendo un porcentaje mortalidad del 32.5%.\n",
    "* 5 y 64 años, entonces  el porcentaje de mortalidad estaba alrededor de un 50% y 70%.\n",
    "* 65 años en adelante (gente mayor de edad), entonces era mucho más probable que el pasajero fuera a morir. Estos con un porcentaje de mortalidad del 90.9%.\n",
    "\n",
    "En conclusión, para no sobrevivir la edad sí influye, siendo los adultos mayores a 65 años los más propensos a fallecer. Por otro lado, el grupo cuya edad influyó para tener mayor probabilidad de sobrevivir fue el de los niños entre 0 y 4 años."
   ]
  },
  {
   "cell_type": "markdown",
   "id": "naval-north",
   "metadata": {},
   "source": [
    "### 7. ¿Hubiera sido más probable que yo sobreviviera o que falleciera?"
   ]
  },
  {
   "cell_type": "markdown",
   "id": "strategic-carbon",
   "metadata": {},
   "source": [
    "Para esto podemos usar la función del patrón de supervivencia que definimos en el pimer punto \n",
    "\n",
    "Primero hay que definir los datos necesarios en la función para determinar la supervivencia en el patrón:\n",
    "* pclass = 3 (esto es inventado, creo que pude haber entrado al Titanic en la tercera clase)\n",
    "* sex = male\n",
    "* age = 20 (lustro = 4)\n",
    "* embarked = S (pienso que habría embarcado con la mayoría de las personas que abordaron el Titanic, en este caso Southampton)\n",
    "\n",
    "Usando estos creamos una fila de un dataframe a la cual le aplicamos la función de superviencia para determinar si yo sobreviviría o fallecería:"
   ]
  },
  {
   "cell_type": "code",
   "execution_count": 43,
   "id": "heavy-housing",
   "metadata": {},
   "outputs": [
    {
     "name": "stdout",
     "output_type": "stream",
     "text": [
      "Survived: 0\n"
     ]
    }
   ],
   "source": [
    "dictionary = {'sex':'male', 'pclass': 3, 'age': 20, 'embarked': 'C'}\n",
    "\n",
    "my_df = pd.DataFrame([dictionary], columns = dictionary.keys())\n",
    "\n",
    "print(\"Survived:\",survival(my_df.iloc[0]))"
   ]
  },
  {
   "cell_type": "markdown",
   "id": "established-webcam",
   "metadata": {},
   "source": [
    "Vemos que regresó un 0, es decir, usando mis datos lo más probable es que yo hubiera fallecido si hubiera sido un pasajero del Titanic.\n",
    "\n",
    "**Respuesta:** Lo más probable es que yo hubiera fallecido en el Titanic."
   ]
  },
  {
   "cell_type": "markdown",
   "id": "unauthorized-astronomy",
   "metadata": {},
   "source": [
    "### 8. Promedio de edad de los fallecidos que embarcaron en Queenstown"
   ]
  },
  {
   "cell_type": "markdown",
   "id": "alive-binary",
   "metadata": {},
   "source": [
    "Para esto hay que considerar solo aquellas filas que contengan gente que fallecieron y embarcaron en Queenstown. Además solo ocupamos las columnas de **age**, **alive** y **embarked**. Esto lo obtenemos de la siguiente manera:"
   ]
  },
  {
   "cell_type": "code",
   "execution_count": 44,
   "id": "amber-penalty",
   "metadata": {},
   "outputs": [
    {
     "data": {
      "text/html": [
       "<div>\n",
       "<style scoped>\n",
       "    .dataframe tbody tr th:only-of-type {\n",
       "        vertical-align: middle;\n",
       "    }\n",
       "\n",
       "    .dataframe tbody tr th {\n",
       "        vertical-align: top;\n",
       "    }\n",
       "\n",
       "    .dataframe thead th {\n",
       "        text-align: right;\n",
       "    }\n",
       "</style>\n",
       "<table border=\"1\" class=\"dataframe\">\n",
       "  <thead>\n",
       "    <tr style=\"text-align: right;\">\n",
       "      <th></th>\n",
       "      <th>embark_town</th>\n",
       "      <th>embarked</th>\n",
       "      <th>alive</th>\n",
       "      <th>age</th>\n",
       "    </tr>\n",
       "    <tr>\n",
       "      <th>idx</th>\n",
       "      <th></th>\n",
       "      <th></th>\n",
       "      <th></th>\n",
       "      <th></th>\n",
       "    </tr>\n",
       "  </thead>\n",
       "  <tbody>\n",
       "    <tr>\n",
       "      <th>5</th>\n",
       "      <td>Queenstown</td>\n",
       "      <td>Q</td>\n",
       "      <td>no</td>\n",
       "      <td>28.0</td>\n",
       "    </tr>\n",
       "    <tr>\n",
       "      <th>16</th>\n",
       "      <td>Queenstown</td>\n",
       "      <td>Q</td>\n",
       "      <td>no</td>\n",
       "      <td>2.0</td>\n",
       "    </tr>\n",
       "    <tr>\n",
       "      <th>46</th>\n",
       "      <td>Queenstown</td>\n",
       "      <td>Q</td>\n",
       "      <td>no</td>\n",
       "      <td>28.0</td>\n",
       "    </tr>\n",
       "    <tr>\n",
       "      <th>116</th>\n",
       "      <td>Queenstown</td>\n",
       "      <td>Q</td>\n",
       "      <td>no</td>\n",
       "      <td>70.5</td>\n",
       "    </tr>\n",
       "    <tr>\n",
       "      <th>126</th>\n",
       "      <td>Queenstown</td>\n",
       "      <td>Q</td>\n",
       "      <td>no</td>\n",
       "      <td>28.0</td>\n",
       "    </tr>\n",
       "    <tr>\n",
       "      <th>143</th>\n",
       "      <td>Queenstown</td>\n",
       "      <td>Q</td>\n",
       "      <td>no</td>\n",
       "      <td>19.0</td>\n",
       "    </tr>\n",
       "    <tr>\n",
       "      <th>171</th>\n",
       "      <td>Queenstown</td>\n",
       "      <td>Q</td>\n",
       "      <td>no</td>\n",
       "      <td>4.0</td>\n",
       "    </tr>\n",
       "    <tr>\n",
       "      <th>188</th>\n",
       "      <td>Queenstown</td>\n",
       "      <td>Q</td>\n",
       "      <td>no</td>\n",
       "      <td>40.0</td>\n",
       "    </tr>\n",
       "    <tr>\n",
       "      <th>196</th>\n",
       "      <td>Queenstown</td>\n",
       "      <td>Q</td>\n",
       "      <td>no</td>\n",
       "      <td>28.0</td>\n",
       "    </tr>\n",
       "    <tr>\n",
       "      <th>214</th>\n",
       "      <td>Queenstown</td>\n",
       "      <td>Q</td>\n",
       "      <td>no</td>\n",
       "      <td>28.0</td>\n",
       "    </tr>\n",
       "    <tr>\n",
       "      <th>245</th>\n",
       "      <td>Queenstown</td>\n",
       "      <td>Q</td>\n",
       "      <td>no</td>\n",
       "      <td>44.0</td>\n",
       "    </tr>\n",
       "    <tr>\n",
       "      <th>260</th>\n",
       "      <td>Queenstown</td>\n",
       "      <td>Q</td>\n",
       "      <td>no</td>\n",
       "      <td>28.0</td>\n",
       "    </tr>\n",
       "    <tr>\n",
       "      <th>264</th>\n",
       "      <td>Queenstown</td>\n",
       "      <td>Q</td>\n",
       "      <td>no</td>\n",
       "      <td>28.0</td>\n",
       "    </tr>\n",
       "    <tr>\n",
       "      <th>278</th>\n",
       "      <td>Queenstown</td>\n",
       "      <td>Q</td>\n",
       "      <td>no</td>\n",
       "      <td>7.0</td>\n",
       "    </tr>\n",
       "    <tr>\n",
       "      <th>280</th>\n",
       "      <td>Queenstown</td>\n",
       "      <td>Q</td>\n",
       "      <td>no</td>\n",
       "      <td>65.0</td>\n",
       "    </tr>\n",
       "    <tr>\n",
       "      <th>364</th>\n",
       "      <td>Queenstown</td>\n",
       "      <td>Q</td>\n",
       "      <td>no</td>\n",
       "      <td>28.0</td>\n",
       "    </tr>\n",
       "    <tr>\n",
       "      <th>388</th>\n",
       "      <td>Queenstown</td>\n",
       "      <td>Q</td>\n",
       "      <td>no</td>\n",
       "      <td>28.0</td>\n",
       "    </tr>\n",
       "    <tr>\n",
       "      <th>411</th>\n",
       "      <td>Queenstown</td>\n",
       "      <td>Q</td>\n",
       "      <td>no</td>\n",
       "      <td>28.0</td>\n",
       "    </tr>\n",
       "    <tr>\n",
       "      <th>421</th>\n",
       "      <td>Queenstown</td>\n",
       "      <td>Q</td>\n",
       "      <td>no</td>\n",
       "      <td>21.0</td>\n",
       "    </tr>\n",
       "    <tr>\n",
       "      <th>428</th>\n",
       "      <td>Queenstown</td>\n",
       "      <td>Q</td>\n",
       "      <td>no</td>\n",
       "      <td>28.0</td>\n",
       "    </tr>\n",
       "    <tr>\n",
       "      <th>459</th>\n",
       "      <td>Queenstown</td>\n",
       "      <td>Q</td>\n",
       "      <td>no</td>\n",
       "      <td>28.0</td>\n",
       "    </tr>\n",
       "    <tr>\n",
       "      <th>468</th>\n",
       "      <td>Queenstown</td>\n",
       "      <td>Q</td>\n",
       "      <td>no</td>\n",
       "      <td>28.0</td>\n",
       "    </tr>\n",
       "    <tr>\n",
       "      <th>501</th>\n",
       "      <td>Queenstown</td>\n",
       "      <td>Q</td>\n",
       "      <td>no</td>\n",
       "      <td>21.0</td>\n",
       "    </tr>\n",
       "    <tr>\n",
       "      <th>502</th>\n",
       "      <td>Queenstown</td>\n",
       "      <td>Q</td>\n",
       "      <td>no</td>\n",
       "      <td>28.0</td>\n",
       "    </tr>\n",
       "    <tr>\n",
       "      <th>517</th>\n",
       "      <td>Queenstown</td>\n",
       "      <td>Q</td>\n",
       "      <td>no</td>\n",
       "      <td>28.0</td>\n",
       "    </tr>\n",
       "    <tr>\n",
       "      <th>525</th>\n",
       "      <td>Queenstown</td>\n",
       "      <td>Q</td>\n",
       "      <td>no</td>\n",
       "      <td>40.5</td>\n",
       "    </tr>\n",
       "    <tr>\n",
       "      <th>552</th>\n",
       "      <td>Queenstown</td>\n",
       "      <td>Q</td>\n",
       "      <td>no</td>\n",
       "      <td>28.0</td>\n",
       "    </tr>\n",
       "    <tr>\n",
       "      <th>560</th>\n",
       "      <td>Queenstown</td>\n",
       "      <td>Q</td>\n",
       "      <td>no</td>\n",
       "      <td>28.0</td>\n",
       "    </tr>\n",
       "    <tr>\n",
       "      <th>593</th>\n",
       "      <td>Queenstown</td>\n",
       "      <td>Q</td>\n",
       "      <td>no</td>\n",
       "      <td>28.0</td>\n",
       "    </tr>\n",
       "    <tr>\n",
       "      <th>613</th>\n",
       "      <td>Queenstown</td>\n",
       "      <td>Q</td>\n",
       "      <td>no</td>\n",
       "      <td>28.0</td>\n",
       "    </tr>\n",
       "    <tr>\n",
       "      <th>626</th>\n",
       "      <td>Queenstown</td>\n",
       "      <td>Q</td>\n",
       "      <td>no</td>\n",
       "      <td>57.0</td>\n",
       "    </tr>\n",
       "    <tr>\n",
       "      <th>629</th>\n",
       "      <td>Queenstown</td>\n",
       "      <td>Q</td>\n",
       "      <td>no</td>\n",
       "      <td>28.0</td>\n",
       "    </tr>\n",
       "    <tr>\n",
       "      <th>654</th>\n",
       "      <td>Queenstown</td>\n",
       "      <td>Q</td>\n",
       "      <td>no</td>\n",
       "      <td>18.0</td>\n",
       "    </tr>\n",
       "    <tr>\n",
       "      <th>657</th>\n",
       "      <td>Queenstown</td>\n",
       "      <td>Q</td>\n",
       "      <td>no</td>\n",
       "      <td>32.0</td>\n",
       "    </tr>\n",
       "    <tr>\n",
       "      <th>680</th>\n",
       "      <td>Queenstown</td>\n",
       "      <td>Q</td>\n",
       "      <td>no</td>\n",
       "      <td>28.0</td>\n",
       "    </tr>\n",
       "    <tr>\n",
       "      <th>703</th>\n",
       "      <td>Queenstown</td>\n",
       "      <td>Q</td>\n",
       "      <td>no</td>\n",
       "      <td>25.0</td>\n",
       "    </tr>\n",
       "    <tr>\n",
       "      <th>718</th>\n",
       "      <td>Queenstown</td>\n",
       "      <td>Q</td>\n",
       "      <td>no</td>\n",
       "      <td>28.0</td>\n",
       "    </tr>\n",
       "    <tr>\n",
       "      <th>749</th>\n",
       "      <td>Queenstown</td>\n",
       "      <td>Q</td>\n",
       "      <td>no</td>\n",
       "      <td>31.0</td>\n",
       "    </tr>\n",
       "    <tr>\n",
       "      <th>767</th>\n",
       "      <td>Queenstown</td>\n",
       "      <td>Q</td>\n",
       "      <td>no</td>\n",
       "      <td>30.5</td>\n",
       "    </tr>\n",
       "    <tr>\n",
       "      <th>768</th>\n",
       "      <td>Queenstown</td>\n",
       "      <td>Q</td>\n",
       "      <td>no</td>\n",
       "      <td>28.0</td>\n",
       "    </tr>\n",
       "    <tr>\n",
       "      <th>776</th>\n",
       "      <td>Queenstown</td>\n",
       "      <td>Q</td>\n",
       "      <td>no</td>\n",
       "      <td>28.0</td>\n",
       "    </tr>\n",
       "    <tr>\n",
       "      <th>778</th>\n",
       "      <td>Queenstown</td>\n",
       "      <td>Q</td>\n",
       "      <td>no</td>\n",
       "      <td>28.0</td>\n",
       "    </tr>\n",
       "    <tr>\n",
       "      <th>787</th>\n",
       "      <td>Queenstown</td>\n",
       "      <td>Q</td>\n",
       "      <td>no</td>\n",
       "      <td>8.0</td>\n",
       "    </tr>\n",
       "    <tr>\n",
       "      <th>790</th>\n",
       "      <td>Queenstown</td>\n",
       "      <td>Q</td>\n",
       "      <td>no</td>\n",
       "      <td>28.0</td>\n",
       "    </tr>\n",
       "    <tr>\n",
       "      <th>825</th>\n",
       "      <td>Queenstown</td>\n",
       "      <td>Q</td>\n",
       "      <td>no</td>\n",
       "      <td>28.0</td>\n",
       "    </tr>\n",
       "    <tr>\n",
       "      <th>885</th>\n",
       "      <td>Queenstown</td>\n",
       "      <td>Q</td>\n",
       "      <td>no</td>\n",
       "      <td>39.0</td>\n",
       "    </tr>\n",
       "    <tr>\n",
       "      <th>890</th>\n",
       "      <td>Queenstown</td>\n",
       "      <td>Q</td>\n",
       "      <td>no</td>\n",
       "      <td>32.0</td>\n",
       "    </tr>\n",
       "  </tbody>\n",
       "</table>\n",
       "</div>"
      ],
      "text/plain": [
       "    embark_town embarked alive   age\n",
       "idx                                 \n",
       "5    Queenstown        Q    no  28.0\n",
       "16   Queenstown        Q    no   2.0\n",
       "46   Queenstown        Q    no  28.0\n",
       "116  Queenstown        Q    no  70.5\n",
       "126  Queenstown        Q    no  28.0\n",
       "143  Queenstown        Q    no  19.0\n",
       "171  Queenstown        Q    no   4.0\n",
       "188  Queenstown        Q    no  40.0\n",
       "196  Queenstown        Q    no  28.0\n",
       "214  Queenstown        Q    no  28.0\n",
       "245  Queenstown        Q    no  44.0\n",
       "260  Queenstown        Q    no  28.0\n",
       "264  Queenstown        Q    no  28.0\n",
       "278  Queenstown        Q    no   7.0\n",
       "280  Queenstown        Q    no  65.0\n",
       "364  Queenstown        Q    no  28.0\n",
       "388  Queenstown        Q    no  28.0\n",
       "411  Queenstown        Q    no  28.0\n",
       "421  Queenstown        Q    no  21.0\n",
       "428  Queenstown        Q    no  28.0\n",
       "459  Queenstown        Q    no  28.0\n",
       "468  Queenstown        Q    no  28.0\n",
       "501  Queenstown        Q    no  21.0\n",
       "502  Queenstown        Q    no  28.0\n",
       "517  Queenstown        Q    no  28.0\n",
       "525  Queenstown        Q    no  40.5\n",
       "552  Queenstown        Q    no  28.0\n",
       "560  Queenstown        Q    no  28.0\n",
       "593  Queenstown        Q    no  28.0\n",
       "613  Queenstown        Q    no  28.0\n",
       "626  Queenstown        Q    no  57.0\n",
       "629  Queenstown        Q    no  28.0\n",
       "654  Queenstown        Q    no  18.0\n",
       "657  Queenstown        Q    no  32.0\n",
       "680  Queenstown        Q    no  28.0\n",
       "703  Queenstown        Q    no  25.0\n",
       "718  Queenstown        Q    no  28.0\n",
       "749  Queenstown        Q    no  31.0\n",
       "767  Queenstown        Q    no  30.5\n",
       "768  Queenstown        Q    no  28.0\n",
       "776  Queenstown        Q    no  28.0\n",
       "778  Queenstown        Q    no  28.0\n",
       "787  Queenstown        Q    no   8.0\n",
       "790  Queenstown        Q    no  28.0\n",
       "825  Queenstown        Q    no  28.0\n",
       "885  Queenstown        Q    no  39.0\n",
       "890  Queenstown        Q    no  32.0"
      ]
     },
     "execution_count": 44,
     "metadata": {},
     "output_type": "execute_result"
    }
   ],
   "source": [
    "aux = D[['embark_town','embarked','alive','age']][(D['embarked'] == 'Q') & (D['alive']=='no')].copy()\n",
    "aux"
   ]
  },
  {
   "cell_type": "code",
   "execution_count": 45,
   "id": "human-filename",
   "metadata": {},
   "outputs": [
    {
     "name": "stdout",
     "output_type": "stream",
     "text": [
      "Edad promedio de los fallecidos que embarcaron en Queenstown: 28.98936170212766\n"
     ]
    }
   ],
   "source": [
    "print(\"Edad promedio de los fallecidos que embarcaron en Queenstown:\",aux['age'].mean())"
   ]
  },
  {
   "cell_type": "markdown",
   "id": "final-charge",
   "metadata": {},
   "source": [
    "**Respuesta:** Concluimos que la edad promedio de los fallecidos que embarcaron en Queenstown es de 28.989 años, que podríamos redondear a 29 años."
   ]
  },
  {
   "cell_type": "markdown",
   "id": "satisfactory-elite",
   "metadata": {},
   "source": [
    "Hasta aquí terminan las soluciones de todos las tareas y preguntas del planteamiento del problema."
   ]
  },
  {
   "cell_type": "markdown",
   "id": "authentic-paste",
   "metadata": {},
   "source": [
    "### Conclusiones"
   ]
  },
  {
   "cell_type": "markdown",
   "id": "useful-testing",
   "metadata": {},
   "source": [
    "A partir de las soluciones de este proyecto llegamos a algunas conclusiones en cuanto a los supervivientes y fallecidos a bordo del Titanic. Se pudo identificar que sí había características entre los pasajeros que influían bastante en su supervivencia. Tuvimos en primer lugar que la gran mayoría de los hombres murieron; por otro lado, más de la mitad de las mujeres y niños sobrevivieron. Otro aspecto a considerar fue el de la clase, los pasajeros de primera clase fue la que tuvo un mayor porcentaje de supervivientes; mientras que la que tuvo más muertos fue la tercera clase. Relacionado a esto, podemos observar como parte de su supervivencia llegaba a depender en parte de la tarifa con la que ingresaron al Titanic, esto se observa cuando comparamos que el promedio de la tarifa de los fallecidos es en promedio menos de la mitad de aquellos que sobrevivieron. Finalmente otra característica relevante fue la edad, la gente mayor fue la que sufrió más muertes respecto al resto de los pasajeros, por otro lado los niños entre 0 y 4 años fueron los que sufrieron de menos muertes.\n",
    "\n",
    "\n",
    "Considerando todo esto podemos decir que en el Titanic al momento de hacer un protocolo de evacuación y rescate, se priorizó a quiénes salvar. Probablemente las mujeres y niños eran los grupos que más se buscaba rescatar, pero especialmente si eran de primera o segunda clase. Los hombres parecen haber sido de los últimos en esta prioridad de pasajeros, pero entre ellos los hubo un enfoque a los hombres de primera clase. Finalmente, algo que pudo haber perjudicado a algunos pasajeros para escapar y salvarse fueron sus limitaciones físicas de la edad, ya que la mayoría de la gente mayor a bordo murió. \n",
    "\n",
    "\n",
    "Hubo varios aprendizajes que adquirí a partir de este proyecto. El primero de ellos fue tener que ir aprendiendo a manejar mis datos faltantes y tomar decisiones sobre cuáles voy a estar utilizando y cuáles voy a ignorar en mi análisis. Por ejemplo, si a una columna veía que le faltaban muchos datos optaba por mejor no considerarla. También si tenía suficiente información en el conjunto podía decidir si le determinaba un valor específico a los datos faltantes con base en el comportamiento general de la columna correspondiente y su relación con otras. Esto fue lo relacionado a *Data Wrangling*.\n",
    "\n",
    "\n",
    "Otro punto del aprendizaje que tuve con este proyecto fue pensar y decidir en cómo voy a visualizar mis datos para llegar a ciertas ideas. Mis mayores dificultades en el desarrollo del proyecto vinieron con este punto. Estuve tratando distintos tipos de gráficas para varias situaciones, al final para  tomé decisiones para cada situación que requería esto. Para visualizar proporciones entre las categorías de un solo grupo con valores discretos (por ejemplo la clase) optaba por visualizarlo con gráficas de barras y de pastel usando las frecuencias de fallecidos y supervivientes. Cuando consideraba que podía haber varias columnas que influían en la supervivencia o muerte, optaba por las gráficas de tipo *swarm* que ofrece *seaborn* ya que así podía ver claramente todos los distintos casos y distinguir de manera clara quiénes sobrevivían o morían, con qué edades, su puerto de embarcación, etc. Finalmente cuando quería ver la frecuencia y proporción de muertes por grupos con valores continuos (como la edad) decidí usar histogramas con particiones que indicaban si sobrevivían o no.\n",
    "\n",
    "\n",
    "Finalmente, pienso que a partir de todas estas tareas asignadas empecé a tener un mejor entendimiento de cómo usar a nivel básico las librerías de *matplotlib*, *seaborn* y especialmente *pandas*. Todas las preguntas y tareas requerían de un uso adecuado de las herramientas que ofrece *pandas*, ya sea agrupando columnas, generando nuevas, contando valores, filtrando los datos por condiciones, etc. Y esto se complementa muy bien con la visualización de los datos que se obtiene con ayuda de *seaborn* y *matplotlib*."
   ]
  }
 ],
 "metadata": {
  "kernelspec": {
   "display_name": "Python 3",
   "language": "python",
   "name": "python3"
  },
  "language_info": {
   "codemirror_mode": {
    "name": "ipython",
    "version": 3
   },
   "file_extension": ".py",
   "mimetype": "text/x-python",
   "name": "python",
   "nbconvert_exporter": "python",
   "pygments_lexer": "ipython3",
   "version": "3.8.8"
  }
 },
 "nbformat": 4,
 "nbformat_minor": 5
}
