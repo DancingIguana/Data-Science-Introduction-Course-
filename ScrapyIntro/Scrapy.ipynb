{
 "cells": [
  {
   "cell_type": "markdown",
   "id": "quick-remark",
   "metadata": {},
   "source": [
    "<center><img src=\"https://upload.wikimedia.org/wikipedia/commons/thumb/c/ca/Escudo-UNAM-escalable.svg/683px-Escudo-UNAM-escalable.svg.png\" alt=\"\" width=\"200\" algin = \"center\"/></center>\n",
    "<center><img src=\"https://lesaunam.com/wp-content/uploads/2019/01/ENES-logo-02.png\" alt=\"\" width=\"200\"/></center>\n",
    "<center><font size=\"+2\">Tecnologías para la Información en Ciencias</font></center>\n",
    "<center><font size=\"+3\">Introducción a la Ciencia de Datos</font></center>\n",
    "<center><font size=\"+4\">Proyecto: Web Scraping con Scrapy</font></center>\n",
    "<center><font size=\"+2\">Alumno: Juan Pablo Maldonado Castro</font></center>\n",
    "<center><font size=\"+2\">Número de cuenta: 420138620</font></center>\n",
    "<center><font size=\"+2\">Fecha de entrega: 17 de septiembre de 2021</font></center>\n"
   ]
  },
  {
   "cell_type": "markdown",
   "id": "native-robertson",
   "metadata": {},
   "source": [
    "# Introducción\n",
    "\n",
    "El objetivo de este proyecto es realizar un proceso de Web Scraping en Python utilizando la herramienta de ```Scrapy```. Lo que se busca es poder usar ésta para crear un programa que sea capaz de obtener varios datos de un sitio web. En este caso, se trabajará con la página de https://www.cia.gov/the-world-factbook/, la cual contiene datos de casi o sino todos los países del mundo. \n",
    "\n",
    "A partir de los datos que se obtengan de este sitio web, el segundo objetivo es encontrar qué nos dicen los datos a partir de gráficas. Éstas deben procurar visualizar los datos de tal forma que se sigan los 4 principios básicos de presentación de Edward R. Tuffe (maximizar la tasa de tinta de datos, minimizar el factor mentira, minimizar la chatarra gráfica y utilizar escalas apropiadas y etiquetado claro).\n",
    "\n",
    "La información que queramos analizar a partir de los datos ya va a depender de lo que indiquen las preguntas asignadas del proyecto."
   ]
  },
  {
   "cell_type": "markdown",
   "id": "assisted-royalty",
   "metadata": {},
   "source": [
    "## Problema\n",
    "\n",
    "Empleando la información que se puede obtener mediante *Scraping* de la página web:\n",
    "\n",
    "* https://www.cia.gov/the-world-factbook/countries\n",
    "\n",
    "respondan las siguientes preguntas:\n",
    "\n",
    "1. ¿Existe alguna relación entre el GDP (PIB) de un país, en términos de su poder adquisitivo, y su porcentaje de usuarios de Internet?\n",
    "2. ¿Además, la tendencia resulta similar para países con ingreso económico bajo, mediano y alto?"
   ]
  },
  {
   "cell_type": "markdown",
   "id": "demonstrated-customer",
   "metadata": {},
   "source": [
    "## Desarrollo"
   ]
  },
  {
   "cell_type": "markdown",
   "id": "solar-trademark",
   "metadata": {},
   "source": [
    "Antes de comenzar con el desarrollo del proyecto, es importante importar las librerías que vamos a ocupar para el análisis de los datos. En este caso no va a ser necesario hacer el proceso de ```Scrapy``` dentro de este mismo notebook, ya que se hace por separado en una carpeta llamada **countries**."
   ]
  },
  {
   "cell_type": "code",
   "execution_count": 1,
   "id": "pregnant-notion",
   "metadata": {},
   "outputs": [],
   "source": [
    "import pandas as pd\n",
    "import matplotlib.pyplot as plt\n",
    "import seaborn as sns\n",
    "import numpy as np\n",
    "import re"
   ]
  },
  {
   "cell_type": "markdown",
   "id": "british-republic",
   "metadata": {},
   "source": [
    "### Scraping del sitio\n",
    "\n",
    "Para responder las dos preguntas, lo primero que necesitamos es extraer la información del sitio asignado. Al entrar, nos encontraremos con lo siguiente:\n",
    "\n",
    "<img src='./aux_imgs/img1.png'>\n",
    "\n",
    "En esta página se encuentra una lista ordenada alfabéticamente de todos los países registrados por la CIA. Además, si le damos click a un nombre de los países, llegaremos a una página con todos los datos disponibles del mismo. Se ve de la siguiente manera:\n",
    "\n",
    "<img src='./aux_imgs/img2.png'>\n",
    "\n",
    "Dentro de estas páginas dedicadas a cada país vamos a encontrar para cada uno la mayoría de los datos que ocupamos para este proyecto. Estos son:\n",
    "\n",
    "* Nombre del país\n",
    "* Área en $km^2$\n",
    "* Población (número de habitantes)\n",
    "* Producto Interno Bruto (GDP per capita)\n",
    "* Tasa de desempleo\n",
    "* Tasa de impuestos\n",
    "* Deuda externa\n",
    "* Tasa de cambio a dólares\n",
    "* Número de usuarios de internet\n",
    "* Porcentaje de usuarios de internet\n",
    "* Número de aeropuertos\n",
    "* Carreteras en servicio en $km^2$\n",
    "* Inversión militar en % del PIB\n",
    "* Imagen de la bandera nacional\n",
    "* URL de la imagen de la bandera\n",
    "\n",
    "Algo a tomar en consideración, es que va a haber países que tengan datos faltantes. Esto va a ser algo con lo que tendremos que lidiar en nuestro proceso de *Data Wrangling*. Para realizar nuestro proceso de Scraping, algo que podemos notar es que en la página con la lista de los países la lista de estos está siendo generada dinámicamente. Esto lo vemos al interactuar con el siguiente botón de flecha:\n",
    "\n",
    "<img src='./aux_imgs/img3.png'>\n",
    "\n",
    "Al inhabilitar JavaScript en la página, notamos que este botón no funciona. Pero cuando lo habilitamos, podemos dar click y seguir navegando por la lista de países. Esto nos presenta un problema, ya que todos los elementos que ocupamos de la página no están en un mismo sitio estático. Al tener nuestros países separados en esta lista navegable solo por medio de este botón, tenemos dos opciones para lidiar con este problema.\n",
    "\n",
    "La primer solución sería hacer un proceso de *Scraping* enfocado a lidiar con sitios dinámicos. La segunda sería buscar una forma alternativa para poder acceder a todos los sitios de los países sin necesidad de preocuparnos de que estén separados por procesos dinámicos de la página web. En este caso trataremos de enfocarnos en la segunda opción ya que personalmente me parece más sencilla.\n",
    "\n",
    "Para empezar, en lugar de ir directamente a la página de https://www.cia.gov/the-world-factbook/countries/, probemos ir a la sección anterior: https://www.cia.gov/the-world-factbook/. Dentro de ésta, nos encontraremos con la siguiente página inicial:\n",
    "\n",
    "<img src='./aux_imgs/img4.png'>\n",
    "\n",
    "Si bajamos dentro de esta misma página, llegaremos a la siguiente sección que puede ser de nuestro interés:\n",
    "\n",
    "<img src='./aux_imgs/img5.png'>\n",
    "\n",
    "Podemos observar que hay una lista de las regiones del mundo (este lo vamos a ignorar en el proceso de Scraping). El primer elemento es relacionado a la información general del mundo. Lo interesante es que abajo de él se encuentran listadas todas las regiones del planeta. Si le damos click a alguna de éstas, nos encontraremos con lo siguiente:\n",
    "\n",
    "<img src='./aux_imgs/img6.png'>\n",
    "\n",
    "Es una sección de la región que contiene una lista de todos los países dentro de ella. Además, la gran ventaja es que para todas las regiones todos los países listados son accesibles de manera directa en la misma página. Incluso, los nombres listados también nos dirigen al sitio dedicado a la información del país correspondiente. No hay necesidad de manejar datos generados dinámicamente como en la página que habíamos visto inicialmente. \n",
    "\n",
    "La desventaja es que entre esta lista de países nos encontramos con elementos que no lo son. Por ejemplo, están la Unión Europea, islas que ya le pertenecen a un país, territorios océanicos, archipiélagos, etc. Esto será algo de lo que no nos vamos a preocupar por esta ocasión porque no son tantos los datos de este tipo, además de que en el futuro los podríamos identificar como datos atípicos dependiendo de sus valores.\n",
    "\n",
    "Entonces, asumiendo que en todas estas regiones encontramos todos o al menos la gran mayoría de los países del mundo, podemos utilizar estas secciones para hacer un *Scraping* de los datos de los países. Esto sin la necesidad de lidiar con asuntos como el botón que interactúa dinámicamente con los datos de la página. Ahora lo único que ocupamos es:\n",
    "\n",
    "1. Ingresar inicialmente a la página https://www.cia.gov/the-world-factbook/.\n",
    "2. Para cada región listada (a excepción de 'World'), ingresar a su hipervínculo correspondiente.\n",
    "3. Para cada país dentro del sitio de la región, ingresar a su hipervínculo correspondiente.\n",
    "4. Extraer todos los datos disponibles mencionados previamente de todos los países encontrados. Esto lo podemos hacer con un ```parse_item```de scrapy que se base en los **xpath** de cada dato\n",
    "5. Exportar todos los datos encontrados a un archivo csv. En el caso de las imágenes, guardarlas en un directorio.\n",
    "\n",
    "Todo este proceso es realizado con un proyecto de ```Scrapy```, en el cual crearemos un archivo de ```spider.py``` que se encargará hacer una clase que visite todas las regiones y países para así poder extraer los datos de los sitios de estos últimos. La configuración y definiciones realizadas para llevar a cabo este proceso se pueden observar de manera más detallada dentro del directorio **countries** que viene en la carpeta de este proyecto.\n",
    "\n",
    "El resultado final de este proceso nos devolvió un directorio, **flags**, con todas las imágenes de las banderas encontradas de los países. También nos dio el archivo ```countries_items.csv``` que contiene todos los datos encontrados de cada país que tuvimos disponible en el sitio. "
   ]
  },
  {
   "cell_type": "markdown",
   "id": "thick-diagnosis",
   "metadata": {},
   "source": [
    "### Data Wrangling\n",
    "\n",
    "**Nota**: a lo largo de esta sección va haber muchas partes donde visualizamos los datos en el Notebook ya sea imprimiendo o visualizando los distintos datos del *DataFrame*. Como esto terminaba abarcando mucho espacio, la presentación del Notebook se veía muy cargada e innecesariamente larga. Por esta razón decidí comentar todas las líneas que imprimieran los datos. De todos modos se conservan, para que se tenga idea de cómo se fue realizando este proceso.\n",
    "\n",
    "Antes de manipular nuestro conjunto de datos, hay que obtenerlo como un *DataFrame* de **pandas**. Para esto, hacemos lo siguiente:"
   ]
  },
  {
   "cell_type": "code",
   "execution_count": 2,
   "id": "metallic-university",
   "metadata": {},
   "outputs": [],
   "source": [
    "df = pd.read_csv('countries_items.csv')"
   ]
  },
  {
   "cell_type": "markdown",
   "id": "following-brook",
   "metadata": {},
   "source": [
    "Algo adicional que podemos hacer, solo por conveniencia, es ordenarlos por orden alfabético respecto a su nombre:"
   ]
  },
  {
   "cell_type": "code",
   "execution_count": 3,
   "id": "controlling-composer",
   "metadata": {},
   "outputs": [],
   "source": [
    "df.sort_values(by=['nombre'], inplace = True, ignore_index=True)\n",
    "#df"
   ]
  },
  {
   "cell_type": "markdown",
   "id": "invisible-scott",
   "metadata": {},
   "source": [
    "Lo que queremos hacer es manejar los datos de tal forma que podamos hacer interpretaciones y gráficos sobre ellos. Desafortunadamente la manera en que están presentados aquí no es muy conveniente para hacer operaciones de distintos tipos. Las razones son que algunos datos son nulos, otros tienen el valor numérico mezclado con algún texto, también hay algunos que solo tienen como contenido un enunciado que usualmente no tiene ningún valor específico, etc.\n",
    "\n",
    "Para obtener un *DataFrame* ideal para el propósito de este proyecto haremos las siguientes acciones sobre nuestros datos:\n",
    "* Toda fila que no tenga un nombre de un país (son típicamente islas) será eliminada del conjunto\n",
    "* Para todas las columnas cuya información dependa de algún valor numérico como **area**, **poblacion**, **desempleo**, etcétera, vamos a borrar todo el texto de acompañamiento. Esto incluye fechas, enunciados, unidades o signos de cualquier tipo. Lo único que vamos a preservar serán un valor numérico en tipo de dato **float**.\n",
    "* Una vez que la columna **gdp** está transformada a valores flotantes, vamos a hacer la siguiente transformación a dato categórico. Si:\n",
    "    * GDP $<$ 50: entonces se considera dato atípico. Por lo tanto se elimina el dato y pasa a ser NaN.\n",
    "    * 50 $\\leq$ GDP $\\leq$ 5,000: entonces se considera 'Ingreso bajo'\n",
    "    * 5,000 $<$ GDP $\\leq$ 25,000: entonces se considera 'Ingreso medio'\n",
    "    * GDP $>$ 25,000: entonce se condiera 'Ingreso alto'.\n",
    "\n",
    "* Mantener países con datos nulos. A pesar de que no haya algún dato de estos, puede que sigan poseyendo otros que nos puedan beneficiar al análisis que buscamos hacer.\n",
    "\n",
    "Esto lo hacemos a continuación:\n",
    "\n",
    "Primero, notemos que hasta abajo del *DataFrame* hay algunas filas que solo tienen **imagen** y **url_imagen**. "
   ]
  },
  {
   "cell_type": "code",
   "execution_count": 4,
   "id": "excellent-straight",
   "metadata": {},
   "outputs": [],
   "source": [
    "#df.tail(10)"
   ]
  },
  {
   "cell_type": "markdown",
   "id": "subject-chapter",
   "metadata": {},
   "source": [
    "Vamos a eliminarlas porque no nos van a aportar casi nada a nuestros datos. Ni siquiera tienen el nombre del país, porque como podemos observar parecen ser solo unas islas que no poseen de los datos que vamos a analizar. Basta con redefinir nuestro *DataFrame* para que solo almacene las columnas con valores no nulos en la columna de **nombre**. "
   ]
  },
  {
   "cell_type": "code",
   "execution_count": 5,
   "id": "concrete-basin",
   "metadata": {},
   "outputs": [],
   "source": [
    "#Eliminar filas con nombre de país nulo\n",
    "df = df[df['nombre'].notna()]\n",
    "#df.tail(5)"
   ]
  },
  {
   "cell_type": "markdown",
   "id": "committed-model",
   "metadata": {},
   "source": [
    "Ahora, todas las filas de nuestro *DataFrame* tienen por lo menos el nombre del país. Lo que sigue es limpiar la columna de **area**. Observemos su comportamiento:"
   ]
  },
  {
   "cell_type": "code",
   "execution_count": 6,
   "id": "mobile-drive",
   "metadata": {},
   "outputs": [],
   "source": [
    "#for area in df['area']:\n",
    "#    print(area)"
   ]
  },
  {
   "cell_type": "markdown",
   "id": "fitted-powder",
   "metadata": {},
   "source": [
    "Notemos que la cadena de texto sigue un patrón: primero va el número de $km^2$ seguido ya sea de las unidades o de detalles complementarios. Lo malo, es que hay un par de casos donde el valor del área está expresado en escala de millones. Así que vamos a considerarlos y lo que haremos es multiplicar su valor numérico por 1,000,000. \n",
    "\n",
    "Lo que haremos para quedarnos únicamente con el valor numérico será separar por espacio nuestra **string** en una lista. Agarraremos únicamente el primer elemento y quitaremos todas las comas que hay en los números; en caso de que éste tenga un punto, transformamos en **float** el valor y lo multiplicamos por un millón. Finalmente transformamos la columna en valores numéricos de manera explícita para que no estén definidos como **string** en el *DataFrame*."
   ]
  },
  {
   "cell_type": "code",
   "execution_count": 7,
   "id": "impossible-administrator",
   "metadata": {},
   "outputs": [],
   "source": [
    "#Obtener valores numéricos de area\n",
    "aux = df['area']\n",
    "aux = aux.str.replace(',','')\n",
    "counter = 0\n",
    "\n",
    "for l in aux.str.split():\n",
    "    aux[counter] = l[0]\n",
    "    if('.' in aux[counter]): #Multiplicar por 1,000,000 los expresados en millones\n",
    "        aux[counter] = str(float(aux[counter])*1000000) \n",
    "    counter += 1\n",
    "\n",
    "df['area'] = aux\n",
    "df['area'] = pd.to_numeric(df['area'])\n",
    "#df['area']"
   ]
  },
  {
   "cell_type": "markdown",
   "id": "alone-unemployment",
   "metadata": {},
   "source": [
    "Ya que tenemos toda nuestra columna de área con los valores numéricos por sí solos, sigue modificar la columna de **poblacion**. Si la observamos, tenemos lo siguiente:"
   ]
  },
  {
   "cell_type": "code",
   "execution_count": 8,
   "id": "approximate-prediction",
   "metadata": {},
   "outputs": [],
   "source": [
    "#for i in df['poblacion']:\n",
    "#    print(i)"
   ]
  },
  {
   "cell_type": "markdown",
   "id": "cleared-dating",
   "metadata": {},
   "source": [
    "Vemos que los datos siguen un patrón: el primer número que aparezca en el texto (no necesariamente el primer elemento) será el número de habitantes. Además, suele haber una parte entre paréntesis que indica ya sea la fecha o detalles de los datos. Ya si el valor tiene únicamente texto y si ignoramos el número del año en la fecha dentro de los paréntesis, estamos totalmente seguros de que no hay dato numérico para la población de ese país. Algo que también sucede es que, al igual que en la columna de **area**, hay un dato expresado en unidades de millón.\n",
    "\n",
    "Así que lo primero que haremos será eliminar toda la sección de paréntesis de la **string** para no tener problemas asumiendo los valores numéricos de las fechas como un dato. Luego vamos a quitar todas las comas de las **string**. Éstas las vamos a separar con un ```split()``` y tomaremos el primer valor numérico que encontremos en la lista como el dato de **poblacion**. En caso de que haya un punto en el dato, lo transformamos a **float** y lo multiplicamos por 1,000,000. Al final pasamos nuestros datos como **float** al *DataFrame*. Vamos a dejar los datos NaN tal como están."
   ]
  },
  {
   "cell_type": "code",
   "execution_count": 9,
   "id": "collective-omaha",
   "metadata": {},
   "outputs": [],
   "source": [
    "#Obtener valores numéricos de población\n",
    "aux = df['poblacion'].str.replace('\\(.*\\)','', regex = True) #Quitando substrings con la fecha de obtención del dato\n",
    "aux = aux.str.replace(',','')\n",
    "counter = 0\n",
    "\n",
    "for l in aux.str.split(): #Encontrando el primer valor numérico encontrado, ya que algunos estaban encerrados en texto\n",
    "    found = False\n",
    "    for s in l:\n",
    "        if '.' in s: #Caso particular donde UK tenía expresado en millones su unidad de población\n",
    "            aux[counter] = str(float(s)*1000000)\n",
    "            found = True\n",
    "            break\n",
    "            \n",
    "        if(s.isnumeric()): \n",
    "            aux[counter] = s\n",
    "            found = True\n",
    "            break\n",
    "            \n",
    "    if found == False:\n",
    "        aux[counter] = \"\" #Valores sin número, se asumirán como NaN\n",
    "        \n",
    "    counter += 1\n",
    "    \n",
    "aux.tail(20)\n",
    "df['poblacion'] = aux\n",
    "df['poblacion'] = pd.to_numeric(df['poblacion'])\n",
    "#df['poblacion']"
   ]
  },
  {
   "cell_type": "markdown",
   "id": "burning-honey",
   "metadata": {},
   "source": [
    "Ya tenemos la columna de **poblacion** únicamente en valores numéricos. Ahora sigue el valor de **gdp**, recordemos la transformación a dato categórico que le habíamos planteado. Pero antes de eso, es necesario poder manejarlo como dato numérico. Así que veamos su patrón:"
   ]
  },
  {
   "cell_type": "code",
   "execution_count": 10,
   "id": "buried-polish",
   "metadata": {},
   "outputs": [],
   "source": [
    "#for i in df['gdp']:\n",
    "#    print(i)"
   ]
  },
  {
   "cell_type": "markdown",
   "id": "specified-exemption",
   "metadata": {},
   "source": [
    "El patrón que sigue este valor es tener el valor numérico acompañado del signo \\$, luego aparece entre paréntesis la fecha de recopilación del dato. Fuera de eso hay alguno que otro valor nulo por los cuales no nos tenemos que preocupar. Ya no hay casos como el de las unidades expresadas en millón, así que no es necesario considerar esas situaciones.\n",
    "\n",
    "Lo único que haremos será agarrar el primer elemento de la **string** y luego le quitaremos el signo de \\$ y las comas. Esto nos dará la **string** del número, el cual pasaremos como tipo de dato numérico a la columna del *DataFrame*."
   ]
  },
  {
   "cell_type": "code",
   "execution_count": 11,
   "id": "announced-rescue",
   "metadata": {},
   "outputs": [],
   "source": [
    "aux = df['gdp'].str.split().str[0]\n",
    "aux = aux.str.replace('$','', regex = False)\n",
    "aux = aux.str.replace(',','')\n",
    "df['gdp'] = aux\n",
    "df['gdp'] = pd.to_numeric(df['gdp'])\n",
    "#df['gdp']"
   ]
  },
  {
   "cell_type": "markdown",
   "id": "persistent-voice",
   "metadata": {},
   "source": [
    "Ya que tenemos los valores numéricos los transformamos en datos categóricos. Recordemos, si:\n",
    "* GDP $<$ 50: entonces se considera dato atípico. Por lo tanto se elimina el dato y pasa a ser NaN.\n",
    "* 50 $\\leq$ GDP $\\leq$ 5,000: entonces se considera 'Ingreso bajo'\n",
    "* 5,000 $<$ GDP $\\leq$ 25,000: entonces se considera 'Ingreso medio'\n",
    "* GDP $>$ 25,000: entonce se condiera 'Ingreso alto'"
   ]
  },
  {
   "cell_type": "markdown",
   "id": "professional-orlando",
   "metadata": {},
   "source": [
    "Basta con que definamos una función que regrese el dato categórico basado en las condicionales definidas. Ésta se la aplicamos a la columna y así logramos transformar nuestra columna de **gdp** a como habíamos planteado."
   ]
  },
  {
   "cell_type": "code",
   "execution_count": 12,
   "id": "static-spokesman",
   "metadata": {},
   "outputs": [],
   "source": [
    "def to_categoric(x):\n",
    "    if(x < 50):\n",
    "        return np.nan\n",
    "    elif (50 <= x and x <= 5000):\n",
    "        return 'Ingreso bajo'\n",
    "    elif (5000 < x and x <= 25000):\n",
    "        return 'Ingreso medio'\n",
    "    elif (x > 25000):\n",
    "        return 'Ingreso alto'\n",
    "    else:\n",
    "        return np.nan\n",
    "df['gdp'] = df['gdp'].apply(to_categoric)\n",
    "#df['gdp']"
   ]
  },
  {
   "cell_type": "markdown",
   "id": "floppy-sharp",
   "metadata": {},
   "source": [
    "Ya que tenemos la columna de **gdp** en valores categóricos, ahora vamos a transformar la de **desempleo**. Observemos cómo se comportan los datos:"
   ]
  },
  {
   "cell_type": "code",
   "execution_count": 13,
   "id": "revolutionary-inspection",
   "metadata": {},
   "outputs": [],
   "source": [
    "#for i in df['desempleo']:\n",
    "#    print(i)"
   ]
  },
  {
   "cell_type": "markdown",
   "id": "characteristic-twenty",
   "metadata": {},
   "source": [
    "El patrón que siguen todas las **string** es: primero está el número seguido del signo de porcentaje, después está la substring que tiene entre paréntesis la fecha de recopilación del dato. \n",
    "\n",
    "Como solo ocupamos el valor numérico, nos quedaremos únicamente con el **float** del porcentaje. Para ello separamos la string con ```split()```, quitamos el signo de porcentaje al número y transformamos este valor de **string** a uno numérico en la columna."
   ]
  },
  {
   "cell_type": "code",
   "execution_count": 14,
   "id": "perceived-native",
   "metadata": {},
   "outputs": [],
   "source": [
    "aux = df['desempleo'].str.split().str[0]\n",
    "aux = aux.str.replace('%','')\n",
    "df['desempleo'] = aux\n",
    "df['desempleo'] = pd.to_numeric(df['desempleo'])\n",
    "#df['desempleo']"
   ]
  },
  {
   "cell_type": "markdown",
   "id": "female-thirty",
   "metadata": {},
   "source": [
    "Ya tenemos los valores de desempleo expresados como el valor numérico del porcentaje. Lo que sigue es repetir un proceso similar con la columna de **impuestos**. Veamos cómo se comporta:"
   ]
  },
  {
   "cell_type": "code",
   "execution_count": 15,
   "id": "intense-compression",
   "metadata": {},
   "outputs": [],
   "source": [
    "#for i in df['impuestos']:\n",
    "#    print(i)"
   ]
  },
  {
   "cell_type": "markdown",
   "id": "civil-choice",
   "metadata": {},
   "source": [
    "Notemos que todas las **string** siguen el mismo patrón: primero está el número acompañado del signo de porcentaje, el cual es seguido por la *substring* **(of GDP)** y después está la fecha de recopilación del dato en paréntesis.\n",
    "\n",
    "Para obtener el valor numérico del porcentaje haremos exactamente el mismo procedimiento que con la columna de **deuda**. "
   ]
  },
  {
   "cell_type": "code",
   "execution_count": 16,
   "id": "voluntary-requirement",
   "metadata": {},
   "outputs": [],
   "source": [
    "aux = df['impuestos'].str.split().str[0]\n",
    "aux = aux.str.replace('%','')\n",
    "df['impuestos'] = aux\n",
    "df['impuestos'] = pd.to_numeric(df['impuestos'])\n",
    "#df['impuestos']"
   ]
  },
  {
   "cell_type": "markdown",
   "id": "veterinary-philippines",
   "metadata": {},
   "source": [
    "Ya tenemos el valor numérico del porcentaje para **impuestos**. Ahora sigue transformar el de **deuda**, para ello primero observamos el comportamiento:"
   ]
  },
  {
   "cell_type": "code",
   "execution_count": 17,
   "id": "lined-completion",
   "metadata": {},
   "outputs": [],
   "source": [
    "#for i in df['deuda']:\n",
    "#    print(i)"
   ]
  },
  {
   "cell_type": "markdown",
   "id": "regular-matrix",
   "metadata": {},
   "source": [
    "Notemos que en las **string**: primero está el valor numérico de la deuda acompañado de \\$, luego están las unidades en trillones, billones, millones o el valor puro y finalmente está la fecha de recopilación del dato encerrado en paréntesis. \n",
    "\n",
    "Para obtener únicamente el valor numérico haremos lo siguiente:\n",
    "1. Quitar los signos de \\$ y las comas de todos los datos\n",
    "2. Separar la string con ```split()```\n",
    "3. Verificar que el primer elemento de la lista sea numérico, en caso de que no asumir NaN.\n",
    "4. Inspeccionar si el segundo elemento de la lista es **trillion**, **billion**, **million** o ninguno de los tres. Si:\n",
    "    * Es **trillion**: multiplicar por 1,000,000,000,000 el valor  **float** del primer elemento de la lista.\n",
    "    * Es **billion**: multiplicar por 1,000,000,000 el valor **float** del primer elemento de la lista.\n",
    "    * Es **million**: multiplicar por 1,000,000 el valor **float** del primer elemento de la lista.\n",
    "    * No es ninguno: ignorar el caso\n",
    "4. Si el valor es NaN, mantenerlo así.\n",
    "5. Transformar a valores numéricos todas las **string** obtenidas y añadirlas a la columna"
   ]
  },
  {
   "cell_type": "code",
   "execution_count": 18,
   "id": "dutch-deployment",
   "metadata": {},
   "outputs": [],
   "source": [
    "aux = df['deuda']\n",
    "aux = aux.str.replace('$','', regex = False)\n",
    "aux = aux.str.replace(',','', regex = False)\n",
    "\n",
    "counter = 0\n",
    "for i in aux.str.split().str[:2]:\n",
    "    if isinstance(i, list) and len(i)>1:\n",
    "        if(i[0].isnumeric() or ('.' in i[0])):\n",
    "            if(i[1] == 'million'):\n",
    "                aux[counter] = str(float(i[0])*1000000)\n",
    "            elif(i[1] == 'billion'):\n",
    "                aux[counter] = str(float(i[0])*1000000000)\n",
    "            elif(i[1] == 'trillion'):\n",
    "                aux[counter] = str(float(i[0])*1000000000000)\n",
    "            else:\n",
    "                aux[counter] = i[0]\n",
    "        else:\n",
    "            aux[counter] = np.nan\n",
    "    else:\n",
    "        aux[counter] = np.nan\n",
    "\n",
    "    counter += 1\n",
    "\n",
    "df['deuda'] = aux\n",
    "df['deuda'] = pd.to_numeric(df['deuda'])\n",
    "#df['deuda']"
   ]
  },
  {
   "cell_type": "markdown",
   "id": "supported-shepherd",
   "metadata": {},
   "source": [
    "Ya están los valores numéricos de la columna **deuda** expresados como queríamos. Sigue modificar la columna de **tasa_de_cambio**. Veamos cómo se comportan los datos:"
   ]
  },
  {
   "cell_type": "code",
   "execution_count": 19,
   "id": "opponent-blogger",
   "metadata": {},
   "outputs": [],
   "source": [
    "#for i in df['tasa_de_cambio']:\n",
    "#    print(i)"
   ]
  },
  {
   "cell_type": "markdown",
   "id": "optimum-billion",
   "metadata": {},
   "source": [
    "Vemos que para todas las **string** no nulas, el primer elemento es el valor numérico de la tasa de cambio. Solo está seguido ya sea de fechas o información complementaria. Así que solo basta con hacer ```split()``` a los elementos de la columna, usar el primer valor de la lista obtenida, quitar las comas y finalmente pasarlo como valor numérico en el *DataFrame*. Vamos a dejar los valores nulos tal cual como están en la columna."
   ]
  },
  {
   "cell_type": "code",
   "execution_count": 20,
   "id": "latest-allergy",
   "metadata": {},
   "outputs": [],
   "source": [
    "aux = df['tasa_de_cambio'].str.split().str[0]\n",
    "aux = aux.str.replace(',','')\n",
    "\n",
    "df['tasa_de_cambio'] = aux\n",
    "df['tasa_de_cambio'] = pd.to_numeric(df['tasa_de_cambio'])\n",
    "#df['tasa_de_cambio']"
   ]
  },
  {
   "cell_type": "markdown",
   "id": "magnetic-berlin",
   "metadata": {},
   "source": [
    "La siguiente columna dato cuyos valores numéricos obtendremos será la de **usuarios_internet**. Visualizamos cómo están guardados:"
   ]
  },
  {
   "cell_type": "code",
   "execution_count": 21,
   "id": "warming-relief",
   "metadata": {},
   "outputs": [],
   "source": [
    "#for i in df['usuarios_internet']:\n",
    "#    print(i)"
   ]
  },
  {
   "cell_type": "markdown",
   "id": "official-produce",
   "metadata": {},
   "source": [
    "Vemos que la mayoría de los datos contienen únicamente un número entero que representa el total de usuarios de internet del país. Pero también hay que considerar los casos donde los datos están representados en unidades de millones. Podemos distinguir a estos últimos por tener un punto decimal en la representación de su valor.\n",
    "\n",
    "Considerando esto, vamos a borrar las comas de todos los números y hacer ```split()``` a todos los elementos. Si vemos que el primer elemento de la lista obtenida de un dato tiene un punto decimal, lo vamos a multiplicar por 1,000,000. Después de todo esto, vamos a pasar los valores **string** a numéricos en el *DataFrame*. Los valores nulos los vamos a dejar como están."
   ]
  },
  {
   "cell_type": "code",
   "execution_count": 22,
   "id": "fundamental-distinction",
   "metadata": {},
   "outputs": [],
   "source": [
    "aux = df['usuarios_internet'].str.replace(',','')\n",
    "aux =aux.str.split().str[0]\n",
    "counter = 0\n",
    "\n",
    "for i in aux:\n",
    "    if i != i: #Para identificar valores nulos\n",
    "        aux[counter] = i\n",
    "    else:\n",
    "        if('.' in i): #Si tiene punto asumir que está en unidad de millones\n",
    "            #print(i)\n",
    "            aux[counter] = str(float(i)*1000000)\n",
    "    counter += 1\n",
    "            \n",
    "df['usuarios_internet'] = aux\n",
    "df['usuarios_internet'] = pd.to_numeric(df['usuarios_internet'])\n",
    "#df['usuarios_internet']"
   ]
  },
  {
   "cell_type": "markdown",
   "id": "first-treatment",
   "metadata": {},
   "source": [
    "Lo que sigue es obtener el valor numérico para la columna **porcentaje_internet**, la cual nos indica el porcentaje de usuarios de internet que hay en la población del país. Para ello observamos sus datos:"
   ]
  },
  {
   "cell_type": "code",
   "execution_count": 23,
   "id": "reduced-operations",
   "metadata": {},
   "outputs": [],
   "source": [
    "#for i in df['porcentaje_internet']:\n",
    "#    print(i)"
   ]
  },
  {
   "cell_type": "markdown",
   "id": "judicial-beginning",
   "metadata": {},
   "source": [
    "Notemos que tenemos exactamente el mismo patrón que el presentado originalmente en la columna de **desempleo**. Así que podemos aplicar exactamente el mismo proceso para obtener el valor numérico del porcentaje. Este es: hacer ```split()``` a las **string**, obtener el primer elemento de la lista, quitar el signo de porcentaje y pasar las **string** obtenidas como valores numéricos al *DataFrame*."
   ]
  },
  {
   "cell_type": "code",
   "execution_count": 24,
   "id": "internal-simple",
   "metadata": {},
   "outputs": [],
   "source": [
    "aux = df['porcentaje_internet'].str.split().str[0]\n",
    "aux = aux.str.replace('%','')\n",
    "\n",
    "df['porcentaje_internet'] = aux\n",
    "df['porcentaje_internet'] = pd.to_numeric(df['porcentaje_internet'])\n",
    "#df['porcentaje_internet']"
   ]
  },
  {
   "cell_type": "markdown",
   "id": "loaded-republic",
   "metadata": {},
   "source": [
    "Ahora que tenemos en buen formato los valores numéricos de la columna de **porcentaje_internet**, pasemos a hacer las modificaciones necesarias a **aeropuertos**. Este valor indica el número de aeropuertos que hay en un país. Observemos su estructura:"
   ]
  },
  {
   "cell_type": "code",
   "execution_count": 25,
   "id": "stuck-hopkins",
   "metadata": {},
   "outputs": [],
   "source": [
    "#for i in df['aeropuertos']:\n",
    "#    print(i)"
   ]
  },
  {
   "cell_type": "markdown",
   "id": "attended-arabic",
   "metadata": {},
   "source": [
    "Hay un patrón muy claro en la mayoría de los datos: primero está el número de aeropuertos y luego está seguido por el año en que se registró este dato. Hay también excepciones, una de ellas son los datos nulos y la otra es un dato cuya información es solo una descripción de un aeropuerto antiguo e inservible.\n",
    "\n",
    "Lo que haremos será quitar las comas de las **string** y hacerles ```split()```, después obtendremos el primer elemento de la lista y verificaremos que sea un valor numérico. En caso de que el primer valor de esta lista no exista o no sea un número, simplemente se asume como **NaN**."
   ]
  },
  {
   "cell_type": "code",
   "execution_count": 26,
   "id": "generic-software",
   "metadata": {},
   "outputs": [],
   "source": [
    "aux = df['aeropuertos']\n",
    "aux = aux.str.replace(',','')\n",
    "aux = aux.str.split().str[0]\n",
    "\n",
    "\n",
    "df['aeropuertos'] = aux\n",
    "df['aeropuertos'] = pd.to_numeric(aux,errors='coerce')\n",
    "#df['aeropuertos']"
   ]
  },
  {
   "cell_type": "markdown",
   "id": "worldwide-there",
   "metadata": {},
   "source": [
    "Otra columna cuyos datos debemos modificar es la de **carreteras_km**, que nos da el dato del total de km que hay de carreteras en un país. Veamos la forma de su **string**:"
   ]
  },
  {
   "cell_type": "code",
   "execution_count": 27,
   "id": "postal-content",
   "metadata": {},
   "outputs": [],
   "source": [
    "#for i in df['carreteras_km']:\n",
    "#    print(i)"
   ]
  },
  {
   "cell_type": "markdown",
   "id": "iraqi-success",
   "metadata": {},
   "source": [
    "Veamos que tenemos una estructura parecida a la de la columna pasada de **aeropuertos**. Esta es: primero el número de kilómetros, seguido de la unidad $km$ y hasta el final la fecha de recopilación del dato. Hay algunos casos donde se añaden detalles complementarios sobre las carreteras, pero la posición del valor numérico sigue estando donde mismo. También hay valores nulos y otros que son solo una descripción de la situación. Estos dos últimos casos vamos a asumirlos como valores **NaN** en nuestra transformación.\n",
    "\n",
    "Para hacer la transformación, aplicaremos exactamente el mismo método que con la columna de **aeropuertos**."
   ]
  },
  {
   "cell_type": "code",
   "execution_count": 28,
   "id": "vocal-berkeley",
   "metadata": {},
   "outputs": [],
   "source": [
    "aux = df['carreteras_km']\n",
    "aux = aux.str.replace(',','')\n",
    "aux = aux.str.split().str[0]\n",
    "\n",
    "df['carreteras_km'] = aux\n",
    "df['carreteras_km'] = pd.to_numeric(df['carreteras_km'], errors='coerce')\n",
    "#df['carreteras_km']"
   ]
  },
  {
   "cell_type": "markdown",
   "id": "agreed-vault",
   "metadata": {},
   "source": [
    "La última columna de datos que nos falta revisar es la de **inversion_militar**. Ésta nos indica el porcentaje del GDP que se le dedica a la inversión militar. Primero observemos cómo están definidas sus **string**:"
   ]
  },
  {
   "cell_type": "code",
   "execution_count": 29,
   "id": "athletic-adapter",
   "metadata": {},
   "outputs": [],
   "source": [
    "#for i in df['inversion_militar']:\n",
    "#    print(i)"
   ]
  },
  {
   "cell_type": "markdown",
   "id": "realistic-october",
   "metadata": {},
   "source": [
    "Vemos que la mayoría de los países siguen el siguiente patrón para este dato: primero el valor numérico seguido del signo de porcentaje, después la **substring** *of GDP* y finalmente está el año de recopilación del dato. El resto de los valores son nulos con una excepción, Corea del Norte. En ésta vemos un enunciado que nos detalla estimados del porcentaje de inversión militar que nos indica que ésta está entre el 22% y 24%\n",
    "\n",
    "Para hacer la transformación que queremos, lo primero que haremos será lidiar con el caso atípico de Corea del Norte. A éste le asignaremos directamente el valor en **string** de la media de los porcentajes de inversión militar que nos describen. En este caso, 23%. Para el resto de la columna, primero quitaremos los signos de porcentaje, después haremos un ```split()``` y consideraremos al primer valor de la lista como nuestro dato. Los valores nulos se mantendrán tal cual están. Finalmente pasamos nuestros datos de  **string** a valores numéricos en el *DataFrame*."
   ]
  },
  {
   "cell_type": "code",
   "execution_count": 30,
   "id": "golden-likelihood",
   "metadata": {},
   "outputs": [],
   "source": [
    "df.loc[df['nombre'] == 'Korea, North', 'inversion_militar'] = '23'\n",
    "\n",
    "aux = df['inversion_militar'].str.replace('%','')\n",
    "aux = aux.str.split().str[0]\n",
    "\n",
    "df['inversion_militar'] = aux\n",
    "df['inversion_militar'] = pd.to_numeric(df['inversion_militar'], errors='coerce')\n",
    "#df['inversion_militar']"
   ]
  },
  {
   "cell_type": "markdown",
   "id": "saved-coverage",
   "metadata": {},
   "source": [
    "Un paso que es opcional para el conjunto de datos que estameos manejando es el limpiar nuestras columnas **image_name** y **image_urls**. A pesar de que estos datos no los vamos a manipular, creo que puede ser bueno eliminar todos los datos que no correspondan de manera adecuada a esta columna. Veamos la columna de **image_name**:"
   ]
  },
  {
   "cell_type": "code",
   "execution_count": 31,
   "id": "velvet-corps",
   "metadata": {},
   "outputs": [],
   "source": [
    "#for i in df['image_name']:\n",
    "#    print(i)"
   ]
  },
  {
   "cell_type": "markdown",
   "id": "superb-scottish",
   "metadata": {},
   "source": [
    "Lo que sucede es que en el proceso de *Scraping* obtuvimos URLs a pesar de que no hubiera imágenes disponibles de la bandera. Como estas URLs no tienen al final de su dirección el nombre de la imagen que termina en ```.jpg```, esto nos indica que realmente no tienen una imagen y por lo tanto no deberían ir pertenecer a ninguna de las dos columnas.\n",
    "\n",
    "Entonces vamos a hacer nulos los valores de las columnas **image_name** e **image_urls** si no terminan en ```.jpg```."
   ]
  },
  {
   "cell_type": "code",
   "execution_count": 32,
   "id": "protective-landscape",
   "metadata": {},
   "outputs": [],
   "source": [
    "counter = 0\n",
    "for i in df['image_name']:\n",
    "    #print(i)\n",
    "    if '.jpg' not in i:\n",
    "        #print(i)\n",
    "        df.loc[df.index[counter], 'image_name'] = np.nan\n",
    "        df.loc[df.index[counter], 'image_urls'] = np.nan\n",
    "    counter += 1\n",
    "    \n",
    "#for i in df['image_name']:\n",
    "#    print(i)"
   ]
  },
  {
   "cell_type": "markdown",
   "id": "opening-demographic",
   "metadata": {},
   "source": [
    "Ahora sí tenemos todos los datos en valores numéricos que podemos manipular para hacer distintas operaciones sobre ellos. Las primeras filas de nuestro *DataFrame* se ven de la siguiente manera."
   ]
  },
  {
   "cell_type": "code",
   "execution_count": 33,
   "id": "outer-depth",
   "metadata": {},
   "outputs": [
    {
     "data": {
      "text/html": [
       "<div>\n",
       "<style scoped>\n",
       "    .dataframe tbody tr th:only-of-type {\n",
       "        vertical-align: middle;\n",
       "    }\n",
       "\n",
       "    .dataframe tbody tr th {\n",
       "        vertical-align: top;\n",
       "    }\n",
       "\n",
       "    .dataframe thead th {\n",
       "        text-align: right;\n",
       "    }\n",
       "</style>\n",
       "<table border=\"1\" class=\"dataframe\">\n",
       "  <thead>\n",
       "    <tr style=\"text-align: right;\">\n",
       "      <th></th>\n",
       "      <th>nombre</th>\n",
       "      <th>continente</th>\n",
       "      <th>area</th>\n",
       "      <th>poblacion</th>\n",
       "      <th>gdp</th>\n",
       "      <th>desempleo</th>\n",
       "      <th>impuestos</th>\n",
       "      <th>deuda</th>\n",
       "      <th>tasa_de_cambio</th>\n",
       "      <th>usuarios_internet</th>\n",
       "      <th>porcentaje_internet</th>\n",
       "      <th>aeropuertos</th>\n",
       "      <th>carreteras_km</th>\n",
       "      <th>inversion_militar</th>\n",
       "      <th>image_name</th>\n",
       "      <th>image_urls</th>\n",
       "    </tr>\n",
       "  </thead>\n",
       "  <tbody>\n",
       "    <tr>\n",
       "      <th>0</th>\n",
       "      <td>Afghanistan</td>\n",
       "      <td>South Asia</td>\n",
       "      <td>652230.0</td>\n",
       "      <td>37466414.0</td>\n",
       "      <td>Ingreso bajo</td>\n",
       "      <td>23.90</td>\n",
       "      <td>11.2</td>\n",
       "      <td>2.840000e+08</td>\n",
       "      <td>7.870</td>\n",
       "      <td>4717013.0</td>\n",
       "      <td>13.50</td>\n",
       "      <td>46.0</td>\n",
       "      <td>34903.0</td>\n",
       "      <td>1.2</td>\n",
       "      <td>AF-flag.jpg</td>\n",
       "      <td>https://www.cia.gov/the-world-factbook/static/...</td>\n",
       "    </tr>\n",
       "    <tr>\n",
       "      <th>1</th>\n",
       "      <td>Akrotiri</td>\n",
       "      <td>Europe</td>\n",
       "      <td>123.0</td>\n",
       "      <td>18195.0</td>\n",
       "      <td>NaN</td>\n",
       "      <td>NaN</td>\n",
       "      <td>NaN</td>\n",
       "      <td>NaN</td>\n",
       "      <td>NaN</td>\n",
       "      <td>NaN</td>\n",
       "      <td>NaN</td>\n",
       "      <td>1.0</td>\n",
       "      <td>NaN</td>\n",
       "      <td>NaN</td>\n",
       "      <td>AX-flag.jpg</td>\n",
       "      <td>https://www.cia.gov/the-world-factbook/static/...</td>\n",
       "    </tr>\n",
       "    <tr>\n",
       "      <th>2</th>\n",
       "      <td>Albania</td>\n",
       "      <td>Europe</td>\n",
       "      <td>28748.0</td>\n",
       "      <td>3088385.0</td>\n",
       "      <td>Ingreso medio</td>\n",
       "      <td>5.83</td>\n",
       "      <td>27.6</td>\n",
       "      <td>9.311000e+09</td>\n",
       "      <td>102.430</td>\n",
       "      <td>2196613.0</td>\n",
       "      <td>71.85</td>\n",
       "      <td>3.0</td>\n",
       "      <td>3945.0</td>\n",
       "      <td>1.3</td>\n",
       "      <td>AL-flag.jpg</td>\n",
       "      <td>https://www.cia.gov/the-world-factbook/static/...</td>\n",
       "    </tr>\n",
       "    <tr>\n",
       "      <th>3</th>\n",
       "      <td>Algeria</td>\n",
       "      <td>Africa</td>\n",
       "      <td>2381740.0</td>\n",
       "      <td>43576691.0</td>\n",
       "      <td>Ingreso medio</td>\n",
       "      <td>11.70</td>\n",
       "      <td>32.3</td>\n",
       "      <td>5.574000e+09</td>\n",
       "      <td>131.085</td>\n",
       "      <td>24819531.0</td>\n",
       "      <td>59.58</td>\n",
       "      <td>149.0</td>\n",
       "      <td>104000.0</td>\n",
       "      <td>6.0</td>\n",
       "      <td>AG-flag.jpg</td>\n",
       "      <td>https://www.cia.gov/the-world-factbook/static/...</td>\n",
       "    </tr>\n",
       "    <tr>\n",
       "      <th>4</th>\n",
       "      <td>American Samoa</td>\n",
       "      <td>Australia - Oceania</td>\n",
       "      <td>224.0</td>\n",
       "      <td>46366.0</td>\n",
       "      <td>Ingreso medio</td>\n",
       "      <td>29.80</td>\n",
       "      <td>37.8</td>\n",
       "      <td>NaN</td>\n",
       "      <td>1.000</td>\n",
       "      <td>17000.0</td>\n",
       "      <td>31.30</td>\n",
       "      <td>3.0</td>\n",
       "      <td>241.0</td>\n",
       "      <td>NaN</td>\n",
       "      <td>AQ-flag.jpg</td>\n",
       "      <td>https://www.cia.gov/the-world-factbook/static/...</td>\n",
       "    </tr>\n",
       "    <tr>\n",
       "      <th>5</th>\n",
       "      <td>Andorra</td>\n",
       "      <td>Europe</td>\n",
       "      <td>468.0</td>\n",
       "      <td>85645.0</td>\n",
       "      <td>Ingreso alto</td>\n",
       "      <td>3.70</td>\n",
       "      <td>69.0</td>\n",
       "      <td>0.000000e+00</td>\n",
       "      <td>0.885</td>\n",
       "      <td>78483.0</td>\n",
       "      <td>91.57</td>\n",
       "      <td>NaN</td>\n",
       "      <td>320.0</td>\n",
       "      <td>NaN</td>\n",
       "      <td>AN-flag.jpg</td>\n",
       "      <td>https://www.cia.gov/the-world-factbook/static/...</td>\n",
       "    </tr>\n",
       "    <tr>\n",
       "      <th>6</th>\n",
       "      <td>Angola</td>\n",
       "      <td>Africa</td>\n",
       "      <td>1246700.0</td>\n",
       "      <td>33642646.0</td>\n",
       "      <td>Ingreso medio</td>\n",
       "      <td>6.60</td>\n",
       "      <td>29.3</td>\n",
       "      <td>4.208000e+10</td>\n",
       "      <td>172.600</td>\n",
       "      <td>4353033.0</td>\n",
       "      <td>14.34</td>\n",
       "      <td>102.0</td>\n",
       "      <td>26000.0</td>\n",
       "      <td>1.7</td>\n",
       "      <td>AO-flag.jpg</td>\n",
       "      <td>https://www.cia.gov/the-world-factbook/static/...</td>\n",
       "    </tr>\n",
       "    <tr>\n",
       "      <th>7</th>\n",
       "      <td>Anguilla</td>\n",
       "      <td>Central America</td>\n",
       "      <td>91.0</td>\n",
       "      <td>18403.0</td>\n",
       "      <td>Ingreso medio</td>\n",
       "      <td>8.00</td>\n",
       "      <td>46.7</td>\n",
       "      <td>4.104000e+07</td>\n",
       "      <td>2.700</td>\n",
       "      <td>14211.0</td>\n",
       "      <td>81.57</td>\n",
       "      <td>1.0</td>\n",
       "      <td>175.0</td>\n",
       "      <td>NaN</td>\n",
       "      <td>AV-flag.jpg</td>\n",
       "      <td>https://www.cia.gov/the-world-factbook/static/...</td>\n",
       "    </tr>\n",
       "    <tr>\n",
       "      <th>8</th>\n",
       "      <td>Antigua and Barbuda</td>\n",
       "      <td>Central America</td>\n",
       "      <td>443.0</td>\n",
       "      <td>99175.0</td>\n",
       "      <td>Ingreso medio</td>\n",
       "      <td>11.00</td>\n",
       "      <td>19.6</td>\n",
       "      <td>4.412000e+08</td>\n",
       "      <td>2.700</td>\n",
       "      <td>72870.0</td>\n",
       "      <td>76.00</td>\n",
       "      <td>3.0</td>\n",
       "      <td>1170.0</td>\n",
       "      <td>NaN</td>\n",
       "      <td>AC-flag.jpg</td>\n",
       "      <td>https://www.cia.gov/the-world-factbook/static/...</td>\n",
       "    </tr>\n",
       "    <tr>\n",
       "      <th>9</th>\n",
       "      <td>Argentina</td>\n",
       "      <td>South America</td>\n",
       "      <td>2780400.0</td>\n",
       "      <td>45864941.0</td>\n",
       "      <td>Ingreso medio</td>\n",
       "      <td>9.84</td>\n",
       "      <td>18.9</td>\n",
       "      <td>2.785240e+11</td>\n",
       "      <td>82.034</td>\n",
       "      <td>33203320.0</td>\n",
       "      <td>74.29</td>\n",
       "      <td>916.0</td>\n",
       "      <td>281290.0</td>\n",
       "      <td>0.7</td>\n",
       "      <td>AR-flag.jpg</td>\n",
       "      <td>https://www.cia.gov/the-world-factbook/static/...</td>\n",
       "    </tr>\n",
       "  </tbody>\n",
       "</table>\n",
       "</div>"
      ],
      "text/plain": [
       "                nombre           continente       area   poblacion  \\\n",
       "0          Afghanistan           South Asia   652230.0  37466414.0   \n",
       "1             Akrotiri               Europe      123.0     18195.0   \n",
       "2              Albania               Europe    28748.0   3088385.0   \n",
       "3              Algeria               Africa  2381740.0  43576691.0   \n",
       "4       American Samoa  Australia - Oceania      224.0     46366.0   \n",
       "5              Andorra               Europe      468.0     85645.0   \n",
       "6               Angola               Africa  1246700.0  33642646.0   \n",
       "7             Anguilla      Central America       91.0     18403.0   \n",
       "8  Antigua and Barbuda      Central America      443.0     99175.0   \n",
       "9            Argentina        South America  2780400.0  45864941.0   \n",
       "\n",
       "             gdp  desempleo  impuestos         deuda  tasa_de_cambio  \\\n",
       "0   Ingreso bajo      23.90       11.2  2.840000e+08           7.870   \n",
       "1            NaN        NaN        NaN           NaN             NaN   \n",
       "2  Ingreso medio       5.83       27.6  9.311000e+09         102.430   \n",
       "3  Ingreso medio      11.70       32.3  5.574000e+09         131.085   \n",
       "4  Ingreso medio      29.80       37.8           NaN           1.000   \n",
       "5   Ingreso alto       3.70       69.0  0.000000e+00           0.885   \n",
       "6  Ingreso medio       6.60       29.3  4.208000e+10         172.600   \n",
       "7  Ingreso medio       8.00       46.7  4.104000e+07           2.700   \n",
       "8  Ingreso medio      11.00       19.6  4.412000e+08           2.700   \n",
       "9  Ingreso medio       9.84       18.9  2.785240e+11          82.034   \n",
       "\n",
       "   usuarios_internet  porcentaje_internet  aeropuertos  carreteras_km  \\\n",
       "0          4717013.0                13.50         46.0        34903.0   \n",
       "1                NaN                  NaN          1.0            NaN   \n",
       "2          2196613.0                71.85          3.0         3945.0   \n",
       "3         24819531.0                59.58        149.0       104000.0   \n",
       "4            17000.0                31.30          3.0          241.0   \n",
       "5            78483.0                91.57          NaN          320.0   \n",
       "6          4353033.0                14.34        102.0        26000.0   \n",
       "7            14211.0                81.57          1.0          175.0   \n",
       "8            72870.0                76.00          3.0         1170.0   \n",
       "9         33203320.0                74.29        916.0       281290.0   \n",
       "\n",
       "   inversion_militar   image_name  \\\n",
       "0                1.2  AF-flag.jpg   \n",
       "1                NaN  AX-flag.jpg   \n",
       "2                1.3  AL-flag.jpg   \n",
       "3                6.0  AG-flag.jpg   \n",
       "4                NaN  AQ-flag.jpg   \n",
       "5                NaN  AN-flag.jpg   \n",
       "6                1.7  AO-flag.jpg   \n",
       "7                NaN  AV-flag.jpg   \n",
       "8                NaN  AC-flag.jpg   \n",
       "9                0.7  AR-flag.jpg   \n",
       "\n",
       "                                          image_urls  \n",
       "0  https://www.cia.gov/the-world-factbook/static/...  \n",
       "1  https://www.cia.gov/the-world-factbook/static/...  \n",
       "2  https://www.cia.gov/the-world-factbook/static/...  \n",
       "3  https://www.cia.gov/the-world-factbook/static/...  \n",
       "4  https://www.cia.gov/the-world-factbook/static/...  \n",
       "5  https://www.cia.gov/the-world-factbook/static/...  \n",
       "6  https://www.cia.gov/the-world-factbook/static/...  \n",
       "7  https://www.cia.gov/the-world-factbook/static/...  \n",
       "8  https://www.cia.gov/the-world-factbook/static/...  \n",
       "9  https://www.cia.gov/the-world-factbook/static/...  "
      ]
     },
     "execution_count": 33,
     "metadata": {},
     "output_type": "execute_result"
    }
   ],
   "source": [
    "df.head(10)"
   ]
  },
  {
   "cell_type": "markdown",
   "id": "becoming-sarah",
   "metadata": {},
   "source": [
    "Finalmente, para corroborar que el tipo de dato es adeucado podemos checar los datos numéricos sean **float** y el resto de las columnas, incluyendo **gdp**, sean de tipo **object**."
   ]
  },
  {
   "cell_type": "code",
   "execution_count": 34,
   "id": "thorough-mechanism",
   "metadata": {},
   "outputs": [
    {
     "data": {
      "text/plain": [
       "nombre                  object\n",
       "continente              object\n",
       "area                   float64\n",
       "poblacion              float64\n",
       "gdp                     object\n",
       "desempleo              float64\n",
       "impuestos              float64\n",
       "deuda                  float64\n",
       "tasa_de_cambio         float64\n",
       "usuarios_internet      float64\n",
       "porcentaje_internet    float64\n",
       "aeropuertos            float64\n",
       "carreteras_km          float64\n",
       "inversion_militar      float64\n",
       "image_name              object\n",
       "image_urls              object\n",
       "dtype: object"
      ]
     },
     "execution_count": 34,
     "metadata": {},
     "output_type": "execute_result"
    }
   ],
   "source": [
    "df.dtypes"
   ]
  },
  {
   "cell_type": "markdown",
   "id": "primary-celebrity",
   "metadata": {},
   "source": [
    "Vemos que las columnas sí tienen el tipo de dato deseado para cada una. Ahora podemos pasar a hacer nuestro análisis de los datos para responder las preguntas planteadas en el problema del proyecto."
   ]
  },
  {
   "cell_type": "markdown",
   "id": "sought-answer",
   "metadata": {},
   "source": [
    "### 1 y 2. Relación entre GDP (PIB) de un país y su porcentaje de usuarios de Internet. "
   ]
  },
  {
   "cell_type": "markdown",
   "id": "bearing-garbage",
   "metadata": {},
   "source": [
    "Queremos identificar si hay alguna relación entre el GDP (PIB) de un país en términos de su poder adquisitivo, y su porcentaje de usuarios de Internet. Además, queremos ver si esta relación es algo consistente en los distintos niveles del ingreso económico, ya sea bajo, mediano o alto.\n",
    "\n",
    "Recordemos que el poder adquisitivo de un país lo habíamos definido como un dato categórico, que se basaba en las siguientes reglas:\n",
    "1. GDP $<$ 50 = Dato atípico (no se considera)\n",
    "2. 50 $\\leq$ GDP $\\leq$ 5,000 = Ingreso bajo\n",
    "3. 5,000 $<$ GDP $\\leq$ 25,000 = Ingreso medio\n",
    "4. GDP $>$ 25,000 = Ingreso alto\n",
    "\n",
    "**Graficando y analizando los datos**\n",
    "\n",
    "Para poder observar esta relación podemos realizar gráficas que nos ayuden a visualizar la distribución de los datos para las dos variables que queremos analizar. Estas dos variables son las que encontramos en nuestra columna de **gdp** y la de **porcentaje_internet**. Así que lo primero que haremos será crear un *DataFrame* auxiliar donde mantendremos aquellos países que tengan ambos datos presentes y eliminaremos a todo país que tenga al menos un dato nulo de estas dos columnas."
   ]
  },
  {
   "cell_type": "code",
   "execution_count": 35,
   "id": "adapted-default",
   "metadata": {},
   "outputs": [],
   "source": [
    "df_pi_gdp = df[(df['porcentaje_internet'].notna()) & (df['gdp'].notna())]\n",
    "#df_pi_gdp['porcentaje_internet'].isnull().value_counts()\n",
    "#df['gdp'].isnull().value_counts()"
   ]
  },
  {
   "cell_type": "markdown",
   "id": "lasting-pressing",
   "metadata": {},
   "source": [
    "Ahora tenemos que plantear qué tipo de gráficas haremos para observar la posible relación. Hay que considerar que una de nuestras variables es de tipo categórica (**gdp**), mientras que la otra es continua (**porcentaje_internet**). Por esta razón, debemos enfocarnos en gráficas que muestren claramente el valor del porcentaje de usuarios de internet para cada categoría de ingreso económico de todos los países. \n",
    "\n",
    "Normalmente, cuando queremos ver la relación entre dos variables se hace una diagrama de distribución a manera de **scatter plot**. Pero como ese tipo de diagramas están enfocados principalmente a una aplicación con variables continuas, tenemos que escoger una ligera variación de ellos. Una alternativa similar al **scatter plot**, pero que podemos aplicar sobre una variable continua y una categórica es la gráfica de tipo **swarm** que ofrece ```seaborn```. En ésta podemos establecer en el eje de las *y* el porcentaje de usuarios de Internet que tiene el país y en el centro tendremos una columna donde se irán acumulando puntos cuyo valor en el eje *y* depende de su porcentaje de usuarios. Estos puntos estarán coloreados acorde a la categoría de ingreso económico a la que pertenezca el país. Esto se ve de la siguiente manera:"
   ]
  },
  {
   "cell_type": "code",
   "execution_count": 36,
   "id": "boring-facial",
   "metadata": {},
   "outputs": [
    {
     "data": {
      "image/png": "[encoded data removed]",
      "text/plain": [
       "<Figure size 360x504 with 1 Axes>"
      ]
     },
     "metadata": {
      "needs_background": "light"
     },
     "output_type": "display_data"
    }
   ],
   "source": [
    "import matplotlib.ticker as mtick # Para añadir porcentajes a las tick\n",
    "\n",
    "fig, ax = plt.subplots(figsize=(5,7))\n",
    "\n",
    "sns.swarmplot(y=df_pi_gdp['porcentaje_internet'],\n",
    "              hue =df_pi_gdp['gdp'],\n",
    "              x=[\"\"]*len(df_pi_gdp['porcentaje_internet']),\n",
    "              s = 5)\n",
    "\n",
    "ax.yaxis.set_major_formatter(mtick.PercentFormatter())\n",
    "ax.spines['top'].set_visible(False)\n",
    "ax.spines['right'].set_visible(False)\n",
    "ax.spines['bottom'].set_visible(False)\n",
    "\n",
    "plt.tick_params(axis=\"y\", labelsize=12)\n",
    "\n",
    "plt.legend(title=\"GDP\")\n",
    "\n",
    "plt.ylabel('Usuarios de Internet (porcentaje)', size=12)\n",
    "\n",
    "plt.title(\"Relación: Usuarios de Internet - GDP\", size = 18)\n",
    "plt.show()"
   ]
  },
  {
   "cell_type": "markdown",
   "id": "considerable-metadata",
   "metadata": {},
   "source": [
    "A partir de aquí ya podemos empezar a notar cierta relación entre **gdp** y **porcentaje_internet**. Vemos cómo los países de ingreso bajo tienden a acomodarse en la sección más baja del eje *y*, indicándonos que tienen un porcentaje bajo de usuarios de Internet; aproximadamente entre 0% y 40%. Los países de ingreso medio se esparcen casi por todo el rango de porcentajes, pero lo notable es que se concentran mayormente en la sección media de la columna que está aproximadamente entre 40% y 80%. Finalmente, los países de ingreso alto son los que tienen los porcentajes más altos de usuarios de Internet, la mayoría de ellos siendo mayores a 80%; sin embargo hay ciertas excepciones que llegan a descender incluso a casi 50%.\n",
    "\n",
    "Esta gráfica nos ayuda a darnos una idea general sobre lo que ya mencionamos, pero hay más formas de visualizar este comportamiento de los datos. Probemos de nuevo con las **swarm plot**, pero esta vez separemos en distintas columnas nuestras categorías de datos: "
   ]
  },
  {
   "cell_type": "code",
   "execution_count": 37,
   "id": "right-pressure",
   "metadata": {},
   "outputs": [
    {
     "data": {
      "image/png": "[encoded data removed]",
      "text/plain": [
       "<Figure size 360x360 with 1 Axes>"
      ]
     },
     "metadata": {
      "needs_background": "light"
     },
     "output_type": "display_data"
    }
   ],
   "source": [
    "import matplotlib.ticker as mtick # Para añadir porcentajes a las tick\n",
    "\n",
    "sns.catplot(x='gdp', y='porcentaje_internet',kind='swarm', data=df_pi_gdp, height = 5)\n",
    "\n",
    "plt.tick_params(axis=\"x\", labelsize=12, rotation = 0)\n",
    "plt.tick_params(axis=\"y\", labelsize=12)\n",
    "plt.gca().yaxis.set_major_formatter(mtick.PercentFormatter())\n",
    "plt.ylabel('Usuarios de Internet (porcentaje)', size=12)\n",
    "plt.xlabel('GDP', size = 15)\n",
    "plt.title(\"Relación: Usuarios de Internet - GDP\", size = 18)\n",
    "plt.show()"
   ]
  },
  {
   "cell_type": "markdown",
   "id": "framed-folder",
   "metadata": {},
   "source": [
    "Observemos cómo la columna de ingreso bajo tiene los puntos cargados hacia abajo en el eje de porcentajes. Aunque también podemos ver que algunos de los países en esta categoría tienen mayor porcentaje de usuarios de internet que algunos de los que tienen ingreso medio. \n",
    "\n",
    "En la segunda columna vemos cómo hay una mayor variación en los porcentajes de usuarios de Internet de los países. Los datos se esparcen mucho más a comparación del caso de la columna de ingreso bajo y la de ingreso alto, si nos fijamos bien, sus valores se distribuyen prácticamente por casi todo el rango de porcentajes disponible. A pesar de esto, sigue siendo notorio que la mayor concentración de puntos de la columna de ingreso medio se encuentra entre el 40% y 80% que mencionamos previamente.\n",
    "\n",
    "Finalmente, en la columna de ingreso alto podemos observar que todos los puntos están arriba del 50%. Además la mayoría de ellos se encuentran acumulados aproximadamente entre el 75% y 100%. Los rangos más altos de porcentajes de usuarios de Internet le pertenecen a los países de ingreso alto; sin embargo, también hay países de ingreso medio que tienen mayores porcentajes que algunos de los de ingreso alto. Algo que sí podemos confirmar es que todos los países de ingreso alto tienen un mayor porcentaje de usuarios de Internet que todos los países de ingreso bajo.\n",
    "\n",
    "Esta separación de en columnas nos permitió visualizar de manera más clara cómo se distribuía el porcentaje de usuarios de Internet de los países para cada categoría de ingresos. Lo que fue importante observar es cómo no hay un rango de porcentajes completamente exclusivo para todos los valores de una categoría, ya que para todas las categorías había países de un ingreso distinto que tenían porcentajes parecidos, menores, mayores o iguales.\n",
    "\n",
    "Algo que sería deseable observar, son los rangos generales en donde se concentran los datos de cada clase. De esta forma podemos determinar en qué secciones se enfocan los porcentajes de usuarios de Internet para cada categoría de ingreso económico. Además, podremos observar qué tan separados están estos rangos estimados los unos de los otros para la mayoría de los datos. Una forma de visualizar esto es con gráficas de caja, **box plot**s, que trazan un rectángulo en la sección de mayor concentración de datos para cada categoría. También, nos ayudan a identificar el rango total de todos los datos y a identificar los datos aberrantes de cada categoría si se salen del rango máximo esperado.\n",
    "\n",
    "Primero grafiquémoslo de manera tal que se identifique visualmente la construcción de los **box plot** con los puntos que observamos en los **swarmplot** previamente realizados."
   ]
  },
  {
   "cell_type": "code",
   "execution_count": 38,
   "id": "working-rainbow",
   "metadata": {},
   "outputs": [
    {
     "data": {
      "image/png": "[encoded data removed]",
      "text/plain": [
       "<Figure size 432x432 with 1 Axes>"
      ]
     },
     "metadata": {
      "needs_background": "light"
     },
     "output_type": "display_data"
    }
   ],
   "source": [
    "fig, ax = plt.subplots(figsize=(6,6))\n",
    "\n",
    "sns.swarmplot(x='gdp', y='porcentaje_internet', data=df_pi_gdp)\n",
    "sns.boxplot(x = 'gdp', y=\"porcentaje_internet\", data=df_pi_gdp, boxprops={'facecolor':'None'})\n",
    "\n",
    "\n",
    "plt.title(\"Relación: Usuarios de Internet - GDP\", size = 18)\n",
    "\n",
    "ax.spines['top'].set_visible(False)\n",
    "ax.spines['right'].set_visible(False)\n",
    "\n",
    "plt.tick_params(axis=\"x\", labelsize=12, rotation = 0)\n",
    "plt.tick_params(axis=\"y\", labelsize=12)\n",
    "plt.gca().yaxis.set_major_formatter(mtick.PercentFormatter())\n",
    "plt.ylabel('Usuarios de Internet (porcentaje)', size=12)\n",
    "plt.xlabel('GDP', size = 15)\n",
    "plt.title(\"Relación: Usuarios de Internet - GDP\", size = 18)\n",
    "plt.show()"
   ]
  },
  {
   "cell_type": "markdown",
   "id": "representative-minister",
   "metadata": {},
   "source": [
    "Ya que observamos esto, no está de más dibujar únicamente los **box plot** obtenidos para cada categoría de **gdp**:"
   ]
  },
  {
   "cell_type": "code",
   "execution_count": 39,
   "id": "equal-serum",
   "metadata": {},
   "outputs": [
    {
     "data": {
      "image/png": "[encoded data removed]",
      "text/plain": [
       "<Figure size 360x360 with 1 Axes>"
      ]
     },
     "metadata": {
      "needs_background": "light"
     },
     "output_type": "display_data"
    }
   ],
   "source": [
    "sns.catplot(x='gdp', y='porcentaje_internet',kind='box', data=df_pi_gdp)\n",
    "\n",
    "plt.title(\"Relación: Usuarios de Internet - GDP\", size = 18)\n",
    "\n",
    "plt.tick_params(axis=\"x\", labelsize=12, rotation = 0)\n",
    "plt.tick_params(axis=\"y\", labelsize=12)\n",
    "plt.gca().yaxis.set_major_formatter(mtick.PercentFormatter())\n",
    "plt.ylabel('Usuarios de Internet (porcentaje)', size=12)\n",
    "plt.xlabel('GDP', size = 15)\n",
    "plt.title(\"Relación: Usuarios de Internet - GDP\", size = 18)\n",
    "plt.show()"
   ]
  },
  {
   "cell_type": "markdown",
   "id": "bound-rally",
   "metadata": {},
   "source": [
    "Notemos que el rango total de los datos de cada categoría está indicado por la línea gris vertical de cada columna. Como ya habíamos notado en las figuras previas, los países de ingreso medio se expanden por casi todo el rango de porcentajes; los de ingreso bajo se quedan en rangos de entre 0% y aproximadamente el 50%; y los países de rango alto están por arriba del 60% con algunos datos aberrantes por debajo.\n",
    "\n",
    "Lo interesante de esta gráfica son las cajas que se construyeron. Éstas nos indican los rangos de mayor concentración para los porcentajes de usuarios de Internet de cada categoría. Veamos cómo el rango de ninguna caja se cruza con el de otra, todas ellas son claramente separables en el rango de porcentajes disponible. \n",
    "\n",
    "Otra característica es la distribución de los datos que nos indica el tamaño de las cajas. La columna cuyos datos están mas esparcidos, la del medio, tiene la caja de mayor tamaño; indicándonos que los porcentajes para estos países varían más a lo largo de este rango. Mientras menos varían los datos, la caja se va haciendo más pequeña. Como ejemplo notamos que la caja verde, la de ingreso alto, es la más pequeña porque los datos están mucho más concentrados en ese rango más pequeño que el de ingreso medio y bajo.\n",
    "\n",
    "Una gráfica que nos señala visualmente casi lo mismo que estas gráficas de **box plot**, son las de violín que ofrece ```seaborn```. La idea de éstas es trazar una figura parecida a un violín y en los valores del eje *y* donde haya mayor concentración de datos, más ancho será el violín; mientras menos datos haya en determinado valor más angosto será el violín en ese punto de *y*. Éstas las visualizamos de la siguiente forma:"
   ]
  },
  {
   "cell_type": "code",
   "execution_count": 40,
   "id": "electronic-edgar",
   "metadata": {},
   "outputs": [
    {
     "data": {
      "image/png": "[encoded data removed]",
      "text/plain": [
       "<Figure size 360x360 with 1 Axes>"
      ]
     },
     "metadata": {
      "needs_background": "light"
     },
     "output_type": "display_data"
    }
   ],
   "source": [
    "sns.catplot(x='gdp', y='porcentaje_internet',kind='violin', data=df_pi_gdp)\n",
    "\n",
    "plt.title(\"Relación: Usuarios de Internet - GDP\", size = 18)\n",
    "\n",
    "plt.tick_params(axis=\"x\", labelsize=12, rotation = 0)\n",
    "plt.tick_params(axis=\"y\", labelsize=12)\n",
    "plt.gca().yaxis.set_major_formatter(mtick.PercentFormatter())\n",
    "plt.ylabel('Usuarios de Internet (porcentaje)', size=12)\n",
    "plt.xlabel('GDP', size = 15)\n",
    "plt.title(\"Relación: Usuarios de Internet - GDP\", size = 18)\n",
    "plt.show()"
   ]
  },
  {
   "cell_type": "markdown",
   "id": "deluxe-piece",
   "metadata": {},
   "source": [
    "Esta gráfica representa de manera clara las observaciones que realizamos en las figuras pasadas. Otra forma que puede haber de visualizar la relación entre el GDP y el porcentaje de usuarios de Internet es con un histograma de frecuencias. Si usamos en el eje *y* la frecuencia y en el *x* el porcentaje de usuarios de internet, podemos colocar barras unas encima de las otras. Cada una de estas barras tiene un color que también representa la categoría de ingreso económico.\n",
    "\n",
    "Al poder observar una gráfica de este tipo podremos observar claramente en qué rangos se encuentran los porcentajes de usuarios de cada categoría. También, ayudará a visualizar la cantidad total de países que comparten porcentajes similares. Además, el largo de cada barra y la cantidad de ellas también ayudan a identificar qué tan común es cierto porcentaje en determinado rango y categoría.\n",
    "\n",
    "Graficando esto tenemos:"
   ]
  },
  {
   "cell_type": "code",
   "execution_count": 41,
   "id": "aerial-pharmacy",
   "metadata": {},
   "outputs": [
    {
     "data": {
      "image/png": "[encoded data removed]",
      "text/plain": [
       "<Figure size 432x288 with 1 Axes>"
      ]
     },
     "metadata": {
      "needs_background": "light"
     },
     "output_type": "display_data"
    }
   ],
   "source": [
    "from matplotlib.ticker import MaxNLocator #Para forzar que la escala del eje y sea representada forzosamente en enteros\n",
    "\n",
    "bins = [i*5 for i in range(0,21)]\n",
    "\n",
    "df_pi_gdp.pivot(columns = 'gdp').porcentaje_internet.plot(kind = 'hist',\n",
    "                                                          stacked = True,\n",
    "                                                          bins = bins,\n",
    "                                                          color=['g','b','orange'],\n",
    "                                                          edgecolor = 'black')\n",
    "\n",
    "plt.title(\"Relación: Usuarios de Internet - GDP\", size = 18)\n",
    "\n",
    "plt.tick_params(axis=\"x\", labelsize=12, rotation = 0)\n",
    "plt.tick_params(axis=\"y\", labelsize=12)\n",
    "\n",
    "plt.gca().xaxis.set_major_formatter(mtick.PercentFormatter())\n",
    "plt.gca().yaxis.set_major_locator(MaxNLocator(integer=True))\n",
    "plt.gca().spines['top'].set_visible(False)\n",
    "plt.gca().spines['right'].set_visible(False)\n",
    "\n",
    "plt.xlabel('Usuarios de Internet (porcentaje)', size=12)\n",
    "plt.ylabel('Frecuencia', size = 15)\n",
    "\n",
    "\n",
    "plt.legend(title=\"GDP\")\n",
    "plt.title(\"Relación: Usuarios de Internet - GDP\", size = 18)\n",
    "plt.show()"
   ]
  },
  {
   "cell_type": "markdown",
   "id": "complete-documentary",
   "metadata": {},
   "source": [
    "Podemos hacer las mismas observaciones que ya hemos estado comentando, pero esta vez relacionándolas con este histograma.\n",
    "\n",
    "Lo primero que notamos es que hay barras azules en todos los intervalos del histograma entre 0% y 50%. Esto nos indica claramente que todos los países de ingreso bajo tienen a lo mucho un 50% de su población como usuarios de Internet. También las frecuencias más altas de estos países en azul están entre el 5% y 35%, diciéndonos que para los países de ingreso bajo es raro que se acerquen incluso a tener un 50% de usuarios de Internet.\n",
    "\n",
    "Pasando a los países de ingreso medio, lo que observamos es que tienen barras a lo largo de casi todo el histograma. Lo distinguible es que las barras de mayor tamaño se encuentran entre el 45% y el 80%. Luego hay barras de tamaño \"mediano\" entre el 20% y 45%. Fuera de esos rangos, las barras naranjas comienzan a ser muy pequeñas. Lo que esto nos indica es que para países de ingreso medio lo más probable es que tengan un porcentaje de usuarios de Internet entre el 45% y 80%; pero aunque sea en casos muy raros pueden tener un porcentaje muy pequeño o uno muy alto.\n",
    "\n",
    "Terminando con los países de ingreso alto, notemos que sus barras comienzan a aparecer en el 50% y llegan hasta el 100%. También, las barras se vuelven muy grandes a partir del 80%. Luego entre 70% y 80% son medianas; y entre 50% y 70% las barras son muy pequeñas. Esto nos dice que para los países de ingreso alto es muy común tener un porcentaje de usuarios de Internet entre el 80% y 100%; y que es poco común para uno de ellos tener menos del 70% de usuarios. Y ya no existe ni un solo país de ingreso alto que tenga un porcentaje de usuarios menor a 50%.\n",
    "\n",
    "Una última forma de visualizar los datos es con polígonos de frecuencia. El comportamiento de estos será muy similar al del histograma que hicimos, pero esta vez los valores de las frecuencias de las categorías no se encimarán unas sobre las otras. Ahora el valor total en el eje *y* que veamos no será el de la frecuencia total de las tres categorías, sino el de una sola. Ya la categoría la identificamos por el color de la línea. Esto se ve como se muestra a continuación:"
   ]
  },
  {
   "cell_type": "code",
   "execution_count": 42,
   "id": "intelligent-uncertainty",
   "metadata": {},
   "outputs": [
    {
     "data": {
      "image/png": "[encoded data removed]",
      "text/plain": [
       "<Figure size 432x288 with 1 Axes>"
      ]
     },
     "metadata": {
      "needs_background": "light"
     },
     "output_type": "display_data"
    }
   ],
   "source": [
    "# Ingreso alto\n",
    "sns.histplot(data = df_pi_gdp.loc[df_pi_gdp['gdp'] == \"Ingreso alto\", 'porcentaje_internet'],\n",
    "             bins = bins,\n",
    "            element = 'poly',\n",
    "            fill = False,\n",
    "            color = 'green',\n",
    "            label = 'Ingreso alto')\n",
    "\n",
    "#Ingreso medio\n",
    "sns.histplot(data = df_pi_gdp.loc[df_pi_gdp['gdp'] == \"Ingreso medio\", 'porcentaje_internet'],\n",
    "             bins = bins,\n",
    "            element = 'poly',\n",
    "            fill = False,\n",
    "            color = 'orange',\n",
    "            label = 'Ingreso medio')\n",
    "\n",
    "#Ingreso bajo\n",
    "sns.histplot(data = df_pi_gdp.loc[df_pi_gdp['gdp'] == \"Ingreso bajo\", 'porcentaje_internet'],\n",
    "             bins = bins,\n",
    "            element = 'poly',\n",
    "            fill = False,\n",
    "            color = 'blue',\n",
    "            label = \"Ingreso bajo\")\n",
    "\n",
    "plt.title(\"Relación: Usuarios de Internet - GDP\", size = 18)\n",
    "\n",
    "plt.tick_params(axis=\"x\", labelsize=12, rotation = 0)\n",
    "plt.tick_params(axis=\"y\", labelsize=12)\n",
    "\n",
    "plt.gca().xaxis.set_major_formatter(mtick.PercentFormatter())\n",
    "plt.gca().yaxis.set_major_locator(MaxNLocator(integer=True))\n",
    "plt.gca().spines['top'].set_visible(False)\n",
    "plt.gca().spines['right'].set_visible(False)\n",
    "\n",
    "plt.xlabel('Usuarios de Internet (porcentaje)', size=12)\n",
    "plt.ylabel('Frecuencia', size = 15)\n",
    "\n",
    "plt.legend(title=\"GDP\")\n",
    "plt.title(\"Relación: Usuarios de Internet - GDP\", size = 18)\n",
    "plt.show()"
   ]
  },
  {
   "cell_type": "markdown",
   "id": "aboriginal-roman",
   "metadata": {},
   "source": [
    "Sucede justo lo mismo que ya hemos mencionado con el histograma de frecuencia. Pero además de mostrarnos lo que ya vimos en el histograma, tenemos una ventaja adicional en esta figura: es totalmente reconocible en qué rango predomina cada categoría de GDP. Como ahora las frecuencias no están encimadas, podemos comparar los valores que hay en todas las categorías sin mayor dificultad.\n",
    "\n",
    "Notemos como la mayoría de los datos entre el 0% y el 30% le pertenecen a los países con ingreso bajo. Los países de ingreso medio predominan en los porcentajes de usuarios entre un 30% y 75% (siendo así los que predominan en el rango de porcentajes más amplio). De 75% en adelante está más que claro que la mayoría de los países son de ingreso alto.\n",
    "\n",
    "También es notable, como en las observaciones del histograma, que sigue habiendo países de ingreso medio con porcentajes entre 0% y 30%, pero en menor medida que los de ingreso bajo. Hay países de ingreso bajo entre el 30% y 50%, aunque son menos comunes que los de ingreso medio en este mismo rango. Pasa una situación similar en el rango 50% y 75% para los países de ingreso alto y medio. Por último, los de ingreso medio también aparecen entre 75% y 95%, pero no aparecen tanto aquí como los países de ingreso alto.\n",
    "\n",
    "Algo interesante de observar es la distribución de la frecuencia de los porcentajes. Notemos cómo aproximadamente en el centro de los rangos donde predomina cada categoría, ésta misma tiene un punto máximo. Hacia los lados del máximo la distribución de la frecuencia empieza a decrecer hasta llegar al límite del rango o bajar hasta 0.\n",
    "\n",
    "Por ejemplo, vemos cómo el polígono de frecuencia del ingreso bajo tiene su punto de máximo de frecuencia más o menos en el medio del intervalo donde predomina (0% - 30%) y ya va decreciendo hacia los lados. Como está en la esquina izquierda, pues su decrecimiento se detiene pronto conforme avanzamos hacia la izquierda; pero hacia la derecha decrece de tal forma que llega hasta frecuencia 0 al alcanzar prácticamente el 50%.\n",
    "\n",
    "El caso del polígono de frecuencia del ingreso medio presenta algo similar. Solo que esta vez, como se encuentra en el medio, su decrecimiento no se ve interrumpido por el límite del rango del porcentaje y se expande hacia los dos lados del dominio. Este comportamiento le permite abarcar prácticamente todo el rango de porcentajes disponible (con la excepción de valores mayores a 95%). Parece aproximadamente una distribución de tipo normal.\n",
    "\n",
    "Y el caso de los países de ingreso alto, es igual que con los de ingreso bajo. Las únicas diferencias son que ahora se encuentra en la sección elevada de los porcentajes, que su punto máximo inicial es mucho mayor y su decrecimiento es más rápido. \n",
    "\n",
    "**Respuestas**\n",
    "\n",
    "Ya que analizamos y graficamos la relación de los datos entre el porcentaje de usuarios de Internet y el nivel de ingreso económico en términos de GDP, podemos llegar a ciertas conclusiones para responder las preguntas planteadas al inicio.\n",
    "\n",
    "1. ¿Existe alguna relación entre el GDP (PIB) de un país, en términos de su poder adquisitivo, y su porcentaje de usuarios de Internet?\n",
    "\n",
    "Sí existe una relación entre el GDP de un país y el porcentaje de usuarios de Internet. Como observamos en las gráficas que hicimos, los países con GDP de ingreso bajo tienden a tener porcentajes de usuarios bajos también (la mayoría de estos estando entre el 5% y 30%). Esto los vuelve los países con menor uso de Internet para sus habitantes de todas las categorías.\n",
    "\n",
    "Los países con ingreso alto, tienden en su mayoría a tener un porcentaje alto (entre 70% y 100%). Solo una minoría de estos presenta porcentajes entre 50% y 70%. Haciendo a esta categoría a aquella con los porcentajes de usuarios de Internet más elevados de todo el conjunto de datos.\n",
    "\n",
    "Los países con ingreso medio tienen porcentajes en casi todos los rangos, pero en su mayoría se concentran en un rango medio entre los rangos de las otras categorías. En general, sus porcentajes de usuario predominan sobre las otras categorías entre el 30% y 75% de usuarios de Internet.\n",
    "\n",
    "Con esto, concluimos que la relación entre estas dos variables es parecida o aproximada a una correlación positiva. Esto nos indica a que conforme aumenta el valor de una variable, la otra también aumenta; si disminuye, la otra hace lo mismo. Esto no lo vemos tal cual con valores continuos, pero es notable con la variable categórica de GDP y la continua del porcentaje. Vemos que los porcentajes de usuarios de Internet más bajos suelen pertenecer en su mayoría a los países de ingreso económico bajo; los porcentajes en rango medio a los de ingreso económico medio; y los porcentajes más altos le pertenecen mayormente a los países de mayor ingreso económico.\n",
    "\n",
    "2. ¿Además, la tendencia resulta similar para países con ingreso económico bajo, mediano y alto?\n",
    "\n",
    "Sí, recordemos por nuestra respuesta anterior que: a mayor GDP, mayor será la probabilidad de tener un porcentaje alto de usuarios de internet; a menor GDP, mayor probabilidad de tener un porcentaje bajo de usuarios de Internet. Esto sucede para todas nuestras tres categorías de ingresos con porcentajes bajos, medios y altos de usuario relacionados con GDPs de ingreso bajo, medio y alto respectivamente.\n",
    "\n",
    "Pero esto no es una afirmación total debido a que estamos haciendo generalizaciones basadas en los rangos donde se enfocaban la mayoría de los porcentajes de usuarios de los países de cada categoría. Lo que hay que tomar en consideración es que puede haber países de ingreso económico bajo con un porcentaje medio; países de ingreso económico medio con porcentajes de usuarios de Internet bajos y altos; y finalmente, países de ingreso económico alto con porcentajes de usuarios de Internet en rangos medios. Sin embargo, todos estos casos que acabamos de mencionar resultan ser la minorías en estos rangos. Recordando el polígono de frecuencias, cada categoría de ingreso económico predominaba en determinada región, pero esta empezaba a decrecer y tener menor frecuencia en los rangos de las otras categorías.\n",
    "\n",
    "Algo que cabe resaltar es que esta tendencia, a pesar de cumplirse, no se va a distribuir en intervalos iguales a lo largo del dominio de porcentajes. Primero tenemos la región donde aparecen principalmente países de ingreso bajo: 0% - 30%, la cual abarca un 30% de nuestro dominio. Luego está la sección para donde predominan los países de ingreso medio: 30% - 75%, aquí se va un 45% de nuestro dominio total. Al final están los países de ingreso alto que abarcan el menor rango de porcentajes disponible: 75% - 100%, el cual da un total del 25%. Esto nos indica que la tendencia se distribuye en intervalos irregulares, siendo del 30%, 45% y 25% para ingresos económicos, bajos, medios y altos respectivamente.\n",
    "\n",
    "Considerando todo esto, concluimos, que a pesar de que el porcentaje de usuarios de Internet en distintas categorías de poder adquisitivo pueda llegar a ser similar entre ellas, va a haber regiones para cada una de ellas donde va a predominar más. siendo así que determinan de manera general el poder adquisitivo de un país basado en la región que se encuentre el porcentaje. Este comportamiento termina definiendo la zona de mayor frecuencia para cada categoría. Formando de esta manera una partición en tres intervalos irregulares del rango de porcentajes, donde cada uno pertenece a una categoría de poder adquisitivo ya mencionado anteriormente. Dándonos de esta forma una tendencia (de aproximados y distintos tamaños de rango para cada categoría) definida por lo siguiente:\n",
    "\n",
    "Si (porcentaje de usuarios de Internet de un país = PI):\n",
    "\n",
    "1. 0%$\\leq$PI$<$30%: probablemente será un país con un GDP de ingreso bajo.\n",
    "2. 30% $\\leq$ PI $<$ 75%: probablemente será un país con un GDP de ingreso medio.\n",
    "3. 75% $\\leq$ PI $\\leq$ 100%: probablemente será un país con un GDP  de ingreso alto."
   ]
  },
  {
   "cell_type": "markdown",
   "id": "reasonable-synthetic",
   "metadata": {},
   "source": [
    "## Conclusiones\n",
    "\n",
    "A partir de los datos que obtuvimos, las gráficas que hicimos y las interpretaciones realizada podemos decir que el GDP de un país en términos de poder adquisitivo sí tiene una relación con el porcentaje de usuarios de Internet que tiene; vimos que era algo similar al comportamiento de una correlación positiva. Esto lo observamos en todas nuestras figuras, viendo cómo hay ciertos rangos de porcentajes donde es más común encontrarnos con alguna categoría de ingreso económico que con otras. De esta forma fue posible observar una tendencia que nos permitía hacer una generalización donde definíamos a partir de un porcentaje de usuarios de Internet de un país, cuál era el nivel de ingreso económico más probable de éste. \n",
    "\n",
    "Pienso que todo el desarrollo de este proyecto me dejó aprendizajes de distintos elementos necesarios para hacer un manejo de datos a nivel introductorio.\n",
    "\n",
    "El primer reto fue el de obtener nuestros datos. Ahora que ya no se me dio un conjunto de datos directamente, fue necesario aprender a utilizar una nueva herramienta: **Scrapy**. Esta resultó muy útil para poder entrar a la página del CIA y obtener toda la información que pudiera de los países. Para llevarlo acabo, una de las partes más importantes fue estar navegando por todas las secciones de la página que parecieran de utilidad y determinar qué rutas tomar para extraer los datos. \n",
    "\n",
    "En este caso tenía la opción de ir por la sección propuesta inicialmente en el problema, que consistía de una lista de países que se presentaban dinámicamente en la página. Pero gracias a la búsqueda que hice, pude encontrar un camino alternativo por la página inicial que me permitió entrar a las regiones del mundo y así tuve acceso a la lista de países sin necesidad de tener que lidiar con un proceso de Scraping pensado para sitios web dinámicos.\n",
    "\n",
    "Siguiendo con el proceso de **Scrapy**, otro aspecto importante fue el de encontrar todos los *xpath* que definían el lugar donde encontrábamos el dato que buscábamos en la página de un país. Desafortunadamente, un problema que hubo con esto fue que había algunos datos que no seguían el mismo patrón en su formato, algunos elementos carecían datos y otros daban información distinta a la solicitada (a pesar de que tuvieran el mismo *xpath*). Un caso donde sucedió esto fue en el de los datos de **tasa_de_cambio**, donde casi todos los países tenían este dato definido en el segundo párrafo de una sección de la página; pero había unos casos poco comunes donde esta misma sección tenía un solo párrafo con un solo enunciado que solo describía la moneda que usaban. Para no tener tantos problemas con estos casos, fue necesario ir haciendo revisiones y ajustes a los datos que extraíamos de esta sección para determinar si usar un valor específico que dependía de lo que decía el enunciado, o quedarnos con lo que establece normalmente el segundo párrafo en casi todos los demás países.\n",
    "\n",
    "Otro problema presente con los datos que obtuvimos, fue que la sección de donde agarrábamos la lista de los países, tenía entre ellos regiones que no eran países, secciones de océanos y organizaciones. Por ejemplo, terminamos obteniendo datos de la Unión Europea y del Territorio Británico del Océano Índico. Lo más que pudimos hacer en este caso, fue ignorar la sección que definía al mundo entero como una entidad en el *xpath* que usamos para la lista de las regiones que visitábamos. Fuera de eso, ya sería necesario buscar ciertas características en los datos que nos permitan distinguir a los atípicos entre ellos y así poder quitarlos de la lista de países. Este proceso ya no fue realizado en este proyecto.\n",
    "\n",
    "Ya que hicimos el proceso de obtención de datos, el siguiente paso fue el de Data Wrangling. Como los datos que extraímos con **Scrapy** venían en **strings** con símbolos, valores numéricos y texto, fue necesario remover todo lo innecesario y quedarnos con los números que íbamos a utilizar para el análisis de los datos. Aquí fue necesario observar de manera general los patrones que seguían los datos de cada columna, identificar cómo se definían y detectar casos anormales para determinar qué hacer con su información. A partir de esto, pude obtener los datos numéricos de casi todos los datos, considerar excepciones y volver nulos a aquellos valores que consideraba como incompletos o definidos de manera inconveniente.\n",
    "\n",
    "Estos dos pasos de Scraping y Data Wrangling fueron esenciales para llegar a la última parte de nuestro proyecto: graficación e interpretación de los datos. En esta sección del proyecto encontramos la parte más interesante de todo lo que hicimos previamente. Ahora podemos obtener información a partir de todo el conjunto de información que obtuvimos con la ayuda de distintas herramientas. Nuestro apoyo principal fueron las gráficas ofrecidas por **matplotlib** y **seaborn**, y como vimos puede haber varias maneras de graficar una relación entre dos de nuestras variables.\n",
    "\n",
    "Hicimos gráficas de **swarm**, **box**, **violin**, histogramas y polígonos de frecuencia. Cada uno aportando a su manera información sobre la relación que hay entre el porcentaje de usuarios de Internet y el poder adquisitivo de un país. Algo que tuvimos que ir siguiendo fueron los 4 principios de visualización de datos de Edward R. Tuffle.\n",
    "\n",
    "Comenzamos con gráficas que nos daban ideas generales del comportamiento de los datos, en este caso las **swarm**. Luego pasamos a una representación que en mi opinión visualiza de mejor manera la relación que hay entre la variable categórica y la variable continua que teníamos: las gráficas de caja y violín. En estas dos podíamos observar cuáles eran los porcentajes de usuarios de Internet más comunes para los países de distintos niveles de ingreso económico, dándonos así más detalles en la relación de estas dos variables. \n",
    "\n",
    "Terminamos con gráficas donde observábamos la frecuencia de los porcentajes para países de distintos GDP en histogramas y polígonos de frecuencia. Ambas aportando nuevas caracterísitcas al comportamiento de los datos que no eran tan evidentes en las gráficas anteriores. En estas podíamos observar los rangos de porcentajes más comunes, la distribución de los rangos de porcentajes de cada categoría y lo más importante fue que establecimos los intervalos donde cada categoría de ingreso era la más predominante; permitiéndonos así definir con mayor precisión la tendencia que había al relacionar un porcentaje de usuarios de Internet y su categoría de GDP. Personalmente, creo que entre estas dos gráficas, la que mejor expresaba esta información era la de los polígonos de frecuencia porque podíamos observar mejor las tendencias de cada nivel de ingreso sin que las frecuencias se encimaran entre ellas (como ocurría en el histograma de frecuencias).\n",
    "\n",
    "En conclusión, todos estos pasos (Scraping, Data Wrangling, graficación e inerpretación) son fundamentales para llegar a obtener información de un gran conjunto de datos. Cada uno de ellos conlleva el uso de distintas metodologías, herramientas y aprendizajes; pero en conjunto nos dan resultados que abren mucho espacio para el análisis de datos."
   ]
  },
  {
   "cell_type": "code",
   "execution_count": null,
   "id": "monthly-ribbon",
   "metadata": {},
   "outputs": [],
   "source": []
  }
 ],
 "metadata": {
  "kernelspec": {
   "display_name": "Python 3",
   "language": "python",
   "name": "python3"
  },
  "language_info": {
   "codemirror_mode": {
    "name": "ipython",
    "version": 3
   },
   "file_extension": ".py",
   "mimetype": "text/x-python",
   "name": "python",
   "nbconvert_exporter": "python",
   "pygments_lexer": "ipython3",
   "version": "3.8.8"
  }
 },
 "nbformat": 4,
 "nbformat_minor": 5
}
